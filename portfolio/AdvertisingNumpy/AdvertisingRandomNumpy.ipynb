{
  "cells": [
    {
      "cell_type": "markdown",
      "metadata": {
        "id": "view-in-github",
        "colab_type": "text"
      },
      "source": [
        "<a href=\"https://colab.research.google.com/github/GriffsKode/griffskode.github.io/blob/main/portfolio/AdvertisingNumpy/AdvertisingRandomNumpy.ipynb\" target=\"_parent\"><img src=\"https://colab.research.google.com/assets/colab-badge.svg\" alt=\"Open In Colab\"/></a>"
      ]
    },
    {
      "cell_type": "markdown",
      "metadata": {
        "deletable": false,
        "editable": false,
        "nbgrader": {
          "checksum": "d0f193633ce91d02efa1389ef0f12162",
          "grade": false,
          "grade_id": "cell-6f12e9067a3a7aa7",
          "locked": true,
          "schema_version": 1,
          "solution": false
        },
        "id": "JC9PjqfBFwqr"
      },
      "source": [
        "## Exploring Covariance of Randomly Generated Data and Sales Data with Numpy."
      ],
      "id": "JC9PjqfBFwqr"
    },
    {
      "cell_type": "markdown",
      "metadata": {
        "deletable": false,
        "editable": false,
        "nbgrader": {
          "checksum": "6c80557147b59f6d0a5fc76dafc97bd7",
          "grade": false,
          "grade_id": "cell-5f8ce257452ad4a4",
          "locked": true,
          "schema_version": 1,
          "solution": false
        },
        "id": "JZTAB3MpFwqw"
      },
      "source": [
        "###### Covariance and correlation are statistical tools that can help highlight the differences and similarities of variables.\n",
        "###### Covariance helps determine how variables differ, while correlation can be used to determine how varaibles are similar.\n",
        "###### Correlation for this exercise is limited between -1 and 1, while covariance is not.\n",
        "\n",
        "\n",
        "### A covariance matrix shows the distribution magnitude and direction of multivariate data by calculating the covariance each pair of variables.  \n",
        "##### More information can be found here: https://builtin.com/data-science/covariance-matrix\n",
        "###### A simple covariance matrix of two random variables is represented below:\n"
      ],
      "id": "JZTAB3MpFwqw"
    },
    {
      "cell_type": "code",
      "execution_count": 56,
      "metadata": {
        "deletable": false,
        "editable": false,
        "nbgrader": {
          "checksum": "7543f6d59a173c5fe7cefc82d66112f4",
          "grade": false,
          "grade_id": "cell-e190caf6c096b8e4",
          "locked": true,
          "schema_version": 1,
          "solution": false
        },
        "id": "os8U-uRUFwqx",
        "outputId": "c8b5d577-35d0-4aaf-ea51-7b771b38e6b2",
        "colab": {
          "base_uri": "https://localhost:8080/"
        }
      },
      "outputs": [
        {
          "output_type": "stream",
          "name": "stdout",
          "text": [
            "Covariance Matrix of Two Random Variables: \n",
            "----------  ----------\n",
            "Var(A)      Covar(A,B)\n",
            "Covar(B,A)  Var(B)\n",
            "----------  ----------\n"
          ]
        }
      ],
      "source": [
        "# First we will import the necessary libraries for this exercise\n",
        "from tabulate import tabulate\n",
        "import matplotlib.pyplot as pyplot\n",
        "import random\n",
        "import matplotlib.pyplot as pyplot\n",
        "import numpy as np\n",
        "from numpy import loadtxt\n",
        "import numpy.random as rnd\n",
        "import pandas as pd\n",
        "\n",
        "\n",
        "# Next we print the covariance matrix of two random variables. The Covar(A,B) is equal to Covar(B,A), because it does not matter the order you calculate it:\n",
        "print(\"Covariance Matrix of Two Random Variables: \")\n",
        "matrix = [\n",
        "[\"Var(A) \", \"Covar(A,B)\" ],\n",
        "[\"Covar(B,A) \",\"Var(B)\" ]]\n",
        "\n",
        "# Print using the tabulate library\n",
        "print (tabulate(matrix))\n"
      ],
      "id": "os8U-uRUFwqx"
    },
    {
      "cell_type": "markdown",
      "metadata": {
        "deletable": false,
        "editable": false,
        "nbgrader": {
          "checksum": "d8f55a0e75bdb921027366a2d61dcd4e",
          "grade": false,
          "grade_id": "cell-5af6f8fc54d4ecc0",
          "locked": true,
          "schema_version": 1,
          "solution": false
        },
        "id": "BiBcDgl2Fwqz"
      },
      "source": [
        "###### Numpy is used to find and print the covarience matrix of the random variables contained in A and B, when the bias is set to false."
      ],
      "id": "BiBcDgl2Fwqz"
    },
    {
      "cell_type": "code",
      "execution_count": 57,
      "metadata": {
        "deletable": false,
        "nbgrader": {
          "checksum": "189a1e0e3759be2df463c6e3517cbb28",
          "grade": false,
          "grade_id": "cell-a3ba356eba0f442d",
          "locked": false,
          "schema_version": 1,
          "solution": true
        },
        "id": "hdqug15PFwq0"
      },
      "outputs": [],
      "source": [
        "# Data is assigned to A and B\n",
        "\n",
        "A = [45,37,42,35,39]\n",
        "B = [38,31,26,28,33]\n",
        "\n",
        "# The variable \"covMatrix1\" is created to hold the Numpy covarience matrix with bias set to false.\n",
        "covMatrix1 = np.cov(A, B, bias=False)"
      ],
      "id": "hdqug15PFwq0"
    },
    {
      "cell_type": "code",
      "execution_count": 58,
      "metadata": {
        "deletable": false,
        "editable": false,
        "nbgrader": {
          "checksum": "0c9233d8a3421c7ddabe962ba19a6321",
          "grade": true,
          "grade_id": "cell-a727d74942b99c7b",
          "locked": true,
          "points": 2,
          "schema_version": 1,
          "solution": false
        },
        "id": "muJVDHVkFwq0",
        "colab": {
          "base_uri": "https://localhost:8080/"
        },
        "outputId": "16850056-0886-4c41-b606-e18b2e334e34"
      },
      "outputs": [
        {
          "output_type": "stream",
          "name": "stdout",
          "text": [
            "[[15.8  9.6]\n",
            " [ 9.6 21.7]]\n"
          ]
        }
      ],
      "source": [
        "print(covMatrix1)"
      ],
      "id": "muJVDHVkFwq0"
    },
    {
      "cell_type": "markdown",
      "metadata": {
        "deletable": false,
        "editable": false,
        "nbgrader": {
          "checksum": "c1917b73f58d519637fc9f24d0b6a7b9",
          "grade": false,
          "grade_id": "cell-4ec6eff85b553234",
          "locked": true,
          "schema_version": 1,
          "solution": false
        },
        "id": "cVi2ImS-Fwq0"
      },
      "source": [
        "###### Now we use the same function on three random variables by creating a numpy array"
      ],
      "id": "cVi2ImS-Fwq0"
    },
    {
      "cell_type": "code",
      "execution_count": 59,
      "metadata": {
        "deletable": false,
        "nbgrader": {
          "checksum": "358f3dda9cdb2185e3d4bf546d9079f6",
          "grade": false,
          "grade_id": "cell-6d85f0567c517bad",
          "locked": false,
          "schema_version": 1,
          "solution": true
        },
        "id": "Twk7WgImFwq1"
      },
      "outputs": [],
      "source": [
        "# Data is now assigned to A, B, and C\n",
        "A = [45,37,42,35,39]\n",
        "B = [38,31,26,28,33]\n",
        "C = [10,15,17,21,12]\n",
        "\n",
        "# The data is arranged into a numpy array with np.stack\n",
        "X = np.stack((A,B,C), axis=0)\n",
        "\n",
        "# The variable \"covMatrix2\" is assigned to the Numpy covariance matrix with bias set to false.\n",
        "covMatrix2 = np.cov(X, bias=False)\n"
      ],
      "id": "Twk7WgImFwq1"
    },
    {
      "cell_type": "code",
      "execution_count": 60,
      "metadata": {
        "deletable": false,
        "editable": false,
        "nbgrader": {
          "checksum": "0963a04120aa0769a0471e949fc6a086",
          "grade": true,
          "grade_id": "cell-2a415a1e7ee47ee8",
          "locked": true,
          "points": 2,
          "schema_version": 1,
          "solution": false
        },
        "id": "NUSFaIudFwq1",
        "colab": {
          "base_uri": "https://localhost:8080/"
        },
        "outputId": "6ee9655b-4eeb-4a84-c29f-ec4ac1e31220"
      },
      "outputs": [
        {
          "output_type": "stream",
          "name": "stdout",
          "text": [
            "[[ 15.8    9.6  -12.  ]\n",
            " [  9.6   21.7  -17.25]\n",
            " [-12.   -17.25  18.5 ]]\n"
          ]
        }
      ],
      "source": [
        "print(covMatrix2)"
      ],
      "id": "NUSFaIudFwq1"
    },
    {
      "cell_type": "markdown",
      "metadata": {
        "deletable": false,
        "editable": false,
        "nbgrader": {
          "checksum": "5b23c8629d5adbb3d18678f5e19a5c21",
          "grade": false,
          "grade_id": "cell-6baba60d35b7a3b8",
          "locked": true,
          "schema_version": 1,
          "solution": false
        },
        "id": "YQDgEKmIFwq2"
      },
      "source": [
        "###### Random data is generated and assigned to data1 and data2. The mean and standard deviations of the random data are calculated, as well as the random variables are displayed on a scatter plot."
      ],
      "id": "YQDgEKmIFwq2"
    },
    {
      "cell_type": "code",
      "execution_count": 61,
      "metadata": {
        "deletable": false,
        "nbgrader": {
          "checksum": "0a86e838049d426b7a51424faf83bd72",
          "grade": false,
          "grade_id": "cell-aae3f6bea1033e9e",
          "locked": false,
          "schema_version": 1,
          "solution": true
        },
        "id": "oRzFO4SqFwq2",
        "outputId": "7d2956b5-09de-4066-977a-613646ee56ed",
        "colab": {
          "base_uri": "https://localhost:8080/",
          "height": 507
        }
      },
      "outputs": [
        {
          "output_type": "display_data",
          "data": {
            "text/plain": [
              "<Figure size 640x480 with 1 Axes>"
            ],
            "image/png": "[encoded data removed]"
          },
          "metadata": {}
        },
        {
          "output_type": "stream",
          "name": "stdout",
          "text": [
            "data1: mean=99.572 stdv=19.863\n",
            "data2: mean=519.430 stdv=10.833\n"
          ]
        }
      ],
      "source": [
        "# Random seed is set to 0 for data generation. This can be modified if desired.\n",
        "random.seed(0)\n",
        "\n",
        "# Prepare random data1 and data2\n",
        "# rnd.randn(1000): Generates 1000 samples from a standard normal distribution (mean = 0, standard deviation = 1).\n",
        "# 20 * rnd.randn(1000): Scales the generated samples by multiplying them by 20, which increases the standard deviation of the distribution to 20.\n",
        "# 20 * rnd.randn(1000) + 100: Adds 100 to each of the scaled samples, shifting the mean of the distribution to 100.\n",
        "# data1 is an array of 1000 samples from a normal distribution with a mean of 100 and a standard deviation of 20.\n",
        "data1 = 20 * rnd.randn(1000) + 100\n",
        "data2 = (data1 * .2 + (10 * rnd.randn(1000) + 500))\n",
        "\n",
        "# The mean and standard deviation of data1 and data2 are now assigned to mean1, std1, mean2, std2, respectively.\n",
        "mean1 = np.mean(data1)\n",
        "std1 = np.std(data1)\n",
        "mean2 = np.mean(data2)\n",
        "std2 = np.std(data2)\n",
        "\n",
        "# A scatter plot is created with data1 (x) and data2 (y) and the figure is plotted.\n",
        "fig = pyplot.scatter(data1, data2, color=\"green\")\n",
        "pyplot.title(\"Random Generated Data1 versus Data2\")\n",
        "pyplot.xlabel(\"Data1, x\")\n",
        "pyplot.ylabel(\"Data2, y\")\n",
        "pyplot.show()\n",
        "\n",
        "# The calculated mean and standard deviations are printed\n",
        "print('data1: mean=%.3f stdv=%.3f' % (mean1, std1))\n",
        "print('data2: mean=%.3f stdv=%.3f' % (mean2, std2))\n",
        "\n",
        "points = fig.get_offsets()"
      ],
      "id": "oRzFO4SqFwq2"
    },
    {
      "cell_type": "markdown",
      "metadata": {
        "deletable": false,
        "editable": false,
        "nbgrader": {
          "checksum": "3295ca62d31ee8436a793c9de9c77d50",
          "grade": false,
          "grade_id": "cell-50b31397648f57cf",
          "locked": true,
          "schema_version": 1,
          "solution": false
        },
        "id": "TYjUZI6zFwq3"
      },
      "source": [
        "## Next, we use numpy to determine if there is a correlation between the amount spend in advertising versus the total sales for the day.\n",
        "\n",
        "#### Advertising and sales data is loaded from the data.csv file.\n",
        "The csv file contains two columns, the column at the 0 index represents total amount spent on advertisement for a given day, the second column represents total sales for that same day. You will load in the file using numpy and display the two data fields as a scatter plot."
      ],
      "id": "TYjUZI6zFwq3"
    },
    {
      "cell_type": "code",
      "execution_count": 62,
      "metadata": {
        "deletable": false,
        "nbgrader": {
          "checksum": "fbe0ba9e8aa384116646af5cc33c124c",
          "grade": false,
          "grade_id": "cell-ce9d28e072774023",
          "locked": false,
          "schema_version": 1,
          "solution": true
        },
        "id": "n67i41V6Fwq3",
        "outputId": "94959687-ded3-4e18-9d3a-e5b8159d5909",
        "colab": {
          "base_uri": "https://localhost:8080/",
          "height": 940
        }
      },
      "outputs": [
        {
          "output_type": "stream",
          "name": "stdout",
          "text": [
            "[[135.28104692 108.00314417 119.57475968 ... 101.88384601  77.0477811\n",
            "   92.83771849]\n",
            " [532.61583618 530.52536771 519.6918037  ... 521.96110767 503.99054203\n",
            "  505.45783999]]\n"
          ]
        },
        {
          "output_type": "display_data",
          "data": {
            "text/plain": [
              "<Figure size 640x480 with 1 Axes>"
            ],
            "image/png": "[encoded data removed]"
          },
          "metadata": {}
        },
        {
          "output_type": "stream",
          "name": "stdout",
          "text": [
            "<class 'pandas.core.frame.DataFrame'>\n",
            "RangeIndex: 2 entries, 0 to 1\n",
            "Columns: 1000 entries, 0 to 999\n",
            "dtypes: float64(1000)\n",
            "memory usage: 15.8 KB\n"
          ]
        },
        {
          "output_type": "execute_result",
          "data": {
            "text/plain": [
              "         0      1      2      3      4      5      6      7      8      9    \\\n",
              "count    2.0    2.0    2.0    2.0    2.0    2.0    2.0    2.0    2.0    2.0   \n",
              "mean   333.9  319.3  319.6  337.4  333.6  299.3  324.1  299.1  308.5  316.1   \n",
              "std    281.0  298.8  282.9  272.4  277.5  309.5  290.1  285.8  297.8  294.0   \n",
              "min    135.3  108.0  119.6  144.8  137.4   80.5  119.0   97.0   97.9  108.2   \n",
              "25%    234.6  213.6  219.6  241.1  235.5  189.9  221.6  198.0  203.2  212.2   \n",
              "50%    333.9  319.3  319.6  337.4  333.6  299.3  324.1  299.1  308.5  316.1   \n",
              "75%    433.3  424.9  419.7  433.7  431.7  408.7  426.7  400.2  413.8  420.1   \n",
              "max    532.6  530.5  519.7  530.0  529.8  518.1  529.2  501.2  519.1  524.0   \n",
              "\n",
              "       ...    990    991    992    993    994    995    996    997    998  \\\n",
              "count  ...    2.0    2.0    2.0    2.0    2.0    2.0    2.0    2.0    2.0   \n",
              "mean   ...  322.0  308.4  307.0  311.3  314.5  315.4  314.6  311.9  290.5   \n",
              "std    ...  301.5  289.7  315.3  292.0  295.1  293.0  309.1  297.0  301.9   \n",
              "min    ...  108.8  103.6   84.0  104.8  105.8  108.3   96.0  101.9   77.0   \n",
              "25%    ...  215.4  206.0  195.5  208.0  210.1  211.9  205.3  206.9  183.8   \n",
              "50%    ...  322.0  308.4  307.0  311.3  314.5  315.4  314.6  311.9  290.5   \n",
              "75%    ...  428.6  410.9  418.5  414.5  418.8  419.0  423.9  416.9  397.3   \n",
              "max    ...  535.2  513.3  530.0  517.7  523.1  522.6  533.2  522.0  504.0   \n",
              "\n",
              "         999  \n",
              "count    2.0  \n",
              "mean   299.1  \n",
              "std    291.8  \n",
              "min     92.8  \n",
              "25%    196.0  \n",
              "50%    299.1  \n",
              "75%    402.3  \n",
              "max    505.5  \n",
              "\n",
              "[8 rows x 1000 columns]"
            ],
            "text/html": [
              "\n",
              "  <div id=\"df-bc9e7047-49f5-49d6-a58e-e2819c97021b\" class=\"colab-df-container\">\n",
              "    <div>\n",
              "<style scoped>\n",
              "    .dataframe tbody tr th:only-of-type {\n",
              "        vertical-align: middle;\n",
              "    }\n",
              "\n",
              "    .dataframe tbody tr th {\n",
              "        vertical-align: top;\n",
              "    }\n",
              "\n",
              "    .dataframe thead th {\n",
              "        text-align: right;\n",
              "    }\n",
              "</style>\n",
              "<table border=\"1\" class=\"dataframe\">\n",
              "  <thead>\n",
              "    <tr style=\"text-align: right;\">\n",
              "      <th></th>\n",
              "      <th>0</th>\n",
              "      <th>1</th>\n",
              "      <th>2</th>\n",
              "      <th>3</th>\n",
              "      <th>4</th>\n",
              "      <th>5</th>\n",
              "      <th>6</th>\n",
              "      <th>7</th>\n",
              "      <th>8</th>\n",
              "      <th>9</th>\n",
              "      <th>...</th>\n",
              "      <th>990</th>\n",
              "      <th>991</th>\n",
              "      <th>992</th>\n",
              "      <th>993</th>\n",
              "      <th>994</th>\n",
              "      <th>995</th>\n",
              "      <th>996</th>\n",
              "      <th>997</th>\n",
              "      <th>998</th>\n",
              "      <th>999</th>\n",
              "    </tr>\n",
              "  </thead>\n",
              "  <tbody>\n",
              "    <tr>\n",
              "      <th>count</th>\n",
              "      <td>2.0</td>\n",
              "      <td>2.0</td>\n",
              "      <td>2.0</td>\n",
              "      <td>2.0</td>\n",
              "      <td>2.0</td>\n",
              "      <td>2.0</td>\n",
              "      <td>2.0</td>\n",
              "      <td>2.0</td>\n",
              "      <td>2.0</td>\n",
              "      <td>2.0</td>\n",
              "      <td>...</td>\n",
              "      <td>2.0</td>\n",
              "      <td>2.0</td>\n",
              "      <td>2.0</td>\n",
              "      <td>2.0</td>\n",
              "      <td>2.0</td>\n",
              "      <td>2.0</td>\n",
              "      <td>2.0</td>\n",
              "      <td>2.0</td>\n",
              "      <td>2.0</td>\n",
              "      <td>2.0</td>\n",
              "    </tr>\n",
              "    <tr>\n",
              "      <th>mean</th>\n",
              "      <td>333.9</td>\n",
              "      <td>319.3</td>\n",
              "      <td>319.6</td>\n",
              "      <td>337.4</td>\n",
              "      <td>333.6</td>\n",
              "      <td>299.3</td>\n",
              "      <td>324.1</td>\n",
              "      <td>299.1</td>\n",
              "      <td>308.5</td>\n",
              "      <td>316.1</td>\n",
              "      <td>...</td>\n",
              "      <td>322.0</td>\n",
              "      <td>308.4</td>\n",
              "      <td>307.0</td>\n",
              "      <td>311.3</td>\n",
              "      <td>314.5</td>\n",
              "      <td>315.4</td>\n",
              "      <td>314.6</td>\n",
              "      <td>311.9</td>\n",
              "      <td>290.5</td>\n",
              "      <td>299.1</td>\n",
              "    </tr>\n",
              "    <tr>\n",
              "      <th>std</th>\n",
              "      <td>281.0</td>\n",
              "      <td>298.8</td>\n",
              "      <td>282.9</td>\n",
              "      <td>272.4</td>\n",
              "      <td>277.5</td>\n",
              "      <td>309.5</td>\n",
              "      <td>290.1</td>\n",
              "      <td>285.8</td>\n",
              "      <td>297.8</td>\n",
              "      <td>294.0</td>\n",
              "      <td>...</td>\n",
              "      <td>301.5</td>\n",
              "      <td>289.7</td>\n",
              "      <td>315.3</td>\n",
              "      <td>292.0</td>\n",
              "      <td>295.1</td>\n",
              "      <td>293.0</td>\n",
              "      <td>309.1</td>\n",
              "      <td>297.0</td>\n",
              "      <td>301.9</td>\n",
              "      <td>291.8</td>\n",
              "    </tr>\n",
              "    <tr>\n",
              "      <th>min</th>\n",
              "      <td>135.3</td>\n",
              "      <td>108.0</td>\n",
              "      <td>119.6</td>\n",
              "      <td>144.8</td>\n",
              "      <td>137.4</td>\n",
              "      <td>80.5</td>\n",
              "      <td>119.0</td>\n",
              "      <td>97.0</td>\n",
              "      <td>97.9</td>\n",
              "      <td>108.2</td>\n",
              "      <td>...</td>\n",
              "      <td>108.8</td>\n",
              "      <td>103.6</td>\n",
              "      <td>84.0</td>\n",
              "      <td>104.8</td>\n",
              "      <td>105.8</td>\n",
              "      <td>108.3</td>\n",
              "      <td>96.0</td>\n",
              "      <td>101.9</td>\n",
              "      <td>77.0</td>\n",
              "      <td>92.8</td>\n",
              "    </tr>\n",
              "    <tr>\n",
              "      <th>25%</th>\n",
              "      <td>234.6</td>\n",
              "      <td>213.6</td>\n",
              "      <td>219.6</td>\n",
              "      <td>241.1</td>\n",
              "      <td>235.5</td>\n",
              "      <td>189.9</td>\n",
              "      <td>221.6</td>\n",
              "      <td>198.0</td>\n",
              "      <td>203.2</td>\n",
              "      <td>212.2</td>\n",
              "      <td>...</td>\n",
              "      <td>215.4</td>\n",
              "      <td>206.0</td>\n",
              "      <td>195.5</td>\n",
              "      <td>208.0</td>\n",
              "      <td>210.1</td>\n",
              "      <td>211.9</td>\n",
              "      <td>205.3</td>\n",
              "      <td>206.9</td>\n",
              "      <td>183.8</td>\n",
              "      <td>196.0</td>\n",
              "    </tr>\n",
              "    <tr>\n",
              "      <th>50%</th>\n",
              "      <td>333.9</td>\n",
              "      <td>319.3</td>\n",
              "      <td>319.6</td>\n",
              "      <td>337.4</td>\n",
              "      <td>333.6</td>\n",
              "      <td>299.3</td>\n",
              "      <td>324.1</td>\n",
              "      <td>299.1</td>\n",
              "      <td>308.5</td>\n",
              "      <td>316.1</td>\n",
              "      <td>...</td>\n",
              "      <td>322.0</td>\n",
              "      <td>308.4</td>\n",
              "      <td>307.0</td>\n",
              "      <td>311.3</td>\n",
              "      <td>314.5</td>\n",
              "      <td>315.4</td>\n",
              "      <td>314.6</td>\n",
              "      <td>311.9</td>\n",
              "      <td>290.5</td>\n",
              "      <td>299.1</td>\n",
              "    </tr>\n",
              "    <tr>\n",
              "      <th>75%</th>\n",
              "      <td>433.3</td>\n",
              "      <td>424.9</td>\n",
              "      <td>419.7</td>\n",
              "      <td>433.7</td>\n",
              "      <td>431.7</td>\n",
              "      <td>408.7</td>\n",
              "      <td>426.7</td>\n",
              "      <td>400.2</td>\n",
              "      <td>413.8</td>\n",
              "      <td>420.1</td>\n",
              "      <td>...</td>\n",
              "      <td>428.6</td>\n",
              "      <td>410.9</td>\n",
              "      <td>418.5</td>\n",
              "      <td>414.5</td>\n",
              "      <td>418.8</td>\n",
              "      <td>419.0</td>\n",
              "      <td>423.9</td>\n",
              "      <td>416.9</td>\n",
              "      <td>397.3</td>\n",
              "      <td>402.3</td>\n",
              "    </tr>\n",
              "    <tr>\n",
              "      <th>max</th>\n",
              "      <td>532.6</td>\n",
              "      <td>530.5</td>\n",
              "      <td>519.7</td>\n",
              "      <td>530.0</td>\n",
              "      <td>529.8</td>\n",
              "      <td>518.1</td>\n",
              "      <td>529.2</td>\n",
              "      <td>501.2</td>\n",
              "      <td>519.1</td>\n",
              "      <td>524.0</td>\n",
              "      <td>...</td>\n",
              "      <td>535.2</td>\n",
              "      <td>513.3</td>\n",
              "      <td>530.0</td>\n",
              "      <td>517.7</td>\n",
              "      <td>523.1</td>\n",
              "      <td>522.6</td>\n",
              "      <td>533.2</td>\n",
              "      <td>522.0</td>\n",
              "      <td>504.0</td>\n",
              "      <td>505.5</td>\n",
              "    </tr>\n",
              "  </tbody>\n",
              "</table>\n",
              "<p>8 rows × 1000 columns</p>\n",
              "</div>\n",
              "    <div class=\"colab-df-buttons\">\n",
              "\n",
              "  <div class=\"colab-df-container\">\n",
              "    <button class=\"colab-df-convert\" onclick=\"convertToInteractive('df-bc9e7047-49f5-49d6-a58e-e2819c97021b')\"\n",
              "            title=\"Convert this dataframe to an interactive table.\"\n",
              "            style=\"display:none;\">\n",
              "\n",
              "  <svg xmlns=\"http://www.w3.org/2000/svg\" height=\"24px\" viewBox=\"0 -960 960 960\">\n",
              "    <path d=\"M120-120v-720h720v720H120Zm60-500h600v-160H180v160Zm220 220h160v-160H400v160Zm0 220h160v-160H400v160ZM180-400h160v-160H180v160Zm440 0h160v-160H620v160ZM180-180h160v-160H180v160Zm440 0h160v-160H620v160Z\"/>\n",
              "  </svg>\n",
              "    </button>\n",
              "\n",
              "  <style>\n",
              "    .colab-df-container {\n",
              "      display:flex;\n",
              "      gap: 12px;\n",
              "    }\n",
              "\n",
              "    .colab-df-convert {\n",
              "      background-color: #E8F0FE;\n",
              "      border: none;\n",
              "      border-radius: 50%;\n",
              "      cursor: pointer;\n",
              "      display: none;\n",
              "      fill: #1967D2;\n",
              "      height: 32px;\n",
              "      padding: 0 0 0 0;\n",
              "      width: 32px;\n",
              "    }\n",
              "\n",
              "    .colab-df-convert:hover {\n",
              "      background-color: #E2EBFA;\n",
              "      box-shadow: 0px 1px 2px rgba(60, 64, 67, 0.3), 0px 1px 3px 1px rgba(60, 64, 67, 0.15);\n",
              "      fill: #174EA6;\n",
              "    }\n",
              "\n",
              "    .colab-df-buttons div {\n",
              "      margin-bottom: 4px;\n",
              "    }\n",
              "\n",
              "    [theme=dark] .colab-df-convert {\n",
              "      background-color: #3B4455;\n",
              "      fill: #D2E3FC;\n",
              "    }\n",
              "\n",
              "    [theme=dark] .colab-df-convert:hover {\n",
              "      background-color: #434B5C;\n",
              "      box-shadow: 0px 1px 3px 1px rgba(0, 0, 0, 0.15);\n",
              "      filter: drop-shadow(0px 1px 2px rgba(0, 0, 0, 0.3));\n",
              "      fill: #FFFFFF;\n",
              "    }\n",
              "  </style>\n",
              "\n",
              "    <script>\n",
              "      const buttonEl =\n",
              "        document.querySelector('#df-bc9e7047-49f5-49d6-a58e-e2819c97021b button.colab-df-convert');\n",
              "      buttonEl.style.display =\n",
              "        google.colab.kernel.accessAllowed ? 'block' : 'none';\n",
              "\n",
              "      async function convertToInteractive(key) {\n",
              "        const element = document.querySelector('#df-bc9e7047-49f5-49d6-a58e-e2819c97021b');\n",
              "        const dataTable =\n",
              "          await google.colab.kernel.invokeFunction('convertToInteractive',\n",
              "                                                    [key], {});\n",
              "        if (!dataTable) return;\n",
              "\n",
              "        const docLinkHtml = 'Like what you see? Visit the ' +\n",
              "          '<a target=\"_blank\" href=https://colab.research.google.com/notebooks/data_table.ipynb>data table notebook</a>'\n",
              "          + ' to learn more about interactive tables.';\n",
              "        element.innerHTML = '';\n",
              "        dataTable['output_type'] = 'display_data';\n",
              "        await google.colab.output.renderOutput(dataTable, element);\n",
              "        const docLink = document.createElement('div');\n",
              "        docLink.innerHTML = docLinkHtml;\n",
              "        element.appendChild(docLink);\n",
              "      }\n",
              "    </script>\n",
              "  </div>\n",
              "\n",
              "\n",
              "<div id=\"df-e97c6699-718e-45b7-b984-aa55bdab7045\">\n",
              "  <button class=\"colab-df-quickchart\" onclick=\"quickchart('df-e97c6699-718e-45b7-b984-aa55bdab7045')\"\n",
              "            title=\"Suggest charts\"\n",
              "            style=\"display:none;\">\n",
              "\n",
              "<svg xmlns=\"http://www.w3.org/2000/svg\" height=\"24px\"viewBox=\"0 0 24 24\"\n",
              "     width=\"24px\">\n",
              "    <g>\n",
              "        <path d=\"M19 3H5c-1.1 0-2 .9-2 2v14c0 1.1.9 2 2 2h14c1.1 0 2-.9 2-2V5c0-1.1-.9-2-2-2zM9 17H7v-7h2v7zm4 0h-2V7h2v10zm4 0h-2v-4h2v4z\"/>\n",
              "    </g>\n",
              "</svg>\n",
              "  </button>\n",
              "\n",
              "<style>\n",
              "  .colab-df-quickchart {\n",
              "      --bg-color: #E8F0FE;\n",
              "      --fill-color: #1967D2;\n",
              "      --hover-bg-color: #E2EBFA;\n",
              "      --hover-fill-color: #174EA6;\n",
              "      --disabled-fill-color: #AAA;\n",
              "      --disabled-bg-color: #DDD;\n",
              "  }\n",
              "\n",
              "  [theme=dark] .colab-df-quickchart {\n",
              "      --bg-color: #3B4455;\n",
              "      --fill-color: #D2E3FC;\n",
              "      --hover-bg-color: #434B5C;\n",
              "      --hover-fill-color: #FFFFFF;\n",
              "      --disabled-bg-color: #3B4455;\n",
              "      --disabled-fill-color: #666;\n",
              "  }\n",
              "\n",
              "  .colab-df-quickchart {\n",
              "    background-color: var(--bg-color);\n",
              "    border: none;\n",
              "    border-radius: 50%;\n",
              "    cursor: pointer;\n",
              "    display: none;\n",
              "    fill: var(--fill-color);\n",
              "    height: 32px;\n",
              "    padding: 0;\n",
              "    width: 32px;\n",
              "  }\n",
              "\n",
              "  .colab-df-quickchart:hover {\n",
              "    background-color: var(--hover-bg-color);\n",
              "    box-shadow: 0 1px 2px rgba(60, 64, 67, 0.3), 0 1px 3px 1px rgba(60, 64, 67, 0.15);\n",
              "    fill: var(--button-hover-fill-color);\n",
              "  }\n",
              "\n",
              "  .colab-df-quickchart-complete:disabled,\n",
              "  .colab-df-quickchart-complete:disabled:hover {\n",
              "    background-color: var(--disabled-bg-color);\n",
              "    fill: var(--disabled-fill-color);\n",
              "    box-shadow: none;\n",
              "  }\n",
              "\n",
              "  .colab-df-spinner {\n",
              "    border: 2px solid var(--fill-color);\n",
              "    border-color: transparent;\n",
              "    border-bottom-color: var(--fill-color);\n",
              "    animation:\n",
              "      spin 1s steps(1) infinite;\n",
              "  }\n",
              "\n",
              "  @keyframes spin {\n",
              "    0% {\n",
              "      border-color: transparent;\n",
              "      border-bottom-color: var(--fill-color);\n",
              "      border-left-color: var(--fill-color);\n",
              "    }\n",
              "    20% {\n",
              "      border-color: transparent;\n",
              "      border-left-color: var(--fill-color);\n",
              "      border-top-color: var(--fill-color);\n",
              "    }\n",
              "    30% {\n",
              "      border-color: transparent;\n",
              "      border-left-color: var(--fill-color);\n",
              "      border-top-color: var(--fill-color);\n",
              "      border-right-color: var(--fill-color);\n",
              "    }\n",
              "    40% {\n",
              "      border-color: transparent;\n",
              "      border-right-color: var(--fill-color);\n",
              "      border-top-color: var(--fill-color);\n",
              "    }\n",
              "    60% {\n",
              "      border-color: transparent;\n",
              "      border-right-color: var(--fill-color);\n",
              "    }\n",
              "    80% {\n",
              "      border-color: transparent;\n",
              "      border-right-color: var(--fill-color);\n",
              "      border-bottom-color: var(--fill-color);\n",
              "    }\n",
              "    90% {\n",
              "      border-color: transparent;\n",
              "      border-bottom-color: var(--fill-color);\n",
              "    }\n",
              "  }\n",
              "</style>\n",
              "\n",
              "  <script>\n",
              "    async function quickchart(key) {\n",
              "      const quickchartButtonEl =\n",
              "        document.querySelector('#' + key + ' button');\n",
              "      quickchartButtonEl.disabled = true;  // To prevent multiple clicks.\n",
              "      quickchartButtonEl.classList.add('colab-df-spinner');\n",
              "      try {\n",
              "        const charts = await google.colab.kernel.invokeFunction(\n",
              "            'suggestCharts', [key], {});\n",
              "      } catch (error) {\n",
              "        console.error('Error during call to suggestCharts:', error);\n",
              "      }\n",
              "      quickchartButtonEl.classList.remove('colab-df-spinner');\n",
              "      quickchartButtonEl.classList.add('colab-df-quickchart-complete');\n",
              "    }\n",
              "    (() => {\n",
              "      let quickchartButtonEl =\n",
              "        document.querySelector('#df-e97c6699-718e-45b7-b984-aa55bdab7045 button');\n",
              "      quickchartButtonEl.style.display =\n",
              "        google.colab.kernel.accessAllowed ? 'block' : 'none';\n",
              "    })();\n",
              "  </script>\n",
              "</div>\n",
              "\n",
              "    </div>\n",
              "  </div>\n"
            ],
            "application/vnd.google.colaboratory.intrinsic+json": {
              "type": "dataframe"
            }
          },
          "metadata": {},
          "execution_count": 62
        }
      ],
      "source": [
        "# Data from the csv file is loaded using numpy's loadtext and assigned to \"data\".\n",
        "# The csv file data has 2 columns. The first column (0 index) is the total amount spent on advertisements in a day.\n",
        "# The second column (1 index) is the total sales for that day.\n",
        "# A scatter plot is created to visualize the data.\n",
        "\n",
        "data_table = np.loadtxt('https://raw.githubusercontent.com/GriffsKode/griffskode.github.io/main/portfolio/AdvertisingNumpy/data.csv', delimiter=',')\n",
        "print(data_table)\n",
        "# Create a figure to plot the data\n",
        "fig = pyplot.scatter(data_table[0], data_table[1])\n",
        "pyplot.title(\"Total Daily Advertising Spend versus Total Daily Sales ($)\")\n",
        "pyplot.xlabel(\"Total Daily Advertising Spend, x\")\n",
        "pyplot.ylabel(\"Total Daily Sales, y\")\n",
        "points = fig.get_offsets()\n",
        "pyplot.show()\n",
        "df_describe = pd.DataFrame(data_table)\n",
        "df_describe.info()\n",
        "df_describe.describe().round(1)"
      ],
      "id": "n67i41V6Fwq3"
    },
    {
      "cell_type": "markdown",
      "metadata": {
        "deletable": false,
        "editable": false,
        "nbgrader": {
          "checksum": "7771c411673bdce0cef1c023e344f900",
          "grade": false,
          "grade_id": "cell-a1bd850af4c9c1a0",
          "locked": true,
          "schema_version": 1,
          "solution": false
        },
        "id": "floTNqs4Fwq4"
      },
      "source": [
        "###### The mean and standard deviation are calculated for the daily advertising spend (mean3 and std3) and the total sales for that day (mean4 and std4)."
      ],
      "id": "floTNqs4Fwq4"
    },
    {
      "cell_type": "code",
      "execution_count": 63,
      "metadata": {
        "deletable": false,
        "nbgrader": {
          "checksum": "c24c038daffa705bd0897242bf1e8b33",
          "grade": false,
          "grade_id": "cell-5cd107b0d7b74293",
          "locked": false,
          "schema_version": 1,
          "solution": true
        },
        "id": "kvYrC8ufFwq4",
        "colab": {
          "base_uri": "https://localhost:8080/"
        },
        "outputId": "33d611af-4230-4973-8214-bf4960a8d453"
      },
      "outputs": [
        {
          "output_type": "stream",
          "name": "stdout",
          "text": [
            "Amount spent on Ads : mean = 99.095     stdv = 19.741\n",
            "Daily Sales:          mean = 519.955    stdv = 10.340\n"
          ]
        }
      ],
      "source": [
        "# Daily Advertising spend mean and standard deviation\n",
        "mean3 = np.mean(data_table[0])\n",
        "std3 = np.std(data_table[0])\n",
        "\n",
        "# Total daily sales mean and standard deviation\n",
        "mean4 =  np.mean(data_table[1])\n",
        "std4 =  np.std(data_table[1])\n",
        "\n",
        "# Print the calculated values\n",
        "print('Amount spent on Ads : mean = %.3f     stdv = %.3f' % (mean3, std3))\n",
        "print('Daily Sales:          mean = %.3f    stdv = %.3f' % (mean4, std4))"
      ],
      "id": "kvYrC8ufFwq4"
    },
    {
      "cell_type": "markdown",
      "metadata": {
        "deletable": false,
        "editable": false,
        "nbgrader": {
          "checksum": "b29e77d47fcd4fa2de71c4de817c91c6",
          "grade": false,
          "grade_id": "cell-799eb3fea70a69ea",
          "locked": true,
          "schema_version": 1,
          "solution": false
        },
        "id": "UUcYFFZFFwq4"
      },
      "source": [
        "### Finally, let's calculate the covariance matrix for the advertising data set.\n",
        "\n",
        "###### The positive covariance indicates the variables tend to move in the same direction. This means that when more was spent on advertising, the total daily sales incrased.\n",
        "\n",
        "###### A negative covaraince would indicate that the variables tend to move in opposite directions. A zero variance indicates the variables do not vary together. More information can be found here: https://www.geeksforgeeks.org/covariance-matrix/"
      ],
      "id": "UUcYFFZFFwq4"
    },
    {
      "cell_type": "code",
      "execution_count": 64,
      "metadata": {
        "deletable": false,
        "nbgrader": {
          "checksum": "7ccb8da9c2b0f3c832877ba679559c3a",
          "grade": false,
          "grade_id": "cell-c9f2753d7d6c7d39",
          "locked": false,
          "schema_version": 1,
          "solution": true
        },
        "id": "y6sXZuTCFwq4",
        "colab": {
          "base_uri": "https://localhost:8080/"
        },
        "outputId": "6e428c1f-5b6f-4786-9682-d318999d06d3"
      },
      "outputs": [
        {
          "output_type": "stream",
          "name": "stdout",
          "text": [
            "Covariance Martix\n",
            "[[390.08386639  71.98884599]\n",
            " [ 71.98884599 107.01938637]]\n"
          ]
        }
      ],
      "source": [
        "# Covarience matrix is assigned to variable \"covMatrix3\".\n",
        "covMatrix3 = np.cov(data_table)\n",
        "print(\"Covariance Martix\")\n",
        "print (covMatrix3)"
      ],
      "id": "y6sXZuTCFwq4"
    }
  ],
  "metadata": {
    "kernelspec": {
      "display_name": "Python 3",
      "language": "python",
      "name": "python3"
    },
    "language_info": {
      "codemirror_mode": {
        "name": "ipython",
        "version": 3
      },
      "file_extension": ".py",
      "mimetype": "text/x-python",
      "name": "python",
      "nbconvert_exporter": "python",
      "pygments_lexer": "ipython3",
      "version": "3.6.9"
    },
    "colab": {
      "provenance": [],
      "include_colab_link": true
    }
  },
  "nbformat": 4,
  "nbformat_minor": 5
}