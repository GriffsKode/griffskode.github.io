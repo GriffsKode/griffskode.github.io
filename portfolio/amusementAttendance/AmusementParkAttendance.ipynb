{
  "cells": [
    {
      "cell_type": "markdown",
      "metadata": {
        "id": "view-in-github",
        "colab_type": "text"
      },
      "source": [
        "<a href=\"https://colab.research.google.com/github/GriffsKode/griffskode.github.io/blob/main/portfolio/amusementAttendance/AmusementParkAttendance.ipynb\" target=\"_parent\"><img src=\"https://colab.research.google.com/assets/colab-badge.svg\" alt=\"Open In Colab\"/></a>"
      ]
    },
    {
      "cell_type": "markdown",
      "metadata": {
        "deletable": false,
        "editable": false,
        "nbgrader": {
          "checksum": "c74ce3459aa6275bbd351c7b2c533da4",
          "grade": false,
          "grade_id": "cell-75ad01fe37809440",
          "locked": true,
          "schema_version": 1,
          "solution": false
        },
        "id": "eY8_QfaxQ5pt"
      },
      "source": [
        "# This exercise examines Amusement Park Attendance data utilizing Classification and Regression Trees."
      ]
    },
    {
      "cell_type": "code",
      "execution_count": 78,
      "metadata": {
        "deletable": false,
        "editable": false,
        "nbgrader": {
          "checksum": "51ff3664ad005ff3fe02e91817f7bb73",
          "grade": false,
          "grade_id": "cell-4175bce6887d9dbc",
          "locked": true,
          "schema_version": 1,
          "solution": false
        },
        "id": "4hZxCvRSQ5px"
      },
      "outputs": [],
      "source": [
        "import numpy as np\n",
        "import pandas as pd\n",
        "import matplotlib.pyplot as plt\n",
        "from sklearn.model_selection import train_test_split\n",
        "from statsmodels.formula.api import ols\n",
        "from sklearn.tree import DecisionTreeRegressor\n",
        "from sklearn.tree import DecisionTreeClassifier, plot_tree"
      ]
    },
    {
      "cell_type": "markdown",
      "metadata": {
        "deletable": false,
        "editable": false,
        "nbgrader": {
          "checksum": "77144bdf06617428664116b53e9dfc31",
          "grade": false,
          "grade_id": "cell-afaaefbdfd8fe4a7",
          "locked": true,
          "schema_version": 1,
          "solution": false
        },
        "id": "v3d4_2UKQ5pz"
      },
      "source": [
        "##### Import the data from the csv file"
      ]
    },
    {
      "cell_type": "code",
      "execution_count": 79,
      "metadata": {
        "deletable": false,
        "nbgrader": {
          "checksum": "1082f9a8939ee43a18558f818e2b03d9",
          "grade": false,
          "grade_id": "cell-0661bc941f2e9956",
          "locked": false,
          "schema_version": 1,
          "solution": true
        },
        "scrolled": true,
        "id": "oQuqPGq3Q5pz"
      },
      "outputs": [],
      "source": [
        "# Read in the Amusement_Park_Attendance.csv to a Pandas dataframe, \"df\"\n",
        "df = pd.read_csv('https://raw.githubusercontent.com/GriffsKode/griffskode.github.io/main/portfolio/amusementAttendance/Amusement_Park_Attendance.csv')"
      ]
    },
    {
      "cell_type": "markdown",
      "metadata": {
        "deletable": false,
        "editable": false,
        "nbgrader": {
          "checksum": "7dc05d8fda59ef4e269bfcd46d20398f",
          "grade": false,
          "grade_id": "cell-d1e24627d881422f",
          "locked": true,
          "schema_version": 1,
          "solution": false
        },
        "id": "K1q_FB6sQ5p1"
      },
      "source": [
        "###### Categorical variables will be stored in the categoricals."
      ]
    },
    {
      "cell_type": "code",
      "execution_count": 80,
      "metadata": {
        "deletable": false,
        "nbgrader": {
          "checksum": "d935490c58a5ad952dc156d193fcbfbd",
          "grade": false,
          "grade_id": "cell-302153302c859554",
          "locked": false,
          "schema_version": 1,
          "solution": true
        },
        "id": "XJ5mvUdmQ5p1"
      },
      "outputs": [],
      "source": [
        "# Categorical columns will be stored in 'categoricals' variable.\n",
        "categoricals = ['month', 'day', 'hour', 'day_of_week', 'holiday']\n",
        "df[categoricals] = df[categoricals].astype('category')"
      ]
    },
    {
      "cell_type": "code",
      "execution_count": 81,
      "metadata": {
        "deletable": false,
        "editable": false,
        "nbgrader": {
          "checksum": "224120ce5e226d149a8050ea571d2294",
          "grade": true,
          "grade_id": "cell-8bc6652360041e3d",
          "locked": true,
          "points": 1,
          "schema_version": 1,
          "solution": false
        },
        "id": "x7qDyumyQ5p2",
        "colab": {
          "base_uri": "https://localhost:8080/"
        },
        "outputId": "cef8e820-6da2-49c9-a705-d0e8a6be10b6"
      },
      "outputs": [
        {
          "output_type": "stream",
          "name": "stdout",
          "text": [
            "       attendees     temp  temp_wb  rel_humidity  windspeed  precipitation\n",
            "count    8603.00  8603.00  8603.00       8603.00    8603.00        8603.00\n",
            "mean    22559.44    98.78    47.84         67.11      11.10           0.93\n",
            "std     24975.77    32.92    16.91         18.92       5.46           0.24\n",
            "min       110.00    -0.60    -3.00         16.00       0.00           0.02\n",
            "25%      3520.00    71.40    34.00         53.00       7.00           1.00\n",
            "50%     13200.00    96.60    48.00         68.00      10.00           1.00\n",
            "75%     33660.00   127.20    62.00         84.00      14.00           1.00\n",
            "max    142890.00   177.60    81.00        100.00      48.00           2.80\n"
          ]
        }
      ],
      "source": [
        "# Pandas dataframe describe function to better understand the data.\n",
        "summary = df.describe()\n",
        "formatted_summary = summary.round(2)\n",
        "print(formatted_summary)"
      ]
    },
    {
      "cell_type": "code",
      "execution_count": 82,
      "metadata": {
        "deletable": false,
        "editable": false,
        "nbgrader": {
          "checksum": "c304b105789eac05a95c34c9bb36028c",
          "grade": false,
          "grade_id": "cell-07f18000bc39fac2",
          "locked": true,
          "schema_version": 1,
          "solution": false
        },
        "id": "ieflheYwQ5p2",
        "outputId": "c9fa391c-f1f0-4282-cc41-a500e2d097b7",
        "colab": {
          "base_uri": "https://localhost:8080/"
        }
      },
      "outputs": [
        {
          "output_type": "stream",
          "name": "stdout",
          "text": [
            "<class 'pandas.core.frame.DataFrame'>\n",
            "RangeIndex: 8603 entries, 0 to 8602\n",
            "Data columns (total 11 columns):\n",
            " #   Column         Non-Null Count  Dtype   \n",
            "---  ------         --------------  -----   \n",
            " 0   attendees      8603 non-null   int64   \n",
            " 1   month          8603 non-null   category\n",
            " 2   day            8603 non-null   category\n",
            " 3   hour           8603 non-null   category\n",
            " 4   day_of_week    8603 non-null   category\n",
            " 5   holiday        8603 non-null   category\n",
            " 6   temp           8603 non-null   float64 \n",
            " 7   temp_wb        8603 non-null   int64   \n",
            " 8   rel_humidity   8603 non-null   int64   \n",
            " 9   windspeed      8603 non-null   int64   \n",
            " 10  precipitation  8603 non-null   float64 \n",
            "dtypes: category(5), float64(2), int64(4)\n",
            "memory usage: 448.3 KB\n"
          ]
        }
      ],
      "source": [
        "df.info()"
      ]
    },
    {
      "cell_type": "code",
      "execution_count": 83,
      "metadata": {
        "deletable": false,
        "editable": false,
        "nbgrader": {
          "checksum": "ce2f585b8f1fe9ba5a03827867b8599c",
          "grade": false,
          "grade_id": "cell-359e4a8e12ebb50a",
          "locked": true,
          "schema_version": 1,
          "solution": false
        },
        "id": "YN_EFXuWQ5p2",
        "outputId": "5f16fe6d-f546-47e3-d090-bb010c0cba47",
        "colab": {
          "base_uri": "https://localhost:8080/",
          "height": 237
        }
      },
      "outputs": [
        {
          "output_type": "execute_result",
          "data": {
            "text/plain": [
              "   attendees month day hour day_of_week holiday  temp  temp_wb  rel_humidity  \\\n",
              "0        440     1   1    0         Mon       0   6.6        0            59   \n",
              "1        660     1   1    1         Mon       0   4.8        0            59   \n",
              "2        660     1   1    2         Mon       0   4.8       -1            54   \n",
              "3        110     1   1    5         Mon       0   3.0       -2            54   \n",
              "4        330     1   1    6         Mon       0   3.0       -2            54   \n",
              "5        330     1   1    7         Mon       0   3.0       -2            54   \n",
              "\n",
              "   windspeed  precipitation  \n",
              "0         16            1.0  \n",
              "1         11            1.0  \n",
              "2         21            1.0  \n",
              "3         18            1.0  \n",
              "4         15            1.0  \n",
              "5         11            1.0  "
            ],
            "text/html": [
              "\n",
              "  <div id=\"df-2ec28681-51b6-4d6b-86ae-add111ed372b\" class=\"colab-df-container\">\n",
              "    <div>\n",
              "<style scoped>\n",
              "    .dataframe tbody tr th:only-of-type {\n",
              "        vertical-align: middle;\n",
              "    }\n",
              "\n",
              "    .dataframe tbody tr th {\n",
              "        vertical-align: top;\n",
              "    }\n",
              "\n",
              "    .dataframe thead th {\n",
              "        text-align: right;\n",
              "    }\n",
              "</style>\n",
              "<table border=\"1\" class=\"dataframe\">\n",
              "  <thead>\n",
              "    <tr style=\"text-align: right;\">\n",
              "      <th></th>\n",
              "      <th>attendees</th>\n",
              "      <th>month</th>\n",
              "      <th>day</th>\n",
              "      <th>hour</th>\n",
              "      <th>day_of_week</th>\n",
              "      <th>holiday</th>\n",
              "      <th>temp</th>\n",
              "      <th>temp_wb</th>\n",
              "      <th>rel_humidity</th>\n",
              "      <th>windspeed</th>\n",
              "      <th>precipitation</th>\n",
              "    </tr>\n",
              "  </thead>\n",
              "  <tbody>\n",
              "    <tr>\n",
              "      <th>0</th>\n",
              "      <td>440</td>\n",
              "      <td>1</td>\n",
              "      <td>1</td>\n",
              "      <td>0</td>\n",
              "      <td>Mon</td>\n",
              "      <td>0</td>\n",
              "      <td>6.6</td>\n",
              "      <td>0</td>\n",
              "      <td>59</td>\n",
              "      <td>16</td>\n",
              "      <td>1.0</td>\n",
              "    </tr>\n",
              "    <tr>\n",
              "      <th>1</th>\n",
              "      <td>660</td>\n",
              "      <td>1</td>\n",
              "      <td>1</td>\n",
              "      <td>1</td>\n",
              "      <td>Mon</td>\n",
              "      <td>0</td>\n",
              "      <td>4.8</td>\n",
              "      <td>0</td>\n",
              "      <td>59</td>\n",
              "      <td>11</td>\n",
              "      <td>1.0</td>\n",
              "    </tr>\n",
              "    <tr>\n",
              "      <th>2</th>\n",
              "      <td>660</td>\n",
              "      <td>1</td>\n",
              "      <td>1</td>\n",
              "      <td>2</td>\n",
              "      <td>Mon</td>\n",
              "      <td>0</td>\n",
              "      <td>4.8</td>\n",
              "      <td>-1</td>\n",
              "      <td>54</td>\n",
              "      <td>21</td>\n",
              "      <td>1.0</td>\n",
              "    </tr>\n",
              "    <tr>\n",
              "      <th>3</th>\n",
              "      <td>110</td>\n",
              "      <td>1</td>\n",
              "      <td>1</td>\n",
              "      <td>5</td>\n",
              "      <td>Mon</td>\n",
              "      <td>0</td>\n",
              "      <td>3.0</td>\n",
              "      <td>-2</td>\n",
              "      <td>54</td>\n",
              "      <td>18</td>\n",
              "      <td>1.0</td>\n",
              "    </tr>\n",
              "    <tr>\n",
              "      <th>4</th>\n",
              "      <td>330</td>\n",
              "      <td>1</td>\n",
              "      <td>1</td>\n",
              "      <td>6</td>\n",
              "      <td>Mon</td>\n",
              "      <td>0</td>\n",
              "      <td>3.0</td>\n",
              "      <td>-2</td>\n",
              "      <td>54</td>\n",
              "      <td>15</td>\n",
              "      <td>1.0</td>\n",
              "    </tr>\n",
              "    <tr>\n",
              "      <th>5</th>\n",
              "      <td>330</td>\n",
              "      <td>1</td>\n",
              "      <td>1</td>\n",
              "      <td>7</td>\n",
              "      <td>Mon</td>\n",
              "      <td>0</td>\n",
              "      <td>3.0</td>\n",
              "      <td>-2</td>\n",
              "      <td>54</td>\n",
              "      <td>11</td>\n",
              "      <td>1.0</td>\n",
              "    </tr>\n",
              "  </tbody>\n",
              "</table>\n",
              "</div>\n",
              "    <div class=\"colab-df-buttons\">\n",
              "\n",
              "  <div class=\"colab-df-container\">\n",
              "    <button class=\"colab-df-convert\" onclick=\"convertToInteractive('df-2ec28681-51b6-4d6b-86ae-add111ed372b')\"\n",
              "            title=\"Convert this dataframe to an interactive table.\"\n",
              "            style=\"display:none;\">\n",
              "\n",
              "  <svg xmlns=\"http://www.w3.org/2000/svg\" height=\"24px\" viewBox=\"0 -960 960 960\">\n",
              "    <path d=\"M120-120v-720h720v720H120Zm60-500h600v-160H180v160Zm220 220h160v-160H400v160Zm0 220h160v-160H400v160ZM180-400h160v-160H180v160Zm440 0h160v-160H620v160ZM180-180h160v-160H180v160Zm440 0h160v-160H620v160Z\"/>\n",
              "  </svg>\n",
              "    </button>\n",
              "\n",
              "  <style>\n",
              "    .colab-df-container {\n",
              "      display:flex;\n",
              "      gap: 12px;\n",
              "    }\n",
              "\n",
              "    .colab-df-convert {\n",
              "      background-color: #E8F0FE;\n",
              "      border: none;\n",
              "      border-radius: 50%;\n",
              "      cursor: pointer;\n",
              "      display: none;\n",
              "      fill: #1967D2;\n",
              "      height: 32px;\n",
              "      padding: 0 0 0 0;\n",
              "      width: 32px;\n",
              "    }\n",
              "\n",
              "    .colab-df-convert:hover {\n",
              "      background-color: #E2EBFA;\n",
              "      box-shadow: 0px 1px 2px rgba(60, 64, 67, 0.3), 0px 1px 3px 1px rgba(60, 64, 67, 0.15);\n",
              "      fill: #174EA6;\n",
              "    }\n",
              "\n",
              "    .colab-df-buttons div {\n",
              "      margin-bottom: 4px;\n",
              "    }\n",
              "\n",
              "    [theme=dark] .colab-df-convert {\n",
              "      background-color: #3B4455;\n",
              "      fill: #D2E3FC;\n",
              "    }\n",
              "\n",
              "    [theme=dark] .colab-df-convert:hover {\n",
              "      background-color: #434B5C;\n",
              "      box-shadow: 0px 1px 3px 1px rgba(0, 0, 0, 0.15);\n",
              "      filter: drop-shadow(0px 1px 2px rgba(0, 0, 0, 0.3));\n",
              "      fill: #FFFFFF;\n",
              "    }\n",
              "  </style>\n",
              "\n",
              "    <script>\n",
              "      const buttonEl =\n",
              "        document.querySelector('#df-2ec28681-51b6-4d6b-86ae-add111ed372b button.colab-df-convert');\n",
              "      buttonEl.style.display =\n",
              "        google.colab.kernel.accessAllowed ? 'block' : 'none';\n",
              "\n",
              "      async function convertToInteractive(key) {\n",
              "        const element = document.querySelector('#df-2ec28681-51b6-4d6b-86ae-add111ed372b');\n",
              "        const dataTable =\n",
              "          await google.colab.kernel.invokeFunction('convertToInteractive',\n",
              "                                                    [key], {});\n",
              "        if (!dataTable) return;\n",
              "\n",
              "        const docLinkHtml = 'Like what you see? Visit the ' +\n",
              "          '<a target=\"_blank\" href=https://colab.research.google.com/notebooks/data_table.ipynb>data table notebook</a>'\n",
              "          + ' to learn more about interactive tables.';\n",
              "        element.innerHTML = '';\n",
              "        dataTable['output_type'] = 'display_data';\n",
              "        await google.colab.output.renderOutput(dataTable, element);\n",
              "        const docLink = document.createElement('div');\n",
              "        docLink.innerHTML = docLinkHtml;\n",
              "        element.appendChild(docLink);\n",
              "      }\n",
              "    </script>\n",
              "  </div>\n",
              "\n",
              "\n",
              "<div id=\"df-8ca5c25e-8421-40cf-805d-b7634a5212c5\">\n",
              "  <button class=\"colab-df-quickchart\" onclick=\"quickchart('df-8ca5c25e-8421-40cf-805d-b7634a5212c5')\"\n",
              "            title=\"Suggest charts\"\n",
              "            style=\"display:none;\">\n",
              "\n",
              "<svg xmlns=\"http://www.w3.org/2000/svg\" height=\"24px\"viewBox=\"0 0 24 24\"\n",
              "     width=\"24px\">\n",
              "    <g>\n",
              "        <path d=\"M19 3H5c-1.1 0-2 .9-2 2v14c0 1.1.9 2 2 2h14c1.1 0 2-.9 2-2V5c0-1.1-.9-2-2-2zM9 17H7v-7h2v7zm4 0h-2V7h2v10zm4 0h-2v-4h2v4z\"/>\n",
              "    </g>\n",
              "</svg>\n",
              "  </button>\n",
              "\n",
              "<style>\n",
              "  .colab-df-quickchart {\n",
              "      --bg-color: #E8F0FE;\n",
              "      --fill-color: #1967D2;\n",
              "      --hover-bg-color: #E2EBFA;\n",
              "      --hover-fill-color: #174EA6;\n",
              "      --disabled-fill-color: #AAA;\n",
              "      --disabled-bg-color: #DDD;\n",
              "  }\n",
              "\n",
              "  [theme=dark] .colab-df-quickchart {\n",
              "      --bg-color: #3B4455;\n",
              "      --fill-color: #D2E3FC;\n",
              "      --hover-bg-color: #434B5C;\n",
              "      --hover-fill-color: #FFFFFF;\n",
              "      --disabled-bg-color: #3B4455;\n",
              "      --disabled-fill-color: #666;\n",
              "  }\n",
              "\n",
              "  .colab-df-quickchart {\n",
              "    background-color: var(--bg-color);\n",
              "    border: none;\n",
              "    border-radius: 50%;\n",
              "    cursor: pointer;\n",
              "    display: none;\n",
              "    fill: var(--fill-color);\n",
              "    height: 32px;\n",
              "    padding: 0;\n",
              "    width: 32px;\n",
              "  }\n",
              "\n",
              "  .colab-df-quickchart:hover {\n",
              "    background-color: var(--hover-bg-color);\n",
              "    box-shadow: 0 1px 2px rgba(60, 64, 67, 0.3), 0 1px 3px 1px rgba(60, 64, 67, 0.15);\n",
              "    fill: var(--button-hover-fill-color);\n",
              "  }\n",
              "\n",
              "  .colab-df-quickchart-complete:disabled,\n",
              "  .colab-df-quickchart-complete:disabled:hover {\n",
              "    background-color: var(--disabled-bg-color);\n",
              "    fill: var(--disabled-fill-color);\n",
              "    box-shadow: none;\n",
              "  }\n",
              "\n",
              "  .colab-df-spinner {\n",
              "    border: 2px solid var(--fill-color);\n",
              "    border-color: transparent;\n",
              "    border-bottom-color: var(--fill-color);\n",
              "    animation:\n",
              "      spin 1s steps(1) infinite;\n",
              "  }\n",
              "\n",
              "  @keyframes spin {\n",
              "    0% {\n",
              "      border-color: transparent;\n",
              "      border-bottom-color: var(--fill-color);\n",
              "      border-left-color: var(--fill-color);\n",
              "    }\n",
              "    20% {\n",
              "      border-color: transparent;\n",
              "      border-left-color: var(--fill-color);\n",
              "      border-top-color: var(--fill-color);\n",
              "    }\n",
              "    30% {\n",
              "      border-color: transparent;\n",
              "      border-left-color: var(--fill-color);\n",
              "      border-top-color: var(--fill-color);\n",
              "      border-right-color: var(--fill-color);\n",
              "    }\n",
              "    40% {\n",
              "      border-color: transparent;\n",
              "      border-right-color: var(--fill-color);\n",
              "      border-top-color: var(--fill-color);\n",
              "    }\n",
              "    60% {\n",
              "      border-color: transparent;\n",
              "      border-right-color: var(--fill-color);\n",
              "    }\n",
              "    80% {\n",
              "      border-color: transparent;\n",
              "      border-right-color: var(--fill-color);\n",
              "      border-bottom-color: var(--fill-color);\n",
              "    }\n",
              "    90% {\n",
              "      border-color: transparent;\n",
              "      border-bottom-color: var(--fill-color);\n",
              "    }\n",
              "  }\n",
              "</style>\n",
              "\n",
              "  <script>\n",
              "    async function quickchart(key) {\n",
              "      const quickchartButtonEl =\n",
              "        document.querySelector('#' + key + ' button');\n",
              "      quickchartButtonEl.disabled = true;  // To prevent multiple clicks.\n",
              "      quickchartButtonEl.classList.add('colab-df-spinner');\n",
              "      try {\n",
              "        const charts = await google.colab.kernel.invokeFunction(\n",
              "            'suggestCharts', [key], {});\n",
              "      } catch (error) {\n",
              "        console.error('Error during call to suggestCharts:', error);\n",
              "      }\n",
              "      quickchartButtonEl.classList.remove('colab-df-spinner');\n",
              "      quickchartButtonEl.classList.add('colab-df-quickchart-complete');\n",
              "    }\n",
              "    (() => {\n",
              "      let quickchartButtonEl =\n",
              "        document.querySelector('#df-8ca5c25e-8421-40cf-805d-b7634a5212c5 button');\n",
              "      quickchartButtonEl.style.display =\n",
              "        google.colab.kernel.accessAllowed ? 'block' : 'none';\n",
              "    })();\n",
              "  </script>\n",
              "</div>\n",
              "\n",
              "    </div>\n",
              "  </div>\n"
            ],
            "application/vnd.google.colaboratory.intrinsic+json": {
              "type": "dataframe",
              "variable_name": "df",
              "summary": "{\n  \"name\": \"df\",\n  \"rows\": 8603,\n  \"fields\": [\n    {\n      \"column\": \"attendees\",\n      \"properties\": {\n        \"dtype\": \"number\",\n        \"std\": 24975,\n        \"min\": 110,\n        \"max\": 142890,\n        \"num_unique_values\": 943,\n        \"samples\": [\n          18040,\n          20020,\n          132000\n        ],\n        \"semantic_type\": \"\",\n        \"description\": \"\"\n      }\n    },\n    {\n      \"column\": \"month\",\n      \"properties\": {\n        \"dtype\": \"category\",\n        \"num_unique_values\": 12,\n        \"samples\": [\n          11,\n          10,\n          1\n        ],\n        \"semantic_type\": \"\",\n        \"description\": \"\"\n      }\n    },\n    {\n      \"column\": \"day\",\n      \"properties\": {\n        \"dtype\": \"category\",\n        \"num_unique_values\": 31,\n        \"samples\": [\n          28,\n          16,\n          24\n        ],\n        \"semantic_type\": \"\",\n        \"description\": \"\"\n      }\n    },\n    {\n      \"column\": \"hour\",\n      \"properties\": {\n        \"dtype\": \"category\",\n        \"num_unique_values\": 24,\n        \"samples\": [\n          10,\n          18,\n          0\n        ],\n        \"semantic_type\": \"\",\n        \"description\": \"\"\n      }\n    },\n    {\n      \"column\": \"day_of_week\",\n      \"properties\": {\n        \"dtype\": \"category\",\n        \"num_unique_values\": 7,\n        \"samples\": [\n          \"Mon\",\n          \"Tue\",\n          \"Sat\"\n        ],\n        \"semantic_type\": \"\",\n        \"description\": \"\"\n      }\n    },\n    {\n      \"column\": \"holiday\",\n      \"properties\": {\n        \"dtype\": \"category\",\n        \"num_unique_values\": 2,\n        \"samples\": [\n          1,\n          0\n        ],\n        \"semantic_type\": \"\",\n        \"description\": \"\"\n      }\n    },\n    {\n      \"column\": \"temp\",\n      \"properties\": {\n        \"dtype\": \"number\",\n        \"std\": 32.92043098278338,\n        \"min\": -0.6,\n        \"max\": 177.6,\n        \"num_unique_values\": 99,\n        \"samples\": [\n          112.8,\n          67.8\n        ],\n        \"semantic_type\": \"\",\n        \"description\": \"\"\n      }\n    },\n    {\n      \"column\": \"temp_wb\",\n      \"properties\": {\n        \"dtype\": \"number\",\n        \"std\": 16,\n        \"min\": -3,\n        \"max\": 81,\n        \"num_unique_values\": 85,\n        \"samples\": [\n          75,\n          0\n        ],\n        \"semantic_type\": \"\",\n        \"description\": \"\"\n      }\n    },\n    {\n      \"column\": \"rel_humidity\",\n      \"properties\": {\n        \"dtype\": \"number\",\n        \"std\": 18,\n        \"min\": 16,\n        \"max\": 100,\n        \"num_unique_values\": 82,\n        \"samples\": [\n          75,\n          59\n        ],\n        \"semantic_type\": \"\",\n        \"description\": \"\"\n      }\n    },\n    {\n      \"column\": \"windspeed\",\n      \"properties\": {\n        \"dtype\": \"number\",\n        \"std\": 5,\n        \"min\": 0,\n        \"max\": 48,\n        \"num_unique_values\": 38,\n        \"samples\": [\n          46,\n          32\n        ],\n        \"semantic_type\": \"\",\n        \"description\": \"\"\n      }\n    },\n    {\n      \"column\": \"precipitation\",\n      \"properties\": {\n        \"dtype\": \"number\",\n        \"std\": 0.24274396637232792,\n        \"min\": 0.025,\n        \"max\": 2.8,\n        \"num_unique_values\": 43,\n        \"samples\": [\n          0.875,\n          0.475\n        ],\n        \"semantic_type\": \"\",\n        \"description\": \"\"\n      }\n    }\n  ]\n}"
            }
          },
          "metadata": {},
          "execution_count": 83
        }
      ],
      "source": [
        "df.head(6)"
      ]
    },
    {
      "cell_type": "markdown",
      "metadata": {
        "deletable": false,
        "editable": false,
        "nbgrader": {
          "checksum": "4eeb7f3b344b690e976e8a5e25660bc4",
          "grade": false,
          "grade_id": "cell-42b4e781d24b5b81",
          "locked": true,
          "schema_version": 1,
          "solution": false
        },
        "id": "4FWCLGPhQ5p3"
      },
      "source": [
        "# Training and Testing Datasets"
      ]
    },
    {
      "cell_type": "markdown",
      "metadata": {
        "deletable": false,
        "editable": false,
        "nbgrader": {
          "checksum": "95a8172c90c48e5c2e2358e882b969d9",
          "grade": false,
          "grade_id": "cell-91cb4e87855ca443",
          "locked": true,
          "schema_version": 1,
          "solution": false
        },
        "id": "N_EPJcxTQ5p3"
      },
      "source": [
        "###### The data will be split into 70% training and 30% testing sets."
      ]
    },
    {
      "cell_type": "code",
      "execution_count": 84,
      "metadata": {
        "deletable": false,
        "nbgrader": {
          "checksum": "1131f7259cef5278616fddcfdde6a608",
          "grade": false,
          "grade_id": "cell-0d6cfbf30e8882f4",
          "locked": false,
          "schema_version": 1,
          "solution": true
        },
        "id": "r0wkhSmgQ5p4"
      },
      "outputs": [],
      "source": [
        "# Split the data using train_test_split\n",
        "df_train, df_test = train_test_split(df, test_size=0.3, random_state=42)"
      ]
    },
    {
      "cell_type": "markdown",
      "metadata": {
        "deletable": false,
        "editable": false,
        "nbgrader": {
          "checksum": "9810a0f465f099e967bb8c79ca5e4546",
          "grade": false,
          "grade_id": "cell-bf85c07f33c9d334",
          "locked": true,
          "schema_version": 1,
          "solution": false
        },
        "id": "jmVBhn43Q5p4"
      },
      "source": [
        "###### Four datasets are created out of the train and test sets. The datasets consist of \"X\", \"y\", \"X_test\", and \"y_test\" sets. The y sets will consist of the attendees column from the respected X data set."
      ]
    },
    {
      "cell_type": "code",
      "execution_count": 85,
      "metadata": {
        "deletable": false,
        "nbgrader": {
          "checksum": "6179478de23daa3c5556be2c1b80a509",
          "grade": false,
          "grade_id": "cell-6400a61ffd6c0283",
          "locked": false,
          "schema_version": 1,
          "solution": true
        },
        "id": "aDnK-uIzQ5p4"
      },
      "outputs": [],
      "source": [
        "# Creating model variables\n",
        "X = df_train.copy()\n",
        "y = X.pop('attendees')\n",
        "X_test = df_test.copy()\n",
        "y_test = X_test.pop('attendees')"
      ]
    },
    {
      "cell_type": "markdown",
      "metadata": {
        "deletable": false,
        "editable": false,
        "nbgrader": {
          "checksum": "85bb6e2e314c35b71d72da3811d8a0b5",
          "grade": false,
          "grade_id": "cell-3ae20c4a6e7de15f",
          "locked": true,
          "schema_version": 1,
          "solution": false
        },
        "id": "cNIHqgkcQ5p5"
      },
      "source": [
        "###### Create a Linear Regression formula."
      ]
    },
    {
      "cell_type": "code",
      "execution_count": 86,
      "metadata": {
        "deletable": false,
        "nbgrader": {
          "checksum": "e58c19e250c4540e009bbfcb4d0d4d7a",
          "grade": false,
          "grade_id": "cell-67c8569553e27605",
          "locked": false,
          "schema_version": 1,
          "solution": true
        },
        "id": "5NBWjk7hQ5p5",
        "outputId": "96a71f6d-1198-42a3-c080-9b995ec17032",
        "colab": {
          "base_uri": "https://localhost:8080/"
        }
      },
      "outputs": [
        {
          "output_type": "stream",
          "name": "stdout",
          "text": [
            "attendees ~ month+day+hour+day_of_week+holiday+temp+temp_wb+rel_humidity+windspeed+precipitation\n"
          ]
        }
      ],
      "source": [
        "# The variable \"my_formula\" is the result of the linear regression formula to variable \"my_formula\"\n",
        "#my_formula=\"attendees ~ month + day + hour + day_of_week + holiday\"\n",
        "my_formula = 'attendees ~ ' + '+'.join(df.columns[1:])\n",
        "print(my_formula)\n"
      ]
    },
    {
      "cell_type": "markdown",
      "metadata": {
        "deletable": false,
        "editable": false,
        "nbgrader": {
          "checksum": "2c86de0a043afcc74ad7489df5b7d3b5",
          "grade": false,
          "grade_id": "cell-74b77996bc4eb224",
          "locked": true,
          "schema_version": 1,
          "solution": false
        },
        "id": "qdsaMSi9Q5p5"
      },
      "source": [
        "\n",
        "\n",
        "###### OLS Regression model is generated and saved as \"est\""
      ]
    },
    {
      "cell_type": "code",
      "execution_count": 87,
      "metadata": {
        "deletable": false,
        "nbgrader": {
          "checksum": "88151011498ffb7344eea7a1bed3224e",
          "grade": false,
          "grade_id": "cell-9e29fc83b17c5453",
          "locked": false,
          "schema_version": 1,
          "solution": true
        },
        "id": "7qg4HPbIQ5p5",
        "outputId": "804d1722-582f-4aa2-9bae-ac10d4601c9c",
        "colab": {
          "base_uri": "https://localhost:8080/"
        }
      },
      "outputs": [
        {
          "output_type": "stream",
          "name": "stdout",
          "text": [
            "                            OLS Regression Results                            \n",
            "==============================================================================\n",
            "Dep. Variable:              attendees   R-squared:                       0.694\n",
            "Model:                            OLS   Adj. R-squared:                  0.691\n",
            "Method:                 Least Squares   F-statistic:                     258.0\n",
            "Date:                Tue, 13 Aug 2024   Prob (F-statistic):               0.00\n",
            "Time:                        00:15:16   Log-Likelihood:                -94223.\n",
            "No. Observations:                8603   AIC:                         1.886e+05\n",
            "Df Residuals:                    8527   BIC:                         1.891e+05\n",
            "Df Model:                          75                                         \n",
            "Covariance Type:            nonrobust                                         \n",
            "======================================================================================\n",
            "                         coef    std err          t      P>|t|      [0.025      0.975]\n",
            "--------------------------------------------------------------------------------------\n",
            "Intercept          -3.566e+04   2524.386    -14.125      0.000   -4.06e+04   -3.07e+04\n",
            "month[T.2]          2688.4477    781.009      3.442      0.001    1157.480    4219.415\n",
            "month[T.3]          1922.4926    766.499      2.508      0.012     419.969    3425.016\n",
            "month[T.4]          5160.0697    797.202      6.473      0.000    3597.360    6722.779\n",
            "month[T.5]          1.132e+04    941.672     12.024      0.000    9476.335    1.32e+04\n",
            "month[T.6]          1.453e+04   1030.560     14.099      0.000    1.25e+04    1.66e+04\n",
            "month[T.7]          1.692e+04   1150.752     14.704      0.000    1.47e+04    1.92e+04\n",
            "month[T.8]          1.647e+04   1173.812     14.034      0.000    1.42e+04    1.88e+04\n",
            "month[T.9]          2.127e+04   1066.227     19.950      0.000    1.92e+04    2.34e+04\n",
            "month[T.10]         1.772e+04    878.578     20.169      0.000     1.6e+04    1.94e+04\n",
            "month[T.11]         9899.4321    791.085     12.514      0.000    8348.714    1.15e+04\n",
            "month[T.12]         4112.6534    761.917      5.398      0.000    2619.111    5606.196\n",
            "day[T.2]           -1433.5511   1176.458     -1.219      0.223   -3739.693     872.591\n",
            "day[T.3]           -1444.6476   1169.306     -1.235      0.217   -3736.771     847.475\n",
            "day[T.4]           -1634.6873   1187.519     -1.377      0.169   -3962.511     693.137\n",
            "day[T.5]            -232.4711   1190.004     -0.195      0.845   -2565.166    2100.224\n",
            "day[T.6]           -1164.9702   1172.710     -0.993      0.321   -3463.766    1133.825\n",
            "day[T.7]            1384.6323   1175.847      1.178      0.239    -920.313    3689.578\n",
            "day[T.8]            -607.6243   1169.662     -0.519      0.603   -2900.446    1685.197\n",
            "day[T.9]            -390.4853   1172.294     -0.333      0.739   -2688.466    1907.495\n",
            "day[T.10]           -415.1030   1169.421     -0.355      0.723   -2707.451    1877.245\n",
            "day[T.11]            141.2621   1171.799      0.121      0.904   -2155.747    2438.271\n",
            "day[T.12]           -195.4124   1171.388     -0.167      0.868   -2491.616    2100.791\n",
            "day[T.13]            959.3982   1198.036      0.801      0.423   -1389.042    3307.839\n",
            "day[T.14]           2603.4128   1183.433      2.200      0.028     283.598    4923.228\n",
            "day[T.15]            795.8151   1167.380      0.682      0.495   -1492.533    3084.163\n",
            "day[T.16]           -208.6120   1174.898     -0.178      0.859   -2511.696    2094.472\n",
            "day[T.17]           -456.2637   1169.328     -0.390      0.696   -2748.430    1835.903\n",
            "day[T.18]           -944.2017   1174.910     -0.804      0.422   -3247.310    1358.907\n",
            "day[T.19]           -508.3494   1175.259     -0.433      0.665   -2812.142    1795.443\n",
            "day[T.20]           1043.6219   1167.534      0.894      0.371   -1245.027    3332.270\n",
            "day[T.21]           1051.2002   1169.784      0.899      0.369   -1241.859    3344.260\n",
            "day[T.22]          -2297.3251   1169.767     -1.964      0.050   -4590.352      -4.298\n",
            "day[T.23]          -1533.2764   1170.085     -1.310      0.190   -3826.926     760.374\n",
            "day[T.24]           -121.2415   1168.233     -0.104      0.917   -2411.260    2168.777\n",
            "day[T.25]          -2032.5654   1174.445     -1.731      0.084   -4334.762     269.631\n",
            "day[T.26]           -665.1967   1167.906     -0.570      0.569   -2954.576    1624.183\n",
            "day[T.27]          -1467.1103   1171.071     -1.253      0.210   -3762.693     828.472\n",
            "day[T.28]          -1657.2838   1169.367     -1.417      0.156   -3949.526     634.958\n",
            "day[T.29]          -1129.7541   1192.841     -0.947      0.344   -3468.012    1208.504\n",
            "day[T.30]            -51.6515   1198.138     -0.043      0.966   -2400.291    2296.988\n",
            "day[T.31]           2251.5040   1369.937      1.644      0.100    -433.904    4936.912\n",
            "hour[T.1]          -1487.0238   1033.541     -1.439      0.150   -3513.014     538.967\n",
            "hour[T.2]          -2433.4159   1039.603     -2.341      0.019   -4471.289    -395.543\n",
            "hour[T.3]          -4185.9321   1059.135     -3.952      0.000   -6262.092   -2109.772\n",
            "hour[T.4]          -3573.8080   1038.288     -3.442      0.001   -5609.103   -1538.513\n",
            "hour[T.5]          -1041.5949   1035.182     -1.006      0.314   -3070.803     987.613\n",
            "hour[T.6]           5901.9924   1036.780      5.693      0.000    3869.652    7934.333\n",
            "hour[T.7]           2.418e+04   1035.445     23.356      0.000    2.22e+04    2.62e+04\n",
            "hour[T.8]           4.502e+04   1037.102     43.411      0.000     4.3e+04    4.71e+04\n",
            "hour[T.9]           2.322e+04   1042.004     22.283      0.000    2.12e+04    2.53e+04\n",
            "hour[T.10]          1.447e+04   1045.935     13.832      0.000    1.24e+04    1.65e+04\n",
            "hour[T.11]          1.628e+04   1049.420     15.514      0.000    1.42e+04    1.83e+04\n",
            "hour[T.12]          2.033e+04   1054.263     19.282      0.000    1.83e+04    2.24e+04\n",
            "hour[T.13]          2.025e+04   1054.040     19.213      0.000    1.82e+04    2.23e+04\n",
            "hour[T.14]          1.983e+04   1051.509     18.861      0.000    1.78e+04    2.19e+04\n",
            "hour[T.15]          2.412e+04   1049.879     22.977      0.000    2.21e+04    2.62e+04\n",
            "hour[T.16]          3.906e+04   1044.270     37.408      0.000     3.7e+04    4.11e+04\n",
            "hour[T.17]          5.436e+04   1039.839     52.280      0.000    5.23e+04    5.64e+04\n",
            "hour[T.18]          3.877e+04   1038.047     37.351      0.000    3.67e+04    4.08e+04\n",
            "hour[T.19]          2.546e+04   1034.225     24.618      0.000    2.34e+04    2.75e+04\n",
            "hour[T.20]           1.61e+04   1032.622     15.591      0.000    1.41e+04    1.81e+04\n",
            "hour[T.21]          1.084e+04   1036.148     10.466      0.000    8813.312    1.29e+04\n",
            "hour[T.22]          7040.5921   1031.221      6.827      0.000    5019.148    9062.036\n",
            "hour[T.23]          2755.6050   1031.440      2.672      0.008     733.733    4777.477\n",
            "day_of_week[T.Mon] -1317.0554    565.552     -2.329      0.020   -2425.674    -208.437\n",
            "day_of_week[T.Sat] -1999.3765    329.191     -6.074      0.000   -2644.670   -1354.083\n",
            "day_of_week[T.Sun] -2548.7331    329.398     -7.738      0.000   -3194.434   -1903.032\n",
            "day_of_week[T.Thu]   446.4403    572.204      0.780      0.435    -675.217    1568.098\n",
            "day_of_week[T.Tue]  -767.3463    570.501     -1.345      0.179   -1885.666     350.973\n",
            "day_of_week[T.Wed]   413.2883    570.580      0.724      0.469    -705.187    1531.764\n",
            "holiday[T.1]       -4548.1095    329.432    -13.806      0.000   -5193.876   -3902.343\n",
            "temp                 845.6293     67.201     12.584      0.000     713.900     977.359\n",
            "temp_wb            -1394.9418    140.810     -9.907      0.000   -1670.963   -1118.921\n",
            "rel_humidity         130.2560     27.150      4.798      0.000      77.035     183.477\n",
            "windspeed           -120.8987     30.310     -3.989      0.000    -180.313     -61.484\n",
            "precipitation        1.03e+04    699.651     14.724      0.000    8930.211    1.17e+04\n",
            "==============================================================================\n",
            "Omnibus:                      594.802   Durbin-Watson:                   0.554\n",
            "Prob(Omnibus):                  0.000   Jarque-Bera (JB):             1663.082\n",
            "Skew:                           0.376   Prob(JB):                         0.00\n",
            "Kurtosis:                       5.019   Cond. No.                     2.25e+15\n",
            "==============================================================================\n",
            "\n",
            "Notes:\n",
            "[1] Standard Errors assume that the covariance matrix of the errors is correctly specified.\n",
            "[2] The smallest eigenvalue is 3.03e-23. This might indicate that there are\n",
            "strong multicollinearity problems or that the design matrix is singular.\n"
          ]
        }
      ],
      "source": [
        "# OLS Regression and set to 'est' variable\n",
        "est= ols(formula=my_formula, data=df).fit()\n",
        "\n",
        "print(est.summary())"
      ]
    },
    {
      "cell_type": "markdown",
      "metadata": {
        "deletable": false,
        "editable": false,
        "nbgrader": {
          "checksum": "33fc24b56dba01ffe3a278f7f699452b",
          "grade": false,
          "grade_id": "cell-24555c33ca210ce6",
          "locked": true,
          "schema_version": 1,
          "solution": false
        },
        "id": "LG-WCchEQ5p6"
      },
      "source": [
        "*italicized text*###### Define the Out of Sample Residuals Squared (OSR2)  function"
      ]
    },
    {
      "cell_type": "code",
      "execution_count": 88,
      "metadata": {
        "deletable": false,
        "nbgrader": {
          "checksum": "20181bab21ca06461de75810bb83d4a8",
          "grade": false,
          "grade_id": "cell-5bdc668f8d67eeb2",
          "locked": false,
          "schema_version": 1,
          "solution": true
        },
        "id": "fZwEjc7KQ5p6"
      },
      "outputs": [],
      "source": [
        "def OSR2(y_pred, y_true, training_mean):\n",
        "    # Define OSR2\n",
        "  baseline_error = np.sum(np.square((training_mean - y_true)))\n",
        "  model_error = np.sum(np.square((y_pred - y_true)))\n",
        "  return 1.0 - model_error/baseline_error"
      ]
    },
    {
      "cell_type": "markdown",
      "metadata": {
        "deletable": false,
        "editable": false,
        "nbgrader": {
          "checksum": "6312f9eb21d7ee617d1460546c11ece4",
          "grade": false,
          "grade_id": "cell-310bf9987173bc69",
          "locked": true,
          "schema_version": 1,
          "solution": false
        },
        "id": "KTRi0-DsQ5p6"
      },
      "source": [
        "###### \"osr2_result\" is the result of the test set on the linear regression model using the OSR2 function."
      ]
    },
    {
      "cell_type": "code",
      "execution_count": 89,
      "metadata": {
        "deletable": false,
        "nbgrader": {
          "checksum": "a067fb8a75251b3f5590ff1ca986d971",
          "grade": false,
          "grade_id": "cell-999d3c7ceedc7537",
          "locked": false,
          "schema_version": 1,
          "solution": true
        },
        "scrolled": true,
        "id": "etgIVcwcQ5p6",
        "outputId": "4956cb90-e379-4f93-c9b1-6d70e3c1b943",
        "colab": {
          "base_uri": "https://localhost:8080/"
        }
      },
      "outputs": [
        {
          "output_type": "stream",
          "name": "stdout",
          "text": [
            "0.694178733505899\n"
          ]
        }
      ],
      "source": [
        "# Result of OSR2\n",
        "osr2_result = OSR2(est.predict(X_test), y_test, y.mean())\n",
        "print(osr2_result)"
      ]
    },
    {
      "cell_type": "markdown",
      "metadata": {
        "deletable": false,
        "editable": false,
        "nbgrader": {
          "checksum": "a257abd2e122815560d8da5089aa2b57",
          "grade": false,
          "grade_id": "cell-ecfb83bc49edab83",
          "locked": true,
          "schema_version": 1,
          "solution": false
        },
        "id": "omwZgj4UQ5p7"
      },
      "source": [
        "###### Now let's build a tree with default parameters."
      ]
    },
    {
      "cell_type": "code",
      "execution_count": 90,
      "metadata": {
        "deletable": false,
        "nbgrader": {
          "checksum": "a484af67105e0db5c840c24a159c81b1",
          "grade": false,
          "grade_id": "cell-b988dba76fa481b9",
          "locked": false,
          "schema_version": 1,
          "solution": true
        },
        "id": "VBQD4AMcQ5p7"
      },
      "outputs": [],
      "source": [
        "# Regression tree is assigned to \"tree\"\n",
        "tree = DecisionTreeRegressor(random_state=42)"
      ]
    },
    {
      "cell_type": "code",
      "execution_count": 91,
      "metadata": {
        "deletable": false,
        "editable": false,
        "nbgrader": {
          "checksum": "f2104e7ccf9d009bb12ba5b81c1161df",
          "grade": false,
          "grade_id": "cell-43f422a14a3f0d1d",
          "locked": true,
          "schema_version": 1,
          "solution": false
        },
        "id": "8PAB7EXAQ5p7",
        "outputId": "cb4448b2-6192-4282-eb60-f1b2319a26e5",
        "colab": {
          "base_uri": "https://localhost:8080/",
          "height": 206
        }
      },
      "outputs": [
        {
          "output_type": "execute_result",
          "data": {
            "text/plain": [
              "     month day hour day_of_week holiday   temp  temp_wb  rel_humidity  \\\n",
              "5156     8   9   14         Thu       0  154.2       74            61   \n",
              "6290     9  26    1         Wed       0  129.0       68            90   \n",
              "2646     4  26   19         Thu       0  105.6       49            53   \n",
              "439      1  21   16         Sun       1   85.8       39            51   \n",
              "1379     3   2   16         Fri       0   76.8       39            86   \n",
              "\n",
              "      windspeed  precipitation  \n",
              "5156         10          1.000  \n",
              "6290          5          1.000  \n",
              "2646         13          1.000  \n",
              "439           5          1.000  \n",
              "1379         46          0.075  "
            ],
            "text/html": [
              "\n",
              "  <div id=\"df-96759880-f3a0-4152-8a32-b26400290441\" class=\"colab-df-container\">\n",
              "    <div>\n",
              "<style scoped>\n",
              "    .dataframe tbody tr th:only-of-type {\n",
              "        vertical-align: middle;\n",
              "    }\n",
              "\n",
              "    .dataframe tbody tr th {\n",
              "        vertical-align: top;\n",
              "    }\n",
              "\n",
              "    .dataframe thead th {\n",
              "        text-align: right;\n",
              "    }\n",
              "</style>\n",
              "<table border=\"1\" class=\"dataframe\">\n",
              "  <thead>\n",
              "    <tr style=\"text-align: right;\">\n",
              "      <th></th>\n",
              "      <th>month</th>\n",
              "      <th>day</th>\n",
              "      <th>hour</th>\n",
              "      <th>day_of_week</th>\n",
              "      <th>holiday</th>\n",
              "      <th>temp</th>\n",
              "      <th>temp_wb</th>\n",
              "      <th>rel_humidity</th>\n",
              "      <th>windspeed</th>\n",
              "      <th>precipitation</th>\n",
              "    </tr>\n",
              "  </thead>\n",
              "  <tbody>\n",
              "    <tr>\n",
              "      <th>5156</th>\n",
              "      <td>8</td>\n",
              "      <td>9</td>\n",
              "      <td>14</td>\n",
              "      <td>Thu</td>\n",
              "      <td>0</td>\n",
              "      <td>154.2</td>\n",
              "      <td>74</td>\n",
              "      <td>61</td>\n",
              "      <td>10</td>\n",
              "      <td>1.000</td>\n",
              "    </tr>\n",
              "    <tr>\n",
              "      <th>6290</th>\n",
              "      <td>9</td>\n",
              "      <td>26</td>\n",
              "      <td>1</td>\n",
              "      <td>Wed</td>\n",
              "      <td>0</td>\n",
              "      <td>129.0</td>\n",
              "      <td>68</td>\n",
              "      <td>90</td>\n",
              "      <td>5</td>\n",
              "      <td>1.000</td>\n",
              "    </tr>\n",
              "    <tr>\n",
              "      <th>2646</th>\n",
              "      <td>4</td>\n",
              "      <td>26</td>\n",
              "      <td>19</td>\n",
              "      <td>Thu</td>\n",
              "      <td>0</td>\n",
              "      <td>105.6</td>\n",
              "      <td>49</td>\n",
              "      <td>53</td>\n",
              "      <td>13</td>\n",
              "      <td>1.000</td>\n",
              "    </tr>\n",
              "    <tr>\n",
              "      <th>439</th>\n",
              "      <td>1</td>\n",
              "      <td>21</td>\n",
              "      <td>16</td>\n",
              "      <td>Sun</td>\n",
              "      <td>1</td>\n",
              "      <td>85.8</td>\n",
              "      <td>39</td>\n",
              "      <td>51</td>\n",
              "      <td>5</td>\n",
              "      <td>1.000</td>\n",
              "    </tr>\n",
              "    <tr>\n",
              "      <th>1379</th>\n",
              "      <td>3</td>\n",
              "      <td>2</td>\n",
              "      <td>16</td>\n",
              "      <td>Fri</td>\n",
              "      <td>0</td>\n",
              "      <td>76.8</td>\n",
              "      <td>39</td>\n",
              "      <td>86</td>\n",
              "      <td>46</td>\n",
              "      <td>0.075</td>\n",
              "    </tr>\n",
              "  </tbody>\n",
              "</table>\n",
              "</div>\n",
              "    <div class=\"colab-df-buttons\">\n",
              "\n",
              "  <div class=\"colab-df-container\">\n",
              "    <button class=\"colab-df-convert\" onclick=\"convertToInteractive('df-96759880-f3a0-4152-8a32-b26400290441')\"\n",
              "            title=\"Convert this dataframe to an interactive table.\"\n",
              "            style=\"display:none;\">\n",
              "\n",
              "  <svg xmlns=\"http://www.w3.org/2000/svg\" height=\"24px\" viewBox=\"0 -960 960 960\">\n",
              "    <path d=\"M120-120v-720h720v720H120Zm60-500h600v-160H180v160Zm220 220h160v-160H400v160Zm0 220h160v-160H400v160ZM180-400h160v-160H180v160Zm440 0h160v-160H620v160ZM180-180h160v-160H180v160Zm440 0h160v-160H620v160Z\"/>\n",
              "  </svg>\n",
              "    </button>\n",
              "\n",
              "  <style>\n",
              "    .colab-df-container {\n",
              "      display:flex;\n",
              "      gap: 12px;\n",
              "    }\n",
              "\n",
              "    .colab-df-convert {\n",
              "      background-color: #E8F0FE;\n",
              "      border: none;\n",
              "      border-radius: 50%;\n",
              "      cursor: pointer;\n",
              "      display: none;\n",
              "      fill: #1967D2;\n",
              "      height: 32px;\n",
              "      padding: 0 0 0 0;\n",
              "      width: 32px;\n",
              "    }\n",
              "\n",
              "    .colab-df-convert:hover {\n",
              "      background-color: #E2EBFA;\n",
              "      box-shadow: 0px 1px 2px rgba(60, 64, 67, 0.3), 0px 1px 3px 1px rgba(60, 64, 67, 0.15);\n",
              "      fill: #174EA6;\n",
              "    }\n",
              "\n",
              "    .colab-df-buttons div {\n",
              "      margin-bottom: 4px;\n",
              "    }\n",
              "\n",
              "    [theme=dark] .colab-df-convert {\n",
              "      background-color: #3B4455;\n",
              "      fill: #D2E3FC;\n",
              "    }\n",
              "\n",
              "    [theme=dark] .colab-df-convert:hover {\n",
              "      background-color: #434B5C;\n",
              "      box-shadow: 0px 1px 3px 1px rgba(0, 0, 0, 0.15);\n",
              "      filter: drop-shadow(0px 1px 2px rgba(0, 0, 0, 0.3));\n",
              "      fill: #FFFFFF;\n",
              "    }\n",
              "  </style>\n",
              "\n",
              "    <script>\n",
              "      const buttonEl =\n",
              "        document.querySelector('#df-96759880-f3a0-4152-8a32-b26400290441 button.colab-df-convert');\n",
              "      buttonEl.style.display =\n",
              "        google.colab.kernel.accessAllowed ? 'block' : 'none';\n",
              "\n",
              "      async function convertToInteractive(key) {\n",
              "        const element = document.querySelector('#df-96759880-f3a0-4152-8a32-b26400290441');\n",
              "        const dataTable =\n",
              "          await google.colab.kernel.invokeFunction('convertToInteractive',\n",
              "                                                    [key], {});\n",
              "        if (!dataTable) return;\n",
              "\n",
              "        const docLinkHtml = 'Like what you see? Visit the ' +\n",
              "          '<a target=\"_blank\" href=https://colab.research.google.com/notebooks/data_table.ipynb>data table notebook</a>'\n",
              "          + ' to learn more about interactive tables.';\n",
              "        element.innerHTML = '';\n",
              "        dataTable['output_type'] = 'display_data';\n",
              "        await google.colab.output.renderOutput(dataTable, element);\n",
              "        const docLink = document.createElement('div');\n",
              "        docLink.innerHTML = docLinkHtml;\n",
              "        element.appendChild(docLink);\n",
              "      }\n",
              "    </script>\n",
              "  </div>\n",
              "\n",
              "\n",
              "<div id=\"df-bc6b1b71-fb18-4fa3-b2c4-e8edd81dc7fd\">\n",
              "  <button class=\"colab-df-quickchart\" onclick=\"quickchart('df-bc6b1b71-fb18-4fa3-b2c4-e8edd81dc7fd')\"\n",
              "            title=\"Suggest charts\"\n",
              "            style=\"display:none;\">\n",
              "\n",
              "<svg xmlns=\"http://www.w3.org/2000/svg\" height=\"24px\"viewBox=\"0 0 24 24\"\n",
              "     width=\"24px\">\n",
              "    <g>\n",
              "        <path d=\"M19 3H5c-1.1 0-2 .9-2 2v14c0 1.1.9 2 2 2h14c1.1 0 2-.9 2-2V5c0-1.1-.9-2-2-2zM9 17H7v-7h2v7zm4 0h-2V7h2v10zm4 0h-2v-4h2v4z\"/>\n",
              "    </g>\n",
              "</svg>\n",
              "  </button>\n",
              "\n",
              "<style>\n",
              "  .colab-df-quickchart {\n",
              "      --bg-color: #E8F0FE;\n",
              "      --fill-color: #1967D2;\n",
              "      --hover-bg-color: #E2EBFA;\n",
              "      --hover-fill-color: #174EA6;\n",
              "      --disabled-fill-color: #AAA;\n",
              "      --disabled-bg-color: #DDD;\n",
              "  }\n",
              "\n",
              "  [theme=dark] .colab-df-quickchart {\n",
              "      --bg-color: #3B4455;\n",
              "      --fill-color: #D2E3FC;\n",
              "      --hover-bg-color: #434B5C;\n",
              "      --hover-fill-color: #FFFFFF;\n",
              "      --disabled-bg-color: #3B4455;\n",
              "      --disabled-fill-color: #666;\n",
              "  }\n",
              "\n",
              "  .colab-df-quickchart {\n",
              "    background-color: var(--bg-color);\n",
              "    border: none;\n",
              "    border-radius: 50%;\n",
              "    cursor: pointer;\n",
              "    display: none;\n",
              "    fill: var(--fill-color);\n",
              "    height: 32px;\n",
              "    padding: 0;\n",
              "    width: 32px;\n",
              "  }\n",
              "\n",
              "  .colab-df-quickchart:hover {\n",
              "    background-color: var(--hover-bg-color);\n",
              "    box-shadow: 0 1px 2px rgba(60, 64, 67, 0.3), 0 1px 3px 1px rgba(60, 64, 67, 0.15);\n",
              "    fill: var(--button-hover-fill-color);\n",
              "  }\n",
              "\n",
              "  .colab-df-quickchart-complete:disabled,\n",
              "  .colab-df-quickchart-complete:disabled:hover {\n",
              "    background-color: var(--disabled-bg-color);\n",
              "    fill: var(--disabled-fill-color);\n",
              "    box-shadow: none;\n",
              "  }\n",
              "\n",
              "  .colab-df-spinner {\n",
              "    border: 2px solid var(--fill-color);\n",
              "    border-color: transparent;\n",
              "    border-bottom-color: var(--fill-color);\n",
              "    animation:\n",
              "      spin 1s steps(1) infinite;\n",
              "  }\n",
              "\n",
              "  @keyframes spin {\n",
              "    0% {\n",
              "      border-color: transparent;\n",
              "      border-bottom-color: var(--fill-color);\n",
              "      border-left-color: var(--fill-color);\n",
              "    }\n",
              "    20% {\n",
              "      border-color: transparent;\n",
              "      border-left-color: var(--fill-color);\n",
              "      border-top-color: var(--fill-color);\n",
              "    }\n",
              "    30% {\n",
              "      border-color: transparent;\n",
              "      border-left-color: var(--fill-color);\n",
              "      border-top-color: var(--fill-color);\n",
              "      border-right-color: var(--fill-color);\n",
              "    }\n",
              "    40% {\n",
              "      border-color: transparent;\n",
              "      border-right-color: var(--fill-color);\n",
              "      border-top-color: var(--fill-color);\n",
              "    }\n",
              "    60% {\n",
              "      border-color: transparent;\n",
              "      border-right-color: var(--fill-color);\n",
              "    }\n",
              "    80% {\n",
              "      border-color: transparent;\n",
              "      border-right-color: var(--fill-color);\n",
              "      border-bottom-color: var(--fill-color);\n",
              "    }\n",
              "    90% {\n",
              "      border-color: transparent;\n",
              "      border-bottom-color: var(--fill-color);\n",
              "    }\n",
              "  }\n",
              "</style>\n",
              "\n",
              "  <script>\n",
              "    async function quickchart(key) {\n",
              "      const quickchartButtonEl =\n",
              "        document.querySelector('#' + key + ' button');\n",
              "      quickchartButtonEl.disabled = true;  // To prevent multiple clicks.\n",
              "      quickchartButtonEl.classList.add('colab-df-spinner');\n",
              "      try {\n",
              "        const charts = await google.colab.kernel.invokeFunction(\n",
              "            'suggestCharts', [key], {});\n",
              "      } catch (error) {\n",
              "        console.error('Error during call to suggestCharts:', error);\n",
              "      }\n",
              "      quickchartButtonEl.classList.remove('colab-df-spinner');\n",
              "      quickchartButtonEl.classList.add('colab-df-quickchart-complete');\n",
              "    }\n",
              "    (() => {\n",
              "      let quickchartButtonEl =\n",
              "        document.querySelector('#df-bc6b1b71-fb18-4fa3-b2c4-e8edd81dc7fd button');\n",
              "      quickchartButtonEl.style.display =\n",
              "        google.colab.kernel.accessAllowed ? 'block' : 'none';\n",
              "    })();\n",
              "  </script>\n",
              "</div>\n",
              "\n",
              "    </div>\n",
              "  </div>\n"
            ],
            "application/vnd.google.colaboratory.intrinsic+json": {
              "type": "dataframe",
              "variable_name": "X",
              "summary": "{\n  \"name\": \"X\",\n  \"rows\": 6022,\n  \"fields\": [\n    {\n      \"column\": \"month\",\n      \"properties\": {\n        \"dtype\": \"category\",\n        \"num_unique_values\": 12,\n        \"samples\": [\n          12,\n          2,\n          8\n        ],\n        \"semantic_type\": \"\",\n        \"description\": \"\"\n      }\n    },\n    {\n      \"column\": \"day\",\n      \"properties\": {\n        \"dtype\": \"category\",\n        \"num_unique_values\": 31,\n        \"samples\": [\n          1,\n          28,\n          4\n        ],\n        \"semantic_type\": \"\",\n        \"description\": \"\"\n      }\n    },\n    {\n      \"column\": \"hour\",\n      \"properties\": {\n        \"dtype\": \"category\",\n        \"num_unique_values\": 24,\n        \"samples\": [\n          15,\n          11,\n          14\n        ],\n        \"semantic_type\": \"\",\n        \"description\": \"\"\n      }\n    },\n    {\n      \"column\": \"day_of_week\",\n      \"properties\": {\n        \"dtype\": \"category\",\n        \"num_unique_values\": 7,\n        \"samples\": [\n          \"Thu\",\n          \"Wed\",\n          \"Tue\"\n        ],\n        \"semantic_type\": \"\",\n        \"description\": \"\"\n      }\n    },\n    {\n      \"column\": \"holiday\",\n      \"properties\": {\n        \"dtype\": \"category\",\n        \"num_unique_values\": 2,\n        \"samples\": [\n          1,\n          0\n        ],\n        \"semantic_type\": \"\",\n        \"description\": \"\"\n      }\n    },\n    {\n      \"column\": \"temp\",\n      \"properties\": {\n        \"dtype\": \"number\",\n        \"std\": 32.81255579333753,\n        \"min\": -0.6,\n        \"max\": 177.6,\n        \"num_unique_values\": 98,\n        \"samples\": [\n          161.4,\n          35.4\n        ],\n        \"semantic_type\": \"\",\n        \"description\": \"\"\n      }\n    },\n    {\n      \"column\": \"temp_wb\",\n      \"properties\": {\n        \"dtype\": \"number\",\n        \"std\": 16,\n        \"min\": -3,\n        \"max\": 81,\n        \"num_unique_values\": 85,\n        \"samples\": [\n          10,\n          74\n        ],\n        \"semantic_type\": \"\",\n        \"description\": \"\"\n      }\n    },\n    {\n      \"column\": \"rel_humidity\",\n      \"properties\": {\n        \"dtype\": \"number\",\n        \"std\": 18,\n        \"min\": 16,\n        \"max\": 100,\n        \"num_unique_values\": 82,\n        \"samples\": [\n          100,\n          61\n        ],\n        \"semantic_type\": \"\",\n        \"description\": \"\"\n      }\n    },\n    {\n      \"column\": \"windspeed\",\n      \"properties\": {\n        \"dtype\": \"number\",\n        \"std\": 5,\n        \"min\": 0,\n        \"max\": 48,\n        \"num_unique_values\": 37,\n        \"samples\": [\n          17,\n          9\n        ],\n        \"semantic_type\": \"\",\n        \"description\": \"\"\n      }\n    },\n    {\n      \"column\": \"precipitation\",\n      \"properties\": {\n        \"dtype\": \"number\",\n        \"std\": 0.24141639068343312,\n        \"min\": 0.025,\n        \"max\": 2.8,\n        \"num_unique_values\": 39,\n        \"samples\": [\n          1.6,\n          1.225\n        ],\n        \"semantic_type\": \"\",\n        \"description\": \"\"\n      }\n    }\n  ]\n}"
            }
          },
          "metadata": {},
          "execution_count": 91
        }
      ],
      "source": [
        "X.head()"
      ]
    },
    {
      "cell_type": "markdown",
      "metadata": {
        "deletable": false,
        "editable": false,
        "nbgrader": {
          "checksum": "1dc44378e3fd1baff96f4647f2e02400",
          "grade": false,
          "grade_id": "cell-3096e5cc6fc4c6e3",
          "locked": true,
          "schema_version": 1,
          "solution": false
        },
        "id": "hlXTyeysQ5p7"
      },
      "source": [
        "###### One-hot encode the categorical variables\n",
        "One-hot encoding transforms categorical data into a binary matrix, where each category is represented by a unique binary vector. This is helpful for categorical data that does not necessarily have an order.\n",
        "\n"
      ]
    },
    {
      "cell_type": "code",
      "execution_count": 92,
      "metadata": {
        "deletable": false,
        "nbgrader": {
          "checksum": "590b86a08a38a9eab4310eec5afccb27",
          "grade": false,
          "grade_id": "cell-070a70cce0de0a30",
          "locked": false,
          "schema_version": 1,
          "solution": true
        },
        "id": "LLQqlRYpQ5p7"
      },
      "outputs": [],
      "source": [
        "# One-hot encoding categorical variables\n",
        "X = pd.get_dummies(X, columns = categoricals)\n",
        "X_test = pd.get_dummies(X_test, columns = categoricals)"
      ]
    },
    {
      "cell_type": "code",
      "execution_count": 93,
      "metadata": {
        "deletable": false,
        "editable": false,
        "nbgrader": {
          "checksum": "cb72ad62d7e520a97fab673a70b76922",
          "grade": false,
          "grade_id": "cell-8496897db51ee07d",
          "locked": true,
          "schema_version": 1,
          "solution": false
        },
        "id": "9Z64ai-KQ5p8",
        "outputId": "4d8de862-0257-4e36-cce2-8e5ae58554b4",
        "colab": {
          "base_uri": "https://localhost:8080/",
          "height": 255
        }
      },
      "outputs": [
        {
          "output_type": "execute_result",
          "data": {
            "text/plain": [
              "       temp  temp_wb  rel_humidity  windspeed  precipitation  month_1  \\\n",
              "5156  154.2       74            61         10          1.000    False   \n",
              "6290  129.0       68            90          5          1.000    False   \n",
              "2646  105.6       49            53         13          1.000    False   \n",
              "439    85.8       39            51          5          1.000     True   \n",
              "1379   76.8       39            86         46          0.075    False   \n",
              "\n",
              "      month_2  month_3  month_4  month_5  ...  hour_23  day_of_week_Fri  \\\n",
              "5156    False    False    False    False  ...    False            False   \n",
              "6290    False    False    False    False  ...    False            False   \n",
              "2646    False    False     True    False  ...    False            False   \n",
              "439     False    False    False    False  ...    False            False   \n",
              "1379    False     True    False    False  ...    False             True   \n",
              "\n",
              "      day_of_week_Mon  day_of_week_Sat  day_of_week_Sun  day_of_week_Thu  \\\n",
              "5156            False            False            False             True   \n",
              "6290            False            False            False            False   \n",
              "2646            False            False            False             True   \n",
              "439             False            False             True            False   \n",
              "1379            False            False            False            False   \n",
              "\n",
              "      day_of_week_Tue  day_of_week_Wed  holiday_0  holiday_1  \n",
              "5156            False            False       True      False  \n",
              "6290            False             True       True      False  \n",
              "2646            False            False       True      False  \n",
              "439             False            False      False       True  \n",
              "1379            False            False       True      False  \n",
              "\n",
              "[5 rows x 81 columns]"
            ],
            "text/html": [
              "\n",
              "  <div id=\"df-8afc2c63-a484-4686-8a1e-d801eb49d043\" class=\"colab-df-container\">\n",
              "    <div>\n",
              "<style scoped>\n",
              "    .dataframe tbody tr th:only-of-type {\n",
              "        vertical-align: middle;\n",
              "    }\n",
              "\n",
              "    .dataframe tbody tr th {\n",
              "        vertical-align: top;\n",
              "    }\n",
              "\n",
              "    .dataframe thead th {\n",
              "        text-align: right;\n",
              "    }\n",
              "</style>\n",
              "<table border=\"1\" class=\"dataframe\">\n",
              "  <thead>\n",
              "    <tr style=\"text-align: right;\">\n",
              "      <th></th>\n",
              "      <th>temp</th>\n",
              "      <th>temp_wb</th>\n",
              "      <th>rel_humidity</th>\n",
              "      <th>windspeed</th>\n",
              "      <th>precipitation</th>\n",
              "      <th>month_1</th>\n",
              "      <th>month_2</th>\n",
              "      <th>month_3</th>\n",
              "      <th>month_4</th>\n",
              "      <th>month_5</th>\n",
              "      <th>...</th>\n",
              "      <th>hour_23</th>\n",
              "      <th>day_of_week_Fri</th>\n",
              "      <th>day_of_week_Mon</th>\n",
              "      <th>day_of_week_Sat</th>\n",
              "      <th>day_of_week_Sun</th>\n",
              "      <th>day_of_week_Thu</th>\n",
              "      <th>day_of_week_Tue</th>\n",
              "      <th>day_of_week_Wed</th>\n",
              "      <th>holiday_0</th>\n",
              "      <th>holiday_1</th>\n",
              "    </tr>\n",
              "  </thead>\n",
              "  <tbody>\n",
              "    <tr>\n",
              "      <th>5156</th>\n",
              "      <td>154.2</td>\n",
              "      <td>74</td>\n",
              "      <td>61</td>\n",
              "      <td>10</td>\n",
              "      <td>1.000</td>\n",
              "      <td>False</td>\n",
              "      <td>False</td>\n",
              "      <td>False</td>\n",
              "      <td>False</td>\n",
              "      <td>False</td>\n",
              "      <td>...</td>\n",
              "      <td>False</td>\n",
              "      <td>False</td>\n",
              "      <td>False</td>\n",
              "      <td>False</td>\n",
              "      <td>False</td>\n",
              "      <td>True</td>\n",
              "      <td>False</td>\n",
              "      <td>False</td>\n",
              "      <td>True</td>\n",
              "      <td>False</td>\n",
              "    </tr>\n",
              "    <tr>\n",
              "      <th>6290</th>\n",
              "      <td>129.0</td>\n",
              "      <td>68</td>\n",
              "      <td>90</td>\n",
              "      <td>5</td>\n",
              "      <td>1.000</td>\n",
              "      <td>False</td>\n",
              "      <td>False</td>\n",
              "      <td>False</td>\n",
              "      <td>False</td>\n",
              "      <td>False</td>\n",
              "      <td>...</td>\n",
              "      <td>False</td>\n",
              "      <td>False</td>\n",
              "      <td>False</td>\n",
              "      <td>False</td>\n",
              "      <td>False</td>\n",
              "      <td>False</td>\n",
              "      <td>False</td>\n",
              "      <td>True</td>\n",
              "      <td>True</td>\n",
              "      <td>False</td>\n",
              "    </tr>\n",
              "    <tr>\n",
              "      <th>2646</th>\n",
              "      <td>105.6</td>\n",
              "      <td>49</td>\n",
              "      <td>53</td>\n",
              "      <td>13</td>\n",
              "      <td>1.000</td>\n",
              "      <td>False</td>\n",
              "      <td>False</td>\n",
              "      <td>False</td>\n",
              "      <td>True</td>\n",
              "      <td>False</td>\n",
              "      <td>...</td>\n",
              "      <td>False</td>\n",
              "      <td>False</td>\n",
              "      <td>False</td>\n",
              "      <td>False</td>\n",
              "      <td>False</td>\n",
              "      <td>True</td>\n",
              "      <td>False</td>\n",
              "      <td>False</td>\n",
              "      <td>True</td>\n",
              "      <td>False</td>\n",
              "    </tr>\n",
              "    <tr>\n",
              "      <th>439</th>\n",
              "      <td>85.8</td>\n",
              "      <td>39</td>\n",
              "      <td>51</td>\n",
              "      <td>5</td>\n",
              "      <td>1.000</td>\n",
              "      <td>True</td>\n",
              "      <td>False</td>\n",
              "      <td>False</td>\n",
              "      <td>False</td>\n",
              "      <td>False</td>\n",
              "      <td>...</td>\n",
              "      <td>False</td>\n",
              "      <td>False</td>\n",
              "      <td>False</td>\n",
              "      <td>False</td>\n",
              "      <td>True</td>\n",
              "      <td>False</td>\n",
              "      <td>False</td>\n",
              "      <td>False</td>\n",
              "      <td>False</td>\n",
              "      <td>True</td>\n",
              "    </tr>\n",
              "    <tr>\n",
              "      <th>1379</th>\n",
              "      <td>76.8</td>\n",
              "      <td>39</td>\n",
              "      <td>86</td>\n",
              "      <td>46</td>\n",
              "      <td>0.075</td>\n",
              "      <td>False</td>\n",
              "      <td>False</td>\n",
              "      <td>True</td>\n",
              "      <td>False</td>\n",
              "      <td>False</td>\n",
              "      <td>...</td>\n",
              "      <td>False</td>\n",
              "      <td>True</td>\n",
              "      <td>False</td>\n",
              "      <td>False</td>\n",
              "      <td>False</td>\n",
              "      <td>False</td>\n",
              "      <td>False</td>\n",
              "      <td>False</td>\n",
              "      <td>True</td>\n",
              "      <td>False</td>\n",
              "    </tr>\n",
              "  </tbody>\n",
              "</table>\n",
              "<p>5 rows × 81 columns</p>\n",
              "</div>\n",
              "    <div class=\"colab-df-buttons\">\n",
              "\n",
              "  <div class=\"colab-df-container\">\n",
              "    <button class=\"colab-df-convert\" onclick=\"convertToInteractive('df-8afc2c63-a484-4686-8a1e-d801eb49d043')\"\n",
              "            title=\"Convert this dataframe to an interactive table.\"\n",
              "            style=\"display:none;\">\n",
              "\n",
              "  <svg xmlns=\"http://www.w3.org/2000/svg\" height=\"24px\" viewBox=\"0 -960 960 960\">\n",
              "    <path d=\"M120-120v-720h720v720H120Zm60-500h600v-160H180v160Zm220 220h160v-160H400v160Zm0 220h160v-160H400v160ZM180-400h160v-160H180v160Zm440 0h160v-160H620v160ZM180-180h160v-160H180v160Zm440 0h160v-160H620v160Z\"/>\n",
              "  </svg>\n",
              "    </button>\n",
              "\n",
              "  <style>\n",
              "    .colab-df-container {\n",
              "      display:flex;\n",
              "      gap: 12px;\n",
              "    }\n",
              "\n",
              "    .colab-df-convert {\n",
              "      background-color: #E8F0FE;\n",
              "      border: none;\n",
              "      border-radius: 50%;\n",
              "      cursor: pointer;\n",
              "      display: none;\n",
              "      fill: #1967D2;\n",
              "      height: 32px;\n",
              "      padding: 0 0 0 0;\n",
              "      width: 32px;\n",
              "    }\n",
              "\n",
              "    .colab-df-convert:hover {\n",
              "      background-color: #E2EBFA;\n",
              "      box-shadow: 0px 1px 2px rgba(60, 64, 67, 0.3), 0px 1px 3px 1px rgba(60, 64, 67, 0.15);\n",
              "      fill: #174EA6;\n",
              "    }\n",
              "\n",
              "    .colab-df-buttons div {\n",
              "      margin-bottom: 4px;\n",
              "    }\n",
              "\n",
              "    [theme=dark] .colab-df-convert {\n",
              "      background-color: #3B4455;\n",
              "      fill: #D2E3FC;\n",
              "    }\n",
              "\n",
              "    [theme=dark] .colab-df-convert:hover {\n",
              "      background-color: #434B5C;\n",
              "      box-shadow: 0px 1px 3px 1px rgba(0, 0, 0, 0.15);\n",
              "      filter: drop-shadow(0px 1px 2px rgba(0, 0, 0, 0.3));\n",
              "      fill: #FFFFFF;\n",
              "    }\n",
              "  </style>\n",
              "\n",
              "    <script>\n",
              "      const buttonEl =\n",
              "        document.querySelector('#df-8afc2c63-a484-4686-8a1e-d801eb49d043 button.colab-df-convert');\n",
              "      buttonEl.style.display =\n",
              "        google.colab.kernel.accessAllowed ? 'block' : 'none';\n",
              "\n",
              "      async function convertToInteractive(key) {\n",
              "        const element = document.querySelector('#df-8afc2c63-a484-4686-8a1e-d801eb49d043');\n",
              "        const dataTable =\n",
              "          await google.colab.kernel.invokeFunction('convertToInteractive',\n",
              "                                                    [key], {});\n",
              "        if (!dataTable) return;\n",
              "\n",
              "        const docLinkHtml = 'Like what you see? Visit the ' +\n",
              "          '<a target=\"_blank\" href=https://colab.research.google.com/notebooks/data_table.ipynb>data table notebook</a>'\n",
              "          + ' to learn more about interactive tables.';\n",
              "        element.innerHTML = '';\n",
              "        dataTable['output_type'] = 'display_data';\n",
              "        await google.colab.output.renderOutput(dataTable, element);\n",
              "        const docLink = document.createElement('div');\n",
              "        docLink.innerHTML = docLinkHtml;\n",
              "        element.appendChild(docLink);\n",
              "      }\n",
              "    </script>\n",
              "  </div>\n",
              "\n",
              "\n",
              "<div id=\"df-149335c6-0f8d-491d-9b35-a32fd6a9907b\">\n",
              "  <button class=\"colab-df-quickchart\" onclick=\"quickchart('df-149335c6-0f8d-491d-9b35-a32fd6a9907b')\"\n",
              "            title=\"Suggest charts\"\n",
              "            style=\"display:none;\">\n",
              "\n",
              "<svg xmlns=\"http://www.w3.org/2000/svg\" height=\"24px\"viewBox=\"0 0 24 24\"\n",
              "     width=\"24px\">\n",
              "    <g>\n",
              "        <path d=\"M19 3H5c-1.1 0-2 .9-2 2v14c0 1.1.9 2 2 2h14c1.1 0 2-.9 2-2V5c0-1.1-.9-2-2-2zM9 17H7v-7h2v7zm4 0h-2V7h2v10zm4 0h-2v-4h2v4z\"/>\n",
              "    </g>\n",
              "</svg>\n",
              "  </button>\n",
              "\n",
              "<style>\n",
              "  .colab-df-quickchart {\n",
              "      --bg-color: #E8F0FE;\n",
              "      --fill-color: #1967D2;\n",
              "      --hover-bg-color: #E2EBFA;\n",
              "      --hover-fill-color: #174EA6;\n",
              "      --disabled-fill-color: #AAA;\n",
              "      --disabled-bg-color: #DDD;\n",
              "  }\n",
              "\n",
              "  [theme=dark] .colab-df-quickchart {\n",
              "      --bg-color: #3B4455;\n",
              "      --fill-color: #D2E3FC;\n",
              "      --hover-bg-color: #434B5C;\n",
              "      --hover-fill-color: #FFFFFF;\n",
              "      --disabled-bg-color: #3B4455;\n",
              "      --disabled-fill-color: #666;\n",
              "  }\n",
              "\n",
              "  .colab-df-quickchart {\n",
              "    background-color: var(--bg-color);\n",
              "    border: none;\n",
              "    border-radius: 50%;\n",
              "    cursor: pointer;\n",
              "    display: none;\n",
              "    fill: var(--fill-color);\n",
              "    height: 32px;\n",
              "    padding: 0;\n",
              "    width: 32px;\n",
              "  }\n",
              "\n",
              "  .colab-df-quickchart:hover {\n",
              "    background-color: var(--hover-bg-color);\n",
              "    box-shadow: 0 1px 2px rgba(60, 64, 67, 0.3), 0 1px 3px 1px rgba(60, 64, 67, 0.15);\n",
              "    fill: var(--button-hover-fill-color);\n",
              "  }\n",
              "\n",
              "  .colab-df-quickchart-complete:disabled,\n",
              "  .colab-df-quickchart-complete:disabled:hover {\n",
              "    background-color: var(--disabled-bg-color);\n",
              "    fill: var(--disabled-fill-color);\n",
              "    box-shadow: none;\n",
              "  }\n",
              "\n",
              "  .colab-df-spinner {\n",
              "    border: 2px solid var(--fill-color);\n",
              "    border-color: transparent;\n",
              "    border-bottom-color: var(--fill-color);\n",
              "    animation:\n",
              "      spin 1s steps(1) infinite;\n",
              "  }\n",
              "\n",
              "  @keyframes spin {\n",
              "    0% {\n",
              "      border-color: transparent;\n",
              "      border-bottom-color: var(--fill-color);\n",
              "      border-left-color: var(--fill-color);\n",
              "    }\n",
              "    20% {\n",
              "      border-color: transparent;\n",
              "      border-left-color: var(--fill-color);\n",
              "      border-top-color: var(--fill-color);\n",
              "    }\n",
              "    30% {\n",
              "      border-color: transparent;\n",
              "      border-left-color: var(--fill-color);\n",
              "      border-top-color: var(--fill-color);\n",
              "      border-right-color: var(--fill-color);\n",
              "    }\n",
              "    40% {\n",
              "      border-color: transparent;\n",
              "      border-right-color: var(--fill-color);\n",
              "      border-top-color: var(--fill-color);\n",
              "    }\n",
              "    60% {\n",
              "      border-color: transparent;\n",
              "      border-right-color: var(--fill-color);\n",
              "    }\n",
              "    80% {\n",
              "      border-color: transparent;\n",
              "      border-right-color: var(--fill-color);\n",
              "      border-bottom-color: var(--fill-color);\n",
              "    }\n",
              "    90% {\n",
              "      border-color: transparent;\n",
              "      border-bottom-color: var(--fill-color);\n",
              "    }\n",
              "  }\n",
              "</style>\n",
              "\n",
              "  <script>\n",
              "    async function quickchart(key) {\n",
              "      const quickchartButtonEl =\n",
              "        document.querySelector('#' + key + ' button');\n",
              "      quickchartButtonEl.disabled = true;  // To prevent multiple clicks.\n",
              "      quickchartButtonEl.classList.add('colab-df-spinner');\n",
              "      try {\n",
              "        const charts = await google.colab.kernel.invokeFunction(\n",
              "            'suggestCharts', [key], {});\n",
              "      } catch (error) {\n",
              "        console.error('Error during call to suggestCharts:', error);\n",
              "      }\n",
              "      quickchartButtonEl.classList.remove('colab-df-spinner');\n",
              "      quickchartButtonEl.classList.add('colab-df-quickchart-complete');\n",
              "    }\n",
              "    (() => {\n",
              "      let quickchartButtonEl =\n",
              "        document.querySelector('#df-149335c6-0f8d-491d-9b35-a32fd6a9907b button');\n",
              "      quickchartButtonEl.style.display =\n",
              "        google.colab.kernel.accessAllowed ? 'block' : 'none';\n",
              "    })();\n",
              "  </script>\n",
              "</div>\n",
              "\n",
              "    </div>\n",
              "  </div>\n"
            ],
            "application/vnd.google.colaboratory.intrinsic+json": {
              "type": "dataframe",
              "variable_name": "X"
            }
          },
          "metadata": {},
          "execution_count": 93
        }
      ],
      "source": [
        "X.head()"
      ]
    },
    {
      "cell_type": "markdown",
      "metadata": {
        "deletable": false,
        "editable": false,
        "nbgrader": {
          "checksum": "d8173bf2a0f8897d9b2456a071786bfb",
          "grade": false,
          "grade_id": "cell-4d7adf7f3401e09d",
          "locked": true,
          "schema_version": 1,
          "solution": false
        },
        "id": "b8rTvo3IQ5p8"
      },
      "source": [
        "###### Fit the Classification and Regression Tree (CART) with default settings."
      ]
    },
    {
      "cell_type": "code",
      "execution_count": 94,
      "metadata": {
        "deletable": false,
        "editable": false,
        "nbgrader": {
          "checksum": "5b547e0a7626d0559ce7abc3d6b111b5",
          "grade": false,
          "grade_id": "cell-2922310e51bb7ccf",
          "locked": true,
          "schema_version": 1,
          "solution": false
        },
        "id": "nvcUkt_mQ5p8",
        "outputId": "35578389-f3ff-469f-a84b-069eccfe436c",
        "colab": {
          "base_uri": "https://localhost:8080/",
          "height": 74
        }
      },
      "outputs": [
        {
          "output_type": "execute_result",
          "data": {
            "text/plain": [
              "DecisionTreeRegressor(random_state=42)"
            ],
            "text/html": [
              "<style>#sk-container-id-5 {color: black;}#sk-container-id-5 pre{padding: 0;}#sk-container-id-5 div.sk-toggleable {background-color: white;}#sk-container-id-5 label.sk-toggleable__label {cursor: pointer;display: block;width: 100%;margin-bottom: 0;padding: 0.3em;box-sizing: border-box;text-align: center;}#sk-container-id-5 label.sk-toggleable__label-arrow:before {content: \"▸\";float: left;margin-right: 0.25em;color: #696969;}#sk-container-id-5 label.sk-toggleable__label-arrow:hover:before {color: black;}#sk-container-id-5 div.sk-estimator:hover label.sk-toggleable__label-arrow:before {color: black;}#sk-container-id-5 div.sk-toggleable__content {max-height: 0;max-width: 0;overflow: hidden;text-align: left;background-color: #f0f8ff;}#sk-container-id-5 div.sk-toggleable__content pre {margin: 0.2em;color: black;border-radius: 0.25em;background-color: #f0f8ff;}#sk-container-id-5 input.sk-toggleable__control:checked~div.sk-toggleable__content {max-height: 200px;max-width: 100%;overflow: auto;}#sk-container-id-5 input.sk-toggleable__control:checked~label.sk-toggleable__label-arrow:before {content: \"▾\";}#sk-container-id-5 div.sk-estimator input.sk-toggleable__control:checked~label.sk-toggleable__label {background-color: #d4ebff;}#sk-container-id-5 div.sk-label input.sk-toggleable__control:checked~label.sk-toggleable__label {background-color: #d4ebff;}#sk-container-id-5 input.sk-hidden--visually {border: 0;clip: rect(1px 1px 1px 1px);clip: rect(1px, 1px, 1px, 1px);height: 1px;margin: -1px;overflow: hidden;padding: 0;position: absolute;width: 1px;}#sk-container-id-5 div.sk-estimator {font-family: monospace;background-color: #f0f8ff;border: 1px dotted black;border-radius: 0.25em;box-sizing: border-box;margin-bottom: 0.5em;}#sk-container-id-5 div.sk-estimator:hover {background-color: #d4ebff;}#sk-container-id-5 div.sk-parallel-item::after {content: \"\";width: 100%;border-bottom: 1px solid gray;flex-grow: 1;}#sk-container-id-5 div.sk-label:hover label.sk-toggleable__label {background-color: #d4ebff;}#sk-container-id-5 div.sk-serial::before {content: \"\";position: absolute;border-left: 1px solid gray;box-sizing: border-box;top: 0;bottom: 0;left: 50%;z-index: 0;}#sk-container-id-5 div.sk-serial {display: flex;flex-direction: column;align-items: center;background-color: white;padding-right: 0.2em;padding-left: 0.2em;position: relative;}#sk-container-id-5 div.sk-item {position: relative;z-index: 1;}#sk-container-id-5 div.sk-parallel {display: flex;align-items: stretch;justify-content: center;background-color: white;position: relative;}#sk-container-id-5 div.sk-item::before, #sk-container-id-5 div.sk-parallel-item::before {content: \"\";position: absolute;border-left: 1px solid gray;box-sizing: border-box;top: 0;bottom: 0;left: 50%;z-index: -1;}#sk-container-id-5 div.sk-parallel-item {display: flex;flex-direction: column;z-index: 1;position: relative;background-color: white;}#sk-container-id-5 div.sk-parallel-item:first-child::after {align-self: flex-end;width: 50%;}#sk-container-id-5 div.sk-parallel-item:last-child::after {align-self: flex-start;width: 50%;}#sk-container-id-5 div.sk-parallel-item:only-child::after {width: 0;}#sk-container-id-5 div.sk-dashed-wrapped {border: 1px dashed gray;margin: 0 0.4em 0.5em 0.4em;box-sizing: border-box;padding-bottom: 0.4em;background-color: white;}#sk-container-id-5 div.sk-label label {font-family: monospace;font-weight: bold;display: inline-block;line-height: 1.2em;}#sk-container-id-5 div.sk-label-container {text-align: center;}#sk-container-id-5 div.sk-container {/* jupyter's `normalize.less` sets `[hidden] { display: none; }` but bootstrap.min.css set `[hidden] { display: none !important; }` so we also need the `!important` here to be able to override the default hidden behavior on the sphinx rendered scikit-learn.org. See: https://github.com/scikit-learn/scikit-learn/issues/21755 */display: inline-block !important;position: relative;}#sk-container-id-5 div.sk-text-repr-fallback {display: none;}</style><div id=\"sk-container-id-5\" class=\"sk-top-container\"><div class=\"sk-text-repr-fallback\"><pre>DecisionTreeRegressor(random_state=42)</pre><b>In a Jupyter environment, please rerun this cell to show the HTML representation or trust the notebook. <br />On GitHub, the HTML representation is unable to render, please try loading this page with nbviewer.org.</b></div><div class=\"sk-container\" hidden><div class=\"sk-item\"><div class=\"sk-estimator sk-toggleable\"><input class=\"sk-toggleable__control sk-hidden--visually\" id=\"sk-estimator-id-5\" type=\"checkbox\" checked><label for=\"sk-estimator-id-5\" class=\"sk-toggleable__label sk-toggleable__label-arrow\">DecisionTreeRegressor</label><div class=\"sk-toggleable__content\"><pre>DecisionTreeRegressor(random_state=42)</pre></div></div></div></div></div>"
            ]
          },
          "metadata": {},
          "execution_count": 94
        }
      ],
      "source": [
        "tree.fit(X,y)"
      ]
    },
    {
      "cell_type": "markdown",
      "metadata": {
        "deletable": false,
        "editable": false,
        "nbgrader": {
          "checksum": "d502a60bbbb071ffe3a67ce6d947bd5c",
          "grade": false,
          "grade_id": "cell-6ff289d40580301c",
          "locked": true,
          "schema_version": 1,
          "solution": false
        },
        "id": "incPThM0Q5p9"
      },
      "source": [
        "###### Let's check to see how well the CART tree does on the training dataset?"
      ]
    },
    {
      "cell_type": "code",
      "execution_count": 95,
      "metadata": {
        "deletable": false,
        "nbgrader": {
          "checksum": "84497f6941a29f9dd37f69f23e784bc6",
          "grade": false,
          "grade_id": "cell-2e28f7f48b3a6547",
          "locked": false,
          "schema_version": 1,
          "solution": true
        },
        "id": "-YDt7gsVQ5qB",
        "outputId": "5c54fa05-1521-417a-90d4-1f5fdb64d45b",
        "colab": {
          "base_uri": "https://localhost:8080/"
        }
      },
      "outputs": [
        {
          "output_type": "stream",
          "name": "stdout",
          "text": [
            "1.0\n"
          ]
        }
      ],
      "source": [
        "#Assign the output of OSR2 to \"result\".\n",
        "result = OSR2(tree.predict(X), y, y.mean())\n",
        "print(result)"
      ]
    },
    {
      "cell_type": "markdown",
      "metadata": {
        "deletable": false,
        "editable": false,
        "nbgrader": {
          "checksum": "8f34ea187a244b7afeb3b3dd59c2e3d7",
          "grade": false,
          "grade_id": "cell-6bbabb23aff204b7",
          "locked": true,
          "schema_version": 1,
          "solution": false
        },
        "id": "jFQdJtE9Q5qC"
      },
      "source": [
        "###### We will verify how big the trree is to ensure it might be a good general model for future datasets."
      ]
    },
    {
      "cell_type": "code",
      "execution_count": 96,
      "metadata": {
        "deletable": false,
        "nbgrader": {
          "checksum": "6d367b489bb43c3bdec3872e2359fbd6",
          "grade": false,
          "grade_id": "cell-7fa6e409bf7bf97a",
          "locked": false,
          "schema_version": 1,
          "solution": true
        },
        "id": "YBJrNg2BQ5qC",
        "outputId": "6b238d16-797a-4d31-805c-1d0690d5daad",
        "colab": {
          "base_uri": "https://localhost:8080/"
        }
      },
      "outputs": [
        {
          "output_type": "stream",
          "name": "stdout",
          "text": [
            "(11321, 47)\n"
          ]
        }
      ],
      "source": [
        "# Get the shape of the tree and assign the result to \"tree_shape\"\n",
        "tree_shape = tree.tree_.node_count, tree.tree_.max_depth\n",
        "print(tree_shape)"
      ]
    },
    {
      "cell_type": "markdown",
      "metadata": {
        "deletable": false,
        "editable": false,
        "nbgrader": {
          "checksum": "e2f76de823f5453c07165172a3f75084",
          "grade": false,
          "grade_id": "cell-d2f053f7c7d7b96e",
          "locked": true,
          "schema_version": 1,
          "solution": false
        },
        "id": "gwA92-GFQ5qD"
      },
      "source": [
        "###### The tree is very large, so let's check the OSR2 on the test set."
      ]
    },
    {
      "cell_type": "code",
      "execution_count": 97,
      "metadata": {
        "deletable": false,
        "editable": false,
        "nbgrader": {
          "checksum": "cfebfd028417686f4348bf42fa3baed9",
          "grade": false,
          "grade_id": "cell-2865ac9dfcdbc1e2",
          "locked": true,
          "schema_version": 1,
          "solution": false
        },
        "id": "XR-hO158Q5qD",
        "outputId": "d2f83ac0-5408-4530-8b61-63eab15b5c3b",
        "colab": {
          "base_uri": "https://localhost:8080/"
        }
      },
      "outputs": [
        {
          "output_type": "execute_result",
          "data": {
            "text/plain": [
              "0.7781904676781646"
            ]
          },
          "metadata": {},
          "execution_count": 97
        }
      ],
      "source": [
        "OSR2(tree.predict(X_test), y_test, y.mean())"
      ]
    },
    {
      "cell_type": "markdown",
      "metadata": {
        "deletable": false,
        "editable": false,
        "nbgrader": {
          "checksum": "f3da956ebff0bd55a9bcd56523f7f912",
          "grade": false,
          "grade_id": "cell-054d402fec624f9b",
          "locked": true,
          "schema_version": 1,
          "solution": false
        },
        "id": "AC0069uQQ5qD"
      },
      "source": [
        "# Cost Complexity Pruning\n",
        "Now let's prune the tree!"
      ]
    },
    {
      "cell_type": "code",
      "execution_count": 98,
      "metadata": {
        "deletable": false,
        "editable": false,
        "nbgrader": {
          "checksum": "af6ba890830af51a5fc824edfaff1fe3",
          "grade": false,
          "grade_id": "cell-44738d807f5e91e7",
          "locked": true,
          "schema_version": 1,
          "solution": false
        },
        "id": "GLUP5saxQ5qD"
      },
      "outputs": [],
      "source": [
        "tree = DecisionTreeRegressor(random_state=42)"
      ]
    },
    {
      "cell_type": "code",
      "execution_count": 99,
      "metadata": {
        "deletable": false,
        "nbgrader": {
          "checksum": "6322265ae952df8354e64e9cad74efa6",
          "grade": false,
          "grade_id": "cell-061c9199b09cdf0d",
          "locked": false,
          "schema_version": 1,
          "solution": true
        },
        "id": "33mgjxsMQ5qD",
        "outputId": "2191a1b7-63a7-438e-f8b5-058f207f3e1c",
        "colab": {
          "base_uri": "https://localhost:8080/"
        }
      },
      "outputs": [
        {
          "output_type": "stream",
          "name": "stdout",
          "text": [
            "{'ccp_alphas': array([0.00000000e+00, 1.00464962e+00, 1.00464962e+00, ...,\n",
            "       3.20231237e+07, 6.38927192e+07, 1.14395259e+08]), 'impurities': array([0.00000000e+00, 1.00464962e+00, 2.00929924e+00, ...,\n",
            "       4.57623206e+08, 5.21515925e+08, 6.35911185e+08])}\n"
          ]
        }
      ],
      "source": [
        "# \"path\" is the output of the pruning path\n",
        "path = tree.cost_complexity_pruning_path(X,y)\n",
        "print(path)"
      ]
    },
    {
      "cell_type": "code",
      "execution_count": 100,
      "metadata": {
        "deletable": false,
        "nbgrader": {
          "checksum": "f609d5667ee59a57ebc8bd6124838ffb",
          "grade": false,
          "grade_id": "cell-e99eda5c1f803f7a",
          "locked": false,
          "schema_version": 1,
          "solution": true
        },
        "id": "j9RjzDMYQ5qE",
        "outputId": "1a7378f7-3023-446b-b10d-83828674efcd",
        "colab": {
          "base_uri": "https://localhost:8080/"
        }
      },
      "outputs": [
        {
          "output_type": "stream",
          "name": "stdout",
          "text": [
            "[0.00000000e+00 1.00464962e+00 1.00464962e+00 ... 3.20231237e+07\n",
            " 6.38927192e+07 1.14395259e+08]\n"
          ]
        }
      ],
      "source": [
        "#Alpha values are assigned to the variable \"alphas\"\n",
        "alphas = path.ccp_alphas\n",
        "print(alphas)"
      ]
    },
    {
      "cell_type": "code",
      "execution_count": 101,
      "metadata": {
        "deletable": false,
        "nbgrader": {
          "checksum": "d50dd7feeeb73b5e012974c4aa448dda",
          "grade": false,
          "grade_id": "cell-18386d53bf4fd73b",
          "locked": false,
          "schema_version": 1,
          "solution": true
        },
        "id": "p6PdSbQEQ5qE",
        "outputId": "072a6f15-354d-4be1-f929-12452a1f22ae",
        "colab": {
          "base_uri": "https://localhost:8080/"
        }
      },
      "outputs": [
        {
          "output_type": "execute_result",
          "data": {
            "text/plain": [
              "5185"
            ]
          },
          "metadata": {},
          "execution_count": 101
        }
      ],
      "source": [
        "# Check the length of alphas to see how many alpha values have been generated.\n",
        "len(alphas)"
      ]
    },
    {
      "cell_type": "markdown",
      "metadata": {
        "deletable": false,
        "editable": false,
        "nbgrader": {
          "checksum": "8131f256c1f6720546bde6a93769371f",
          "grade": false,
          "grade_id": "cell-5bcfeee743d145e1",
          "locked": true,
          "schema_version": 1,
          "solution": false
        },
        "id": "y-XCEyyQQ5qE"
      },
      "source": [
        "##### Generate about ~50 trees, evenly sampled from this group.\n",
        "This line creates a new list or array called alphas_small by taking every 100th element from the original list or array alphas. This means there will be 5,185/100 = ~51 trees created"
      ]
    },
    {
      "cell_type": "code",
      "execution_count": 102,
      "metadata": {
        "deletable": false,
        "editable": false,
        "nbgrader": {
          "checksum": "89d6bcd3a34d062a45c1e136f903e25c",
          "grade": false,
          "grade_id": "cell-1585209d80c1f867",
          "locked": true,
          "schema_version": 1,
          "solution": false
        },
        "id": "Ptk_nNakQ5qF"
      },
      "outputs": [],
      "source": [
        "# This line creates a list of every 100th element\n",
        "alphas_small = alphas[::100]\n",
        "# This line reverses the order of the elements in alphas_small\n",
        "alphas_small = alphas_small[::-1]"
      ]
    },
    {
      "cell_type": "code",
      "execution_count": 103,
      "metadata": {
        "deletable": false,
        "nbgrader": {
          "checksum": "182b35f75ce579347ce76775521e66c8",
          "grade": false,
          "grade_id": "cell-43ae15c4fe21886d",
          "locked": false,
          "schema_version": 1,
          "solution": true
        },
        "id": "dqayzqEXQ5qF"
      },
      "outputs": [],
      "source": [
        "r2_all = []\n",
        "osr2_all = []\n",
        "node_counts = []\n",
        "\n",
        "# This for loop creates creates a regression tree for each alpha and calculates the out of sample r2 (OSR2)\n",
        "for alpha in alphas_small:\n",
        "    tree = DecisionTreeRegressor(random_state=42, ccp_alpha=alpha)\n",
        "    tree.fit(X,y)\n",
        "    y_pred = tree.predict(X)\n",
        "    r2_all.append(OSR2(y_pred, y, y.mean()))\n",
        "    y_pred = tree.predict(X_test)\n",
        "    osr2_all.append(OSR2(y_pred, y_test, y.mean()))\n",
        "    node_counts.append(tree.tree_.node_count)"
      ]
    },
    {
      "cell_type": "code",
      "execution_count": 104,
      "metadata": {
        "deletable": false,
        "editable": false,
        "nbgrader": {
          "checksum": "7a57e51b428d395ad4e892dc6ed226b3",
          "grade": false,
          "grade_id": "cell-14726cda1ecc0de0",
          "locked": true,
          "schema_version": 1,
          "solution": false
        },
        "id": "4nIy1fcJQ5qF",
        "outputId": "13a5c011-4cc3-4e8f-91a2-bd1f445ea673",
        "colab": {
          "base_uri": "https://localhost:8080/",
          "height": 489
        }
      },
      "outputs": [
        {
          "output_type": "execute_result",
          "data": {
            "text/plain": [
              "Text(0.5, 1.0, 'Prediction quality vs tree size')"
            ]
          },
          "metadata": {},
          "execution_count": 104
        },
        {
          "output_type": "display_data",
          "data": {
            "text/plain": [
              "<Figure size 640x480 with 1 Axes>"
            ],
            "image/png": "[encoded data removed]"
          },
          "metadata": {}
        }
      ],
      "source": [
        "# This plots the training R-squared and the test set out of sample r2 values versus the tree size. Both curves show there is a limit to the number\n",
        "# of trees before the R2 and OSR2 values decrease or level out.\n",
        "plt.plot(node_counts, r2_all, label='Training R-squared')\n",
        "plt.plot(node_counts, osr2_all, label='Test OSR-squared')\n",
        "plt.legend()\n",
        "plt.xlabel('Number of nodes')\n",
        "plt.ylabel('R-squared/OSR-Squared')\n",
        "plt.title('Prediction quality vs tree size')"
      ]
    },
    {
      "cell_type": "markdown",
      "metadata": {
        "deletable": false,
        "editable": false,
        "nbgrader": {
          "checksum": "7fe4d9e1d36904c004a42a327c069b88",
          "grade": false,
          "grade_id": "cell-42edc91416837574",
          "locked": true,
          "schema_version": 1,
          "solution": false
        },
        "id": "B5IrpltpQ5qF"
      },
      "source": [
        "###### Let's extract the tree with the corresponding best OSR2."
      ]
    },
    {
      "cell_type": "code",
      "execution_count": 105,
      "metadata": {
        "deletable": false,
        "nbgrader": {
          "checksum": "eb6a7419df7c461b4eed079946093556",
          "grade": false,
          "grade_id": "cell-884b7447651ee170",
          "locked": false,
          "schema_version": 1,
          "solution": true
        },
        "id": "goCxSK9NQ5qG"
      },
      "outputs": [],
      "source": [
        "# Assign the output to \"opt_idx\"\n",
        "opt_idx = np.argmax(osr2_all)"
      ]
    },
    {
      "cell_type": "code",
      "execution_count": 106,
      "metadata": {
        "deletable": false,
        "editable": false,
        "nbgrader": {
          "checksum": "aea62fd8016acade0a5a11dd1bd92d8d",
          "grade": false,
          "grade_id": "cell-9c5ed7b90f142fe6",
          "locked": true,
          "schema_version": 1,
          "solution": false
        },
        "id": "1i7GdjkhQ5qG",
        "outputId": "050c4bb6-d26d-4574-8c6d-f812e0a80468",
        "colab": {
          "base_uri": "https://localhost:8080/",
          "height": 74
        }
      },
      "outputs": [
        {
          "output_type": "execute_result",
          "data": {
            "text/plain": [
              "DecisionTreeRegressor(ccp_alpha=112830.96658742253, random_state=42)"
            ],
            "text/html": [
              "<style>#sk-container-id-6 {color: black;}#sk-container-id-6 pre{padding: 0;}#sk-container-id-6 div.sk-toggleable {background-color: white;}#sk-container-id-6 label.sk-toggleable__label {cursor: pointer;display: block;width: 100%;margin-bottom: 0;padding: 0.3em;box-sizing: border-box;text-align: center;}#sk-container-id-6 label.sk-toggleable__label-arrow:before {content: \"▸\";float: left;margin-right: 0.25em;color: #696969;}#sk-container-id-6 label.sk-toggleable__label-arrow:hover:before {color: black;}#sk-container-id-6 div.sk-estimator:hover label.sk-toggleable__label-arrow:before {color: black;}#sk-container-id-6 div.sk-toggleable__content {max-height: 0;max-width: 0;overflow: hidden;text-align: left;background-color: #f0f8ff;}#sk-container-id-6 div.sk-toggleable__content pre {margin: 0.2em;color: black;border-radius: 0.25em;background-color: #f0f8ff;}#sk-container-id-6 input.sk-toggleable__control:checked~div.sk-toggleable__content {max-height: 200px;max-width: 100%;overflow: auto;}#sk-container-id-6 input.sk-toggleable__control:checked~label.sk-toggleable__label-arrow:before {content: \"▾\";}#sk-container-id-6 div.sk-estimator input.sk-toggleable__control:checked~label.sk-toggleable__label {background-color: #d4ebff;}#sk-container-id-6 div.sk-label input.sk-toggleable__control:checked~label.sk-toggleable__label {background-color: #d4ebff;}#sk-container-id-6 input.sk-hidden--visually {border: 0;clip: rect(1px 1px 1px 1px);clip: rect(1px, 1px, 1px, 1px);height: 1px;margin: -1px;overflow: hidden;padding: 0;position: absolute;width: 1px;}#sk-container-id-6 div.sk-estimator {font-family: monospace;background-color: #f0f8ff;border: 1px dotted black;border-radius: 0.25em;box-sizing: border-box;margin-bottom: 0.5em;}#sk-container-id-6 div.sk-estimator:hover {background-color: #d4ebff;}#sk-container-id-6 div.sk-parallel-item::after {content: \"\";width: 100%;border-bottom: 1px solid gray;flex-grow: 1;}#sk-container-id-6 div.sk-label:hover label.sk-toggleable__label {background-color: #d4ebff;}#sk-container-id-6 div.sk-serial::before {content: \"\";position: absolute;border-left: 1px solid gray;box-sizing: border-box;top: 0;bottom: 0;left: 50%;z-index: 0;}#sk-container-id-6 div.sk-serial {display: flex;flex-direction: column;align-items: center;background-color: white;padding-right: 0.2em;padding-left: 0.2em;position: relative;}#sk-container-id-6 div.sk-item {position: relative;z-index: 1;}#sk-container-id-6 div.sk-parallel {display: flex;align-items: stretch;justify-content: center;background-color: white;position: relative;}#sk-container-id-6 div.sk-item::before, #sk-container-id-6 div.sk-parallel-item::before {content: \"\";position: absolute;border-left: 1px solid gray;box-sizing: border-box;top: 0;bottom: 0;left: 50%;z-index: -1;}#sk-container-id-6 div.sk-parallel-item {display: flex;flex-direction: column;z-index: 1;position: relative;background-color: white;}#sk-container-id-6 div.sk-parallel-item:first-child::after {align-self: flex-end;width: 50%;}#sk-container-id-6 div.sk-parallel-item:last-child::after {align-self: flex-start;width: 50%;}#sk-container-id-6 div.sk-parallel-item:only-child::after {width: 0;}#sk-container-id-6 div.sk-dashed-wrapped {border: 1px dashed gray;margin: 0 0.4em 0.5em 0.4em;box-sizing: border-box;padding-bottom: 0.4em;background-color: white;}#sk-container-id-6 div.sk-label label {font-family: monospace;font-weight: bold;display: inline-block;line-height: 1.2em;}#sk-container-id-6 div.sk-label-container {text-align: center;}#sk-container-id-6 div.sk-container {/* jupyter's `normalize.less` sets `[hidden] { display: none; }` but bootstrap.min.css set `[hidden] { display: none !important; }` so we also need the `!important` here to be able to override the default hidden behavior on the sphinx rendered scikit-learn.org. See: https://github.com/scikit-learn/scikit-learn/issues/21755 */display: inline-block !important;position: relative;}#sk-container-id-6 div.sk-text-repr-fallback {display: none;}</style><div id=\"sk-container-id-6\" class=\"sk-top-container\"><div class=\"sk-text-repr-fallback\"><pre>DecisionTreeRegressor(ccp_alpha=112830.96658742253, random_state=42)</pre><b>In a Jupyter environment, please rerun this cell to show the HTML representation or trust the notebook. <br />On GitHub, the HTML representation is unable to render, please try loading this page with nbviewer.org.</b></div><div class=\"sk-container\" hidden><div class=\"sk-item\"><div class=\"sk-estimator sk-toggleable\"><input class=\"sk-toggleable__control sk-hidden--visually\" id=\"sk-estimator-id-6\" type=\"checkbox\" checked><label for=\"sk-estimator-id-6\" class=\"sk-toggleable__label sk-toggleable__label-arrow\">DecisionTreeRegressor</label><div class=\"sk-toggleable__content\"><pre>DecisionTreeRegressor(ccp_alpha=112830.96658742253, random_state=42)</pre></div></div></div></div></div>"
            ]
          },
          "metadata": {},
          "execution_count": 106
        }
      ],
      "source": [
        " # fit the best tree to the X, y values\n",
        " tree = DecisionTreeRegressor(random_state=42, ccp_alpha=alphas_small[opt_idx])\n",
        " tree.fit(X,y)"
      ]
    },
    {
      "cell_type": "code",
      "execution_count": 107,
      "metadata": {
        "deletable": false,
        "editable": false,
        "nbgrader": {
          "checksum": "a7c3a94f0f30ea5c70a530a24c2a0b0e",
          "grade": false,
          "grade_id": "cell-bdc38c34dbadf719",
          "locked": true,
          "schema_version": 1,
          "solution": false
        },
        "id": "QCHxJ1hAQ5qG",
        "outputId": "6fd823cc-7fd2-4546-8301-968e8f506eb8",
        "colab": {
          "base_uri": "https://localhost:8080/"
        }
      },
      "outputs": [
        {
          "output_type": "execute_result",
          "data": {
            "text/plain": [
              "(751, 29)"
            ]
          },
          "metadata": {},
          "execution_count": 107
        }
      ],
      "source": [
        "# Let's check the size of the tree with node count and maximum depth\n",
        "tree.tree_.node_count, tree.tree_.max_depth"
      ]
    },
    {
      "cell_type": "code",
      "execution_count": 108,
      "metadata": {
        "deletable": false,
        "editable": false,
        "nbgrader": {
          "checksum": "b44803eabea81f5e89c3d058d597e47b",
          "grade": false,
          "grade_id": "cell-2dd7c8c8c358680a",
          "locked": true,
          "schema_version": 1,
          "solution": false
        },
        "id": "1QkEpRSUQ5qG"
      },
      "outputs": [],
      "source": [
        "# Define the function \"viz_tree\" in order to visualize the tree\n",
        "def viz_tree(tree, font=6, figsize=(16,10)):\n",
        "  '''\n",
        "  draws a classification tree\n",
        "  '''\n",
        "  plt.figure(figsize=figsize)  # set plot size (denoted in inches)\n",
        "  _ = plot_tree(tree,\n",
        "                feature_names=X.columns,\n",
        "                filled=True,\n",
        "                fontsize=font)"
      ]
    },
    {
      "cell_type": "markdown",
      "metadata": {
        "deletable": false,
        "editable": false,
        "nbgrader": {
          "checksum": "f2dfd3f08e9ea0ac46c0e8251ea7f0c3",
          "grade": false,
          "grade_id": "cell-0ee317eb1f4d0586",
          "locked": true,
          "schema_version": 1,
          "solution": false
        },
        "id": "PyHCRPUZQ5qH"
      },
      "source": [
        "###### Let's try to visualize it."
      ]
    },
    {
      "cell_type": "code",
      "execution_count": 109,
      "metadata": {
        "deletable": false,
        "editable": false,
        "nbgrader": {
          "checksum": "6ee6b63c330f8b59d3f67c096950ddca",
          "grade": false,
          "grade_id": "cell-e204ba9a21cb72c2",
          "locked": true,
          "schema_version": 1,
          "solution": false
        },
        "id": "DuH-iPpYQ5qH",
        "outputId": "46ffdba8-1e97-486b-961b-70d1f8cd540a",
        "colab": {
          "base_uri": "https://localhost:8080/",
          "height": 836
        }
      },
      "outputs": [
        {
          "output_type": "display_data",
          "data": {
            "text/plain": [
              "<Figure size 1600x1000 with 1 Axes>"
            ],
            "image/png": "[encoded data removed]"
          },
          "metadata": {}
        }
      ],
      "source": [
        "viz_tree(tree)"
      ]
    },
    {
      "cell_type": "markdown",
      "metadata": {
        "deletable": false,
        "editable": false,
        "nbgrader": {
          "checksum": "5c82b7e2c92562bbdd309954aeeb591c",
          "grade": false,
          "grade_id": "cell-26db87c63e1a6d7d",
          "locked": true,
          "schema_version": 1,
          "solution": false
        },
        "id": "k5vdh9lGQ5qH"
      },
      "source": [
        "###### Confirm the tree's OSR2 on the test set."
      ]
    },
    {
      "cell_type": "code",
      "execution_count": 110,
      "metadata": {
        "deletable": false,
        "nbgrader": {
          "checksum": "db3010c9c68b967a04fb06200dd12f83",
          "grade": false,
          "grade_id": "cell-1012bedbae441944",
          "locked": false,
          "schema_version": 1,
          "solution": true
        },
        "scrolled": true,
        "id": "6FS9Cy5bQ5qH",
        "outputId": "de3b537c-f663-496c-eeb1-42b18c1329ed",
        "colab": {
          "base_uri": "https://localhost:8080/"
        }
      },
      "outputs": [
        {
          "output_type": "stream",
          "name": "stdout",
          "text": [
            "0.7976630986012803\n"
          ]
        }
      ],
      "source": [
        "# The OSR2 output will be to \"osr2\" and print\n",
        "osr2 = OSR2(tree.predict(X_test), y_test, y.mean())\n",
        "\n",
        "print(osr2)"
      ]
    }
  ],
  "metadata": {
    "kernelspec": {
      "display_name": "Python 3",
      "language": "python",
      "name": "python3"
    },
    "language_info": {
      "codemirror_mode": {
        "name": "ipython",
        "version": 3
      },
      "file_extension": ".py",
      "mimetype": "text/x-python",
      "name": "python",
      "nbconvert_exporter": "python",
      "pygments_lexer": "ipython3",
      "version": "3.6.9"
    },
    "colab": {
      "provenance": [],
      "include_colab_link": true
    }
  },
  "nbformat": 4,
  "nbformat_minor": 0
}