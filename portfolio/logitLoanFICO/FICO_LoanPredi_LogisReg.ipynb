{
 "cells": [
  {
   "cell_type": "markdown",
   "id": "8ad7b562-ef52-48b6-85a4-ef9fd08070cb",
   "metadata": {},
   "source": [
    "# This project evaluates Loan Data by creating a Logistic Regression model to determine whether a customer will default on their loan based on their FICO credit score. \n",
    "## A Logistic Regression model (Logit) is created on the training dataset and tested on the test dataset.\n",
    "#### First we will import the necessary libraries"
   ]
  },
  {
   "cell_type": "code",
   "execution_count": 820,
   "id": "19943a48-e5b8-466e-9267-d9f471f4e70d",
   "metadata": {},
   "outputs": [],
   "source": [
    "import warnings\n",
    "import numpy as np\n",
    "import seaborn as sns\n",
    "import pandas as pd\n",
    "import matplotlib.pyplot as plt\n",
    "from statsmodels.formula.api import logit\n",
    "from sklearn.model_selection import train_test_split\n",
    "from sklearn.metrics import ConfusionMatrixDisplay\n",
    "from sklearn.metrics import confusion_matrix\n",
    "from sklearn.metrics import accuracy_score\n",
    "from pandas.errors import SettingWithCopyWarning\n",
    "import sklearn\n",
    "\n",
    "warnings.simplefilter(action=\"ignore\", category=SettingWithCopyWarning)"
   ]
  },
  {
   "cell_type": "markdown",
   "id": "2e1f6b63-4648-4438-b483-179903f0fe87",
   "metadata": {},
   "source": [
    "#### Now we will load the dataset into a Pandas dataframe, df"
   ]
  },
  {
   "cell_type": "code",
   "execution_count": 822,
   "id": "a9a93754-cb46-4cdd-b2eb-38246626588a",
   "metadata": {},
   "outputs": [
    {
     "name": "stdout",
     "output_type": "stream",
     "text": [
      "      default  installment  log_income  fico_score  rev_balance  inquiries  \\\n",
      "0           0          829        4.93         737        28.85          0   \n",
      "1           0          228        4.81         707        33.62          0   \n",
      "2           0          367        4.51         682         3.51          1   \n",
      "3           0          162        4.93         712        33.67          1   \n",
      "4           0          103        4.91         667         4.74          0   \n",
      "...       ...          ...         ...         ...          ...        ...   \n",
      "9511        1          345        5.29         672       215.37          2   \n",
      "9512        1          258        4.84         722         0.18          5   \n",
      "9513        1           98        4.60         687        10.04          8   \n",
      "9514        1          352        4.70         692         0.00          5   \n",
      "9515        1          853        4.89         732        37.88          6   \n",
      "\n",
      "      records  \n",
      "0           0  \n",
      "1           0  \n",
      "2           0  \n",
      "3           0  \n",
      "4           0  \n",
      "...       ...  \n",
      "9511        0  \n",
      "9512        0  \n",
      "9513        0  \n",
      "9514        0  \n",
      "9515        0  \n",
      "\n",
      "[9516 rows x 7 columns]\n"
     ]
    }
   ],
   "source": [
    "# Read the file loan.csv into a Pandas dataframe, df.\n",
    "# This line of code can be used if loading locally: df = pd.read_csv('loans.csv')\n",
    "# The csv file is loaded from my github.\n",
    "df = pd.read_csv('https://raw.githubusercontent.com/GriffsKode/griffskode.github.io/main/portfolio/logitLoanFICO/loans.csv')\n",
    "print(df)"
   ]
  },
  {
   "cell_type": "markdown",
   "id": "c5eddd6b-3f81-4ebb-b136-46e602a7fad1",
   "metadata": {},
   "source": [
    "### The dataset consists of 9,516 rows and 7 columns. The seven columns are: default, installment, log_income, fico_score, rev_balance, inquiries, and records.\n",
    "### We want the dataframe to only contain whether a customer defaulted (default) and their corresponding FICO score (fico_score).\n",
    "### The customer default and no_default data will be used to create a logistic regression model."
   ]
  },
  {
   "cell_type": "code",
   "execution_count": 824,
   "id": "110e3c1b-f952-44dc-b644-887836054d4e",
   "metadata": {},
   "outputs": [],
   "source": [
    "# The dataframe is set to only include the \"default\" and \"fico_score\" columns. \n",
    "df = df[[\"default\", \"fico_score\"]]"
   ]
  },
  {
   "cell_type": "markdown",
   "id": "82418af1-62d9-4971-bab2-9c572798b468",
   "metadata": {},
   "source": [
    "#### Now we will examine the head and tail of the dataframe to ensure the dataframe is correct."
   ]
  },
  {
   "cell_type": "code",
   "execution_count": 826,
   "id": "e66577fc-6e2d-4a3f-80b6-247dff223e70",
   "metadata": {},
   "outputs": [
    {
     "name": "stdout",
     "output_type": "stream",
     "text": [
      "   default  fico_score\n",
      "0        0         737\n",
      "1        0         707\n",
      "2        0         682\n",
      "3        0         712\n",
      "4        0         667\n",
      "5        0         727\n",
      "      default  fico_score\n",
      "9510        1         662\n",
      "9511        1         672\n",
      "9512        1         722\n",
      "9513        1         687\n",
      "9514        1         692\n",
      "9515        1         732\n"
     ]
    }
   ],
   "source": [
    "print(df.head(6))\n",
    "print(df.tail(6))"
   ]
  },
  {
   "cell_type": "markdown",
   "id": "31cd056a-e822-4b12-b8d6-ab46e1bac398",
   "metadata": {},
   "source": [
    "#### Create a default_df that contains only the customers who defaulted on their loans.\n",
    "##### These rows are identified by when default == 1"
   ]
  },
  {
   "cell_type": "code",
   "execution_count": 828,
   "id": "33807727-352a-4ff4-b0c5-7dd710f7b1ac",
   "metadata": {},
   "outputs": [
    {
     "name": "stdout",
     "output_type": "stream",
     "text": [
      "\n",
      "Default Dataframe :\n",
      "       default  fico_score\n",
      "6           1         667\n",
      "7           1         722\n",
      "57          1         682\n",
      "65          1         687\n",
      "73          1         677\n",
      "...       ...         ...\n",
      "9511        1         672\n",
      "9512        1         722\n",
      "9513        1         687\n",
      "9514        1         692\n",
      "9515        1         732\n",
      "\n",
      "[1521 rows x 2 columns]\n"
     ]
    }
   ],
   "source": [
    "# df.loc[] is used to extract the rows where the loan was defaulted (default == 1). \n",
    "# The resulting dataframe is set to default_df and printed.\n",
    "default_df = df.loc[df['default'] == 1]\n",
    "\n",
    "print('\\nDefault Dataframe :\\n', default_df)"
   ]
  },
  {
   "cell_type": "markdown",
   "id": "f1c4438c-6607-476b-8c2b-505d369ca0dd",
   "metadata": {},
   "source": [
    "#### Create a no_default_df that contains only the customers who did not default on their loans.\n",
    "##### These rows are identified by when default == 0"
   ]
  },
  {
   "cell_type": "code",
   "execution_count": 830,
   "id": "92ae244c-751b-4875-ad7e-746dc64682cc",
   "metadata": {},
   "outputs": [
    {
     "name": "stdout",
     "output_type": "stream",
     "text": [
      "\n",
      "No Default Dataframe :\n",
      "       default  fico_score\n",
      "0           0         737\n",
      "1           0         707\n",
      "2           0         682\n",
      "3           0         712\n",
      "4           0         667\n",
      "...       ...         ...\n",
      "9499        0         722\n",
      "9500        0         717\n",
      "9502        0         687\n",
      "9505        0         687\n",
      "9506        0         667\n",
      "\n",
      "[7995 rows x 2 columns]\n"
     ]
    }
   ],
   "source": [
    "# df.loc[] is used to extract the rows where the loan was not defaulted (default == 0).\n",
    "# The resulting dataframe is set to no_default_df and printed.\n",
    "no_default_df = df.loc[df['default'] == 0]\n",
    "print('\\nNo Default Dataframe :\\n', no_default_df)"
   ]
  },
  {
   "cell_type": "markdown",
   "id": "6569c0d8-8731-4549-bdfa-bac36ed7f082",
   "metadata": {},
   "source": [
    "### Examine the two dataframes with df.describe() to ensure the datasets were created properly.\n",
    "#### The mean, min, 25%, 50%, 75%, and max values are reviewed to ensure no_default_df is equal to zero and default_df is equal to one."
   ]
  },
  {
   "cell_type": "code",
   "execution_count": 832,
   "id": "5bf26b57-ca03-40f7-b65d-f553f93a2be5",
   "metadata": {},
   "outputs": [
    {
     "data": {
      "text/html": [
       "<div>\n",
       "<style scoped>\n",
       "    .dataframe tbody tr th:only-of-type {\n",
       "        vertical-align: middle;\n",
       "    }\n",
       "\n",
       "    .dataframe tbody tr th {\n",
       "        vertical-align: top;\n",
       "    }\n",
       "\n",
       "    .dataframe thead th {\n",
       "        text-align: right;\n",
       "    }\n",
       "</style>\n",
       "<table border=\"1\" class=\"dataframe\">\n",
       "  <thead>\n",
       "    <tr style=\"text-align: right;\">\n",
       "      <th></th>\n",
       "      <th>default</th>\n",
       "      <th>fico_score</th>\n",
       "    </tr>\n",
       "  </thead>\n",
       "  <tbody>\n",
       "    <tr>\n",
       "      <th>count</th>\n",
       "      <td>7995.0</td>\n",
       "      <td>7995.000000</td>\n",
       "    </tr>\n",
       "    <tr>\n",
       "      <th>mean</th>\n",
       "      <td>0.0</td>\n",
       "      <td>713.307067</td>\n",
       "    </tr>\n",
       "    <tr>\n",
       "      <th>std</th>\n",
       "      <td>0.0</td>\n",
       "      <td>38.209948</td>\n",
       "    </tr>\n",
       "    <tr>\n",
       "      <th>min</th>\n",
       "      <td>0.0</td>\n",
       "      <td>612.000000</td>\n",
       "    </tr>\n",
       "    <tr>\n",
       "      <th>25%</th>\n",
       "      <td>0.0</td>\n",
       "      <td>682.000000</td>\n",
       "    </tr>\n",
       "    <tr>\n",
       "      <th>50%</th>\n",
       "      <td>0.0</td>\n",
       "      <td>707.000000</td>\n",
       "    </tr>\n",
       "    <tr>\n",
       "      <th>75%</th>\n",
       "      <td>0.0</td>\n",
       "      <td>742.000000</td>\n",
       "    </tr>\n",
       "    <tr>\n",
       "      <th>max</th>\n",
       "      <td>0.0</td>\n",
       "      <td>827.000000</td>\n",
       "    </tr>\n",
       "  </tbody>\n",
       "</table>\n",
       "</div>"
      ],
      "text/plain": [
       "       default   fico_score\n",
       "count   7995.0  7995.000000\n",
       "mean       0.0   713.307067\n",
       "std        0.0    38.209948\n",
       "min        0.0   612.000000\n",
       "25%        0.0   682.000000\n",
       "50%        0.0   707.000000\n",
       "75%        0.0   742.000000\n",
       "max        0.0   827.000000"
      ]
     },
     "execution_count": 832,
     "metadata": {},
     "output_type": "execute_result"
    }
   ],
   "source": [
    "no_default_df.describe()"
   ]
  },
  {
   "cell_type": "code",
   "execution_count": 833,
   "id": "360d8573-e430-4b57-863a-eb3304540c84",
   "metadata": {},
   "outputs": [
    {
     "data": {
      "text/html": [
       "<div>\n",
       "<style scoped>\n",
       "    .dataframe tbody tr th:only-of-type {\n",
       "        vertical-align: middle;\n",
       "    }\n",
       "\n",
       "    .dataframe tbody tr th {\n",
       "        vertical-align: top;\n",
       "    }\n",
       "\n",
       "    .dataframe thead th {\n",
       "        text-align: right;\n",
       "    }\n",
       "</style>\n",
       "<table border=\"1\" class=\"dataframe\">\n",
       "  <thead>\n",
       "    <tr style=\"text-align: right;\">\n",
       "      <th></th>\n",
       "      <th>default</th>\n",
       "      <th>fico_score</th>\n",
       "    </tr>\n",
       "  </thead>\n",
       "  <tbody>\n",
       "    <tr>\n",
       "      <th>count</th>\n",
       "      <td>1521.0</td>\n",
       "      <td>1521.000000</td>\n",
       "    </tr>\n",
       "    <tr>\n",
       "      <th>mean</th>\n",
       "      <td>1.0</td>\n",
       "      <td>697.884287</td>\n",
       "    </tr>\n",
       "    <tr>\n",
       "      <th>std</th>\n",
       "      <td>0.0</td>\n",
       "      <td>33.764233</td>\n",
       "    </tr>\n",
       "    <tr>\n",
       "      <th>min</th>\n",
       "      <td>1.0</td>\n",
       "      <td>617.000000</td>\n",
       "    </tr>\n",
       "    <tr>\n",
       "      <th>25%</th>\n",
       "      <td>1.0</td>\n",
       "      <td>672.000000</td>\n",
       "    </tr>\n",
       "    <tr>\n",
       "      <th>50%</th>\n",
       "      <td>1.0</td>\n",
       "      <td>692.000000</td>\n",
       "    </tr>\n",
       "    <tr>\n",
       "      <th>75%</th>\n",
       "      <td>1.0</td>\n",
       "      <td>717.000000</td>\n",
       "    </tr>\n",
       "    <tr>\n",
       "      <th>max</th>\n",
       "      <td>1.0</td>\n",
       "      <td>822.000000</td>\n",
       "    </tr>\n",
       "  </tbody>\n",
       "</table>\n",
       "</div>"
      ],
      "text/plain": [
       "       default   fico_score\n",
       "count   1521.0  1521.000000\n",
       "mean       1.0   697.884287\n",
       "std        0.0    33.764233\n",
       "min        1.0   617.000000\n",
       "25%        1.0   672.000000\n",
       "50%        1.0   692.000000\n",
       "75%        1.0   717.000000\n",
       "max        1.0   822.000000"
      ]
     },
     "execution_count": 833,
     "metadata": {},
     "output_type": "execute_result"
    }
   ],
   "source": [
    "default_df.describe()"
   ]
  },
  {
   "cell_type": "markdown",
   "id": "0326ae04-43cd-4670-b53a-24409cc84260",
   "metadata": {},
   "source": [
    "### Plot the data using Matplotlib to ensure the default and no_default are either equal to zero or one.\n",
    "#### Plot fico_score vs. default"
   ]
  },
  {
   "cell_type": "code",
   "execution_count": 835,
   "id": "d2f3d8f5-4477-442a-8eff-6f689bc5dff8",
   "metadata": {},
   "outputs": [
    {
     "data": {
      "image/png": "[encoded data removed]",
      "text/plain": [
       "<Figure size 640x480 with 1 Axes>"
      ]
     },
     "metadata": {},
     "output_type": "display_data"
    },
    {
     "name": "stdout",
     "output_type": "stream",
     "text": [
      "[[737.0 0.0]\n",
      " [707.0 0.0]\n",
      " [682.0 0.0]\n",
      " [712.0 0.0]\n",
      " [667.0 0.0]\n",
      " [727.0 0.0]\n",
      " [667.0 1.0]\n",
      " [722.0 1.0]\n",
      " [682.0 0.0]\n",
      " [707.0 0.0]]\n"
     ]
    }
   ],
   "source": [
    "# Plot fico_score versus default\n",
    "# Matplotlib scatter with fico_score (x) and default (y)\n",
    "plot = plt.scatter(df['fico_score'], df['default'], alpha=0.1, s=200)\n",
    "plt.title('fico_score vs. default')\n",
    "plt.xlabel('fico_score')\n",
    "plt.ylabel('default')\n",
    "plt.show()\n",
    "\n",
    "# points contains 10 of the coordinates in the scatter plot. \n",
    "# Each point (x, y) values, correspond to the fico_score (x) and default values (y) in the dataframe, df.\n",
    "points = plot.get_offsets()\n",
    "print(points[:10])"
   ]
  },
  {
   "cell_type": "markdown",
   "id": "09f7a870-e0b4-41e3-8b31-bc42e0917601",
   "metadata": {},
   "source": [
    "### We want to create a logisitic regression model to use the fico_score to determine whether or not someone will default on their loan.\n",
    "### We will split the dataframe into 70% training data (df_train) and 30% testing data (df_test) using the train_test_split function.\n",
    "#### The random_state is set to 42. "
   ]
  },
  {
   "cell_type": "code",
   "execution_count": 837,
   "id": "f4d2e9af-d25b-40bf-bcb5-cdfe6070863e",
   "metadata": {},
   "outputs": [],
   "source": [
    "# Data split into 70% train and 30% test.\n",
    "# The dataframes should be called df_train and df_test\n",
    "df_train, df_test = train_test_split(df, test_size=0.3, random_state=42)"
   ]
  },
  {
   "cell_type": "markdown",
   "id": "333fa617-34a2-4859-8f73-f14d0ebf98a8",
   "metadata": {},
   "source": [
    "#### Examine the training dataframe, df_train."
   ]
  },
  {
   "cell_type": "code",
   "execution_count": 839,
   "id": "01227bd1-937e-4d9c-9042-51329271d1ae",
   "metadata": {},
   "outputs": [
    {
     "data": {
      "text/html": [
       "<div>\n",
       "<style scoped>\n",
       "    .dataframe tbody tr th:only-of-type {\n",
       "        vertical-align: middle;\n",
       "    }\n",
       "\n",
       "    .dataframe tbody tr th {\n",
       "        vertical-align: top;\n",
       "    }\n",
       "\n",
       "    .dataframe thead th {\n",
       "        text-align: right;\n",
       "    }\n",
       "</style>\n",
       "<table border=\"1\" class=\"dataframe\">\n",
       "  <thead>\n",
       "    <tr style=\"text-align: right;\">\n",
       "      <th></th>\n",
       "      <th>default</th>\n",
       "      <th>fico_score</th>\n",
       "    </tr>\n",
       "  </thead>\n",
       "  <tbody>\n",
       "    <tr>\n",
       "      <th>count</th>\n",
       "      <td>6661.000000</td>\n",
       "      <td>6661.000000</td>\n",
       "    </tr>\n",
       "    <tr>\n",
       "      <th>mean</th>\n",
       "      <td>0.159285</td>\n",
       "      <td>710.142171</td>\n",
       "    </tr>\n",
       "    <tr>\n",
       "      <th>std</th>\n",
       "      <td>0.365969</td>\n",
       "      <td>37.858862</td>\n",
       "    </tr>\n",
       "    <tr>\n",
       "      <th>min</th>\n",
       "      <td>0.000000</td>\n",
       "      <td>612.000000</td>\n",
       "    </tr>\n",
       "    <tr>\n",
       "      <th>25%</th>\n",
       "      <td>0.000000</td>\n",
       "      <td>682.000000</td>\n",
       "    </tr>\n",
       "    <tr>\n",
       "      <th>50%</th>\n",
       "      <td>0.000000</td>\n",
       "      <td>707.000000</td>\n",
       "    </tr>\n",
       "    <tr>\n",
       "      <th>75%</th>\n",
       "      <td>0.000000</td>\n",
       "      <td>737.000000</td>\n",
       "    </tr>\n",
       "    <tr>\n",
       "      <th>max</th>\n",
       "      <td>1.000000</td>\n",
       "      <td>822.000000</td>\n",
       "    </tr>\n",
       "  </tbody>\n",
       "</table>\n",
       "</div>"
      ],
      "text/plain": [
       "           default   fico_score\n",
       "count  6661.000000  6661.000000\n",
       "mean      0.159285   710.142171\n",
       "std       0.365969    37.858862\n",
       "min       0.000000   612.000000\n",
       "25%       0.000000   682.000000\n",
       "50%       0.000000   707.000000\n",
       "75%       0.000000   737.000000\n",
       "max       1.000000   822.000000"
      ]
     },
     "execution_count": 839,
     "metadata": {},
     "output_type": "execute_result"
    }
   ],
   "source": [
    "df_train.describe()"
   ]
  },
  {
   "cell_type": "markdown",
   "id": "97cd2a00-d54d-4fb1-b08d-25fb11647d46",
   "metadata": {},
   "source": [
    "#### Examine the test dataframe, df_test."
   ]
  },
  {
   "cell_type": "code",
   "execution_count": 841,
   "id": "0ebf57a2-dfd6-4440-9563-192cbb9d13d8",
   "metadata": {},
   "outputs": [
    {
     "data": {
      "text/html": [
       "<div>\n",
       "<style scoped>\n",
       "    .dataframe tbody tr th:only-of-type {\n",
       "        vertical-align: middle;\n",
       "    }\n",
       "\n",
       "    .dataframe tbody tr th {\n",
       "        vertical-align: top;\n",
       "    }\n",
       "\n",
       "    .dataframe thead th {\n",
       "        text-align: right;\n",
       "    }\n",
       "</style>\n",
       "<table border=\"1\" class=\"dataframe\">\n",
       "  <thead>\n",
       "    <tr style=\"text-align: right;\">\n",
       "      <th></th>\n",
       "      <th>default</th>\n",
       "      <th>fico_score</th>\n",
       "    </tr>\n",
       "  </thead>\n",
       "  <tbody>\n",
       "    <tr>\n",
       "      <th>count</th>\n",
       "      <td>2855.000000</td>\n",
       "      <td>2855.000000</td>\n",
       "    </tr>\n",
       "    <tr>\n",
       "      <th>mean</th>\n",
       "      <td>0.161121</td>\n",
       "      <td>712.474606</td>\n",
       "    </tr>\n",
       "    <tr>\n",
       "      <th>std</th>\n",
       "      <td>0.367707</td>\n",
       "      <td>38.139235</td>\n",
       "    </tr>\n",
       "    <tr>\n",
       "      <th>min</th>\n",
       "      <td>0.000000</td>\n",
       "      <td>612.000000</td>\n",
       "    </tr>\n",
       "    <tr>\n",
       "      <th>25%</th>\n",
       "      <td>0.000000</td>\n",
       "      <td>682.000000</td>\n",
       "    </tr>\n",
       "    <tr>\n",
       "      <th>50%</th>\n",
       "      <td>0.000000</td>\n",
       "      <td>707.000000</td>\n",
       "    </tr>\n",
       "    <tr>\n",
       "      <th>75%</th>\n",
       "      <td>0.000000</td>\n",
       "      <td>737.000000</td>\n",
       "    </tr>\n",
       "    <tr>\n",
       "      <th>max</th>\n",
       "      <td>1.000000</td>\n",
       "      <td>827.000000</td>\n",
       "    </tr>\n",
       "  </tbody>\n",
       "</table>\n",
       "</div>"
      ],
      "text/plain": [
       "           default   fico_score\n",
       "count  2855.000000  2855.000000\n",
       "mean      0.161121   712.474606\n",
       "std       0.367707    38.139235\n",
       "min       0.000000   612.000000\n",
       "25%       0.000000   682.000000\n",
       "50%       0.000000   707.000000\n",
       "75%       0.000000   737.000000\n",
       "max       1.000000   827.000000"
      ]
     },
     "execution_count": 841,
     "metadata": {},
     "output_type": "execute_result"
    }
   ],
   "source": [
    "df_test.describe()"
   ]
  },
  {
   "cell_type": "markdown",
   "id": "77fc2bd9-87a3-412e-bb23-b9ac6938c125",
   "metadata": {},
   "source": [
    "### Create a Logistic Regression Model using the data"
   ]
  },
  {
   "cell_type": "code",
   "execution_count": 843,
   "id": "7ebf86b7-885d-4276-bd21-148937850e5b",
   "metadata": {},
   "outputs": [
    {
     "name": "stdout",
     "output_type": "stream",
     "text": [
      "Optimization terminated successfully.\n",
      "         Current function value: 0.426777\n",
      "         Iterations 6\n",
      "                           Logit Regression Results                           \n",
      "==============================================================================\n",
      "Dep. Variable:                default   No. Observations:                 6661\n",
      "Model:                          Logit   Df Residuals:                     6659\n",
      "Method:                           MLE   Df Model:                            1\n",
      "Date:                Sun, 25 Aug 2024   Pseudo R-squ.:                 0.02670\n",
      "Time:                        15:27:45   Log-Likelihood:                -2842.8\n",
      "converged:                       True   LL-Null:                       -2920.7\n",
      "Covariance Type:            nonrobust   LLR p-value:                 8.719e-36\n",
      "==============================================================================\n",
      "                 coef    std err          z      P>|z|      [0.025      0.975]\n",
      "------------------------------------------------------------------------------\n",
      "Intercept      6.6937      0.697      9.610      0.000       5.329       8.059\n",
      "fico_score    -0.0119      0.001    -11.924      0.000      -0.014      -0.010\n",
      "==============================================================================\n"
     ]
    }
   ],
   "source": [
    "# The logistic regression model formula = target (depedent variable) ~ features (indepedent variables)\n",
    "formula = \"default ~ fico_score\"\n",
    "\n",
    "# Fit the model (\"est\") to the training data using a logistic regression algorithm (logit).\n",
    "est = logit(formula=formula, data=df_train).fit()\n",
    "\n",
    "# Print the model (\"est\") to examine the Pseudo R-squared, p values, and coefficients\n",
    "print(est.summary())"
   ]
  },
  {
   "cell_type": "markdown",
   "id": "710ca658-f836-425b-8c30-b9c538948785",
   "metadata": {},
   "source": [
    "### The logistic regression model (\"est\") is tested on the test dataframe (df_test) to observe how the model performs on unseen data.\n",
    "#### A predicted_probability is calculated to predict how likely a customer is to default on their loan given \"default\" and \"fico_score\" test data."
   ]
  },
  {
   "cell_type": "code",
   "execution_count": 845,
   "id": "8cac1f82-aa3e-4d5a-8c28-f7b6e882e482",
   "metadata": {},
   "outputs": [
    {
     "data": {
      "text/html": [
       "<div>\n",
       "<style scoped>\n",
       "    .dataframe tbody tr th:only-of-type {\n",
       "        vertical-align: middle;\n",
       "    }\n",
       "\n",
       "    .dataframe tbody tr th {\n",
       "        vertical-align: top;\n",
       "    }\n",
       "\n",
       "    .dataframe thead th {\n",
       "        text-align: right;\n",
       "    }\n",
       "</style>\n",
       "<table border=\"1\" class=\"dataframe\">\n",
       "  <thead>\n",
       "    <tr style=\"text-align: right;\">\n",
       "      <th></th>\n",
       "      <th>default</th>\n",
       "      <th>fico_score</th>\n",
       "      <th>predicted_probability</th>\n",
       "    </tr>\n",
       "  </thead>\n",
       "  <tbody>\n",
       "    <tr>\n",
       "      <th>8379</th>\n",
       "      <td>0</td>\n",
       "      <td>647</td>\n",
       "      <td>0.272798</td>\n",
       "    </tr>\n",
       "    <tr>\n",
       "      <th>5955</th>\n",
       "      <td>0</td>\n",
       "      <td>742</td>\n",
       "      <td>0.108390</td>\n",
       "    </tr>\n",
       "    <tr>\n",
       "      <th>6681</th>\n",
       "      <td>0</td>\n",
       "      <td>742</td>\n",
       "      <td>0.108390</td>\n",
       "    </tr>\n",
       "    <tr>\n",
       "      <th>2737</th>\n",
       "      <td>0</td>\n",
       "      <td>707</td>\n",
       "      <td>0.155494</td>\n",
       "    </tr>\n",
       "    <tr>\n",
       "      <th>3529</th>\n",
       "      <td>0</td>\n",
       "      <td>727</td>\n",
       "      <td>0.126820</td>\n",
       "    </tr>\n",
       "    <tr>\n",
       "      <th>6383</th>\n",
       "      <td>0</td>\n",
       "      <td>732</td>\n",
       "      <td>0.120397</td>\n",
       "    </tr>\n",
       "  </tbody>\n",
       "</table>\n",
       "</div>"
      ],
      "text/plain": [
       "      default  fico_score  predicted_probability\n",
       "8379        0         647               0.272798\n",
       "5955        0         742               0.108390\n",
       "6681        0         742               0.108390\n",
       "2737        0         707               0.155494\n",
       "3529        0         727               0.126820\n",
       "6383        0         732               0.120397"
      ]
     },
     "execution_count": 845,
     "metadata": {},
     "output_type": "execute_result"
    }
   ],
   "source": [
    "# The model (\"est\") is used to create a predicted probability (\"preds\") of default from the df_test dataframe\n",
    "# The column \"predicted_probability\" is assigned to the predicted output\n",
    "preds = est.predict(df_test)\n",
    "df_test['predicted_probability'] = preds\n",
    "df_test.head(6)"
   ]
  },
  {
   "cell_type": "markdown",
   "id": "d896f4d1-1f6b-45ed-ba1b-98746f2f5443",
   "metadata": {},
   "source": [
    "### A new column, \"will default\" is created to contain the logistic regression model's prediction of whether a customer will default on their loan on the test dataframe. The predicted probability threshold was set to 25% to predict whether the customer will default or not. The predicted probability threshold can be adjusted to optimize the model."
   ]
  },
  {
   "cell_type": "code",
   "execution_count": 847,
   "id": "f68885be-a76d-4ac6-8bc5-5f2e08179345",
   "metadata": {},
   "outputs": [
    {
     "name": "stdout",
     "output_type": "stream",
     "text": [
      "      default  fico_score  predicted_probability  will_default\n",
      "8379        0         647               0.272798             1\n",
      "5955        0         742               0.108390             0\n",
      "6681        0         742               0.108390             0\n",
      "2737        0         707               0.155494             0\n",
      "3529        0         727               0.126820             0\n",
      "...       ...         ...                    ...           ...\n",
      "4078        1         712               0.147864             0\n",
      "1128        1         702               0.163441             0\n",
      "4549        0         732               0.120397             0\n",
      "6885        0         677               0.208117             0\n",
      "2208        0         752               0.097448             0\n",
      "\n",
      "[2855 rows x 4 columns]\n"
     ]
    }
   ],
   "source": [
    "# The new column \"will_default\" is created to be able to adjust the threshold and optimize the model. \n",
    "# The threshold for the customer default, '1' flag is set to 25%.\n",
    "# This will assign a \"will_default\" score of 1 if the predicted_probability is greater than 25%\n",
    "# If the predicted_probability is less than or equal to 25% then \"will_\"default\" score of 0. \n",
    "# If yes assign will_default to 1, otherwise to 0\n",
    "df_test['will_default'] = np.where(df_test['predicted_probability']>0.25, 1, 0)\n",
    "\n",
    "print(df_test)"
   ]
  },
  {
   "cell_type": "markdown",
   "id": "874ac27d-0856-41c9-8e7b-926cdcde79e7",
   "metadata": {},
   "source": [
    "### A Confusion Matrix is created to observe the performance of the model on the test dataframe (df_test).\n",
    "#### The confusion matrix examines predicted vs actual default values (will_default vs default)."
   ]
  },
  {
   "cell_type": "code",
   "execution_count": 849,
   "id": "0aaabe1a-f15d-4898-9a46-600f5f0ae96d",
   "metadata": {},
   "outputs": [
    {
     "name": "stdout",
     "output_type": "stream",
     "text": [
      "[[2329   66]\n",
      " [ 424   36]]\n"
     ]
    }
   ],
   "source": [
    "# Confusion Matrix (\"matrix\") containing actual vs predicted values.\n",
    "# The output is assgined to the \"matrix\" variable\n",
    "matrix = sklearn.metrics.confusion_matrix(df_test['default'], df_test['will_default'])\n",
    "print(matrix)"
   ]
  },
  {
   "cell_type": "markdown",
   "id": "c9a71549-06b1-4ea8-ad31-58d6c31890d1",
   "metadata": {},
   "source": [
    "### Heatmap of the Confusion Matrix: "
   ]
  },
  {
   "cell_type": "code",
   "execution_count": 851,
   "id": "0c640e03-f251-456f-9b4b-994f2c6349e3",
   "metadata": {},
   "outputs": [
    {
     "data": {
      "text/plain": [
       "Text(0.5, 1.0, 'Confusion Matrix Heatmap')"
      ]
     },
     "execution_count": 851,
     "metadata": {},
     "output_type": "execute_result"
    },
    {
     "data": {
      "image/png": "[encoded data removed]",
      "text/plain": [
       "<Figure size 640x480 with 2 Axes>"
      ]
     },
     "metadata": {},
     "output_type": "display_data"
    }
   ],
   "source": [
    "sns.heatmap(matrix/np.sum(matrix), annot=True,\n",
    "            fmt='.2%', cmap='Blues')\n",
    "# Add title and labels\n",
    "plt.title('Confusion Matrix Heatmap')"
   ]
  },
  {
   "cell_type": "markdown",
   "id": "10b843bf-8d55-4cdd-904f-54ce91263903",
   "metadata": {},
   "source": [
    "### Confusion Matrix Heatmap Labeled:"
   ]
  },
  {
   "cell_type": "code",
   "execution_count": 853,
   "id": "9d741e12-455b-4e20-a216-bd7debfefc1b",
   "metadata": {},
   "outputs": [
    {
     "data": {
      "text/plain": [
       "<Axes: title={'center': 'Logistic Regression Model Confusion Matrix'}>"
      ]
     },
     "execution_count": 853,
     "metadata": {},
     "output_type": "execute_result"
    },
    {
     "data": {
      "image/png": "[encoded data removed]",
      "text/plain": [
       "<Figure size 640x480 with 2 Axes>"
      ]
     },
     "metadata": {},
     "output_type": "display_data"
    }
   ],
   "source": [
    "# Calculate the percentages for each quadrant of confusion matrix\n",
    "percentages = matrix / np.sum(matrix)\n",
    "\n",
    "# Labels for each confusion matrix quadrant\n",
    "label_texts = np.array([[\"True Neg\", \"False Pos\"],\n",
    "                        [\"False Neg\", \"True Pos\"]])\n",
    "\n",
    "# Labels with percentages, values, and label_texts for the quadrant text label\n",
    "labels = (np.asarray([\"{0}\\n{1:.2f}%\\n({2:d})\".format(text, value*100, int(count)) \n",
    "                      for text, value, count in zip(label_texts.flatten(), percentages.flatten(), matrix.flatten())])\n",
    "          ).reshape(matrix.shape)\n",
    "\n",
    "# Set the title\n",
    "plt.title('Logistic Regression Model Confusion Matrix')\n",
    "\n",
    "# Plot the heatmap\n",
    "sns.heatmap(percentages, annot=labels, fmt='', cmap='Blues', cbar_kws={'format': '%.0f%%'})"
   ]
  },
  {
   "cell_type": "markdown",
   "id": "19a761e8-0163-403e-94a8-ddad48b4c9ef",
   "metadata": {},
   "source": [
    "### The Accuracy of the Model is calculated to be:"
   ]
  },
  {
   "cell_type": "code",
   "execution_count": 855,
   "id": "aff82e92-478c-458b-a4a1-6cfbae8631dd",
   "metadata": {},
   "outputs": [
    {
     "name": "stdout",
     "output_type": "stream",
     "text": [
      "Accuracy:0.8283712784588442\n"
     ]
    }
   ],
   "source": [
    "print('Accuracy:'+str(accuracy_score(df_test['default'], df_test['will_default'])))"
   ]
  },
  {
   "cell_type": "markdown",
   "id": "7a79a343-87af-4435-b922-b8eb41e8c1d5",
   "metadata": {},
   "source": [
    "### The logistic regression model was determined to have an 82.8% accuracy of predicting whether a customer will default on their loan by using their FICO Credit Score."
   ]
  },
  {
   "cell_type": "code",
   "execution_count": null,
   "id": "2c76f569-d896-4f1a-9d21-b075d854c1c2",
   "metadata": {},
   "outputs": [],
   "source": []
  }
 ],
 "metadata": {
  "kernelspec": {
   "display_name": "Python 3 (ipykernel)",
   "language": "python",
   "name": "python3"
  },
  "language_info": {
   "codemirror_mode": {
    "name": "ipython",
    "version": 3
   },
   "file_extension": ".py",
   "mimetype": "text/x-python",
   "name": "python",
   "nbconvert_exporter": "python",
   "pygments_lexer": "ipython3",
   "version": "3.12.4"
  }
 },
 "nbformat": 4,
 "nbformat_minor": 5
}
