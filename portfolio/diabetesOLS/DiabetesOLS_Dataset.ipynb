{
 "cells": [
  {
   "cell_type": "markdown",
   "id": "136f6262-83fc-42e5-983c-12204e838d08",
   "metadata": {},
   "source": [
    "# This Exercise explores the NCSU.EDU Diabetes Dataset with an OLS Linear Regression Model. The Linear Regression Model is Used to Predict the Progression of Diabetes One Year after the Baseline."
   ]
  },
  {
   "cell_type": "markdown",
   "id": "c07be8d3-fe6e-4a19-a5cd-92a326a9ef7d",
   "metadata": {},
   "source": [
    "### The source of the data can be found at the \"Diabetes Data\" website: https://www4.stat.ncsu.edu/~boos/var.select/diabetes.html\n",
    "### The CSV data can be found at: https://www4.stat.ncsu.edu/~boos/var.select/diabetes.tab.txt\n",
    "### The Diabetes Data website notes:\n",
    "#### From Bradley Efron, Trevor Hastie, Iain Johnstone and Robert Tibshirani (2004) \"Least Angle Regression,\" Annals of Statistics (with discussion), 407-499, we have \"Ten baseline variables, age, sex, body mass index, average blood pressure, and six blood serum measurements were obtained for each of n = 442 diabetes patients, as well as the response of interest, a quantitative measure of disease progression one year after baseline.\""
   ]
  },
  {
   "cell_type": "markdown",
   "id": "ef7e16f4-22c9-4443-8336-6b32b2665979",
   "metadata": {},
   "source": [
    "#### We will start the exercise by importing the necessary libraries"
   ]
  },
  {
   "cell_type": "code",
   "execution_count": 11,
   "id": "9a3bc180-5e16-4da3-9d97-5c291b1c46f0",
   "metadata": {},
   "outputs": [],
   "source": [
    "import numpy as np\n",
    "import pandas as pd\n",
    "import matplotlib.pyplot as plt\n",
    "import statsmodels.api as sm\n",
    "from statsmodels.formula.api import ols\n",
    "from scipy.stats import norm\n",
    "from sklearn.model_selection import train_test_split\n",
    "from sklearn.metrics import r2_score\n",
    "from sklearn import datasets"
   ]
  },
  {
   "cell_type": "markdown",
   "id": "bab14103-dbe9-426b-abd3-82fb90cba21e",
   "metadata": {},
   "source": [
    "### Next we will import the CSV data from the URL in the description above. "
   ]
  },
  {
   "cell_type": "code",
   "execution_count": 12,
   "id": "bbcc54a8-23a5-49d8-9a75-e8540112b205",
   "metadata": {},
   "outputs": [
    {
     "name": "stdout",
     "output_type": "stream",
     "text": [
      "     AGE  SEX   BMI      BP   S1     S2    S3    S4      S5   S6    Y\n",
      "0     59    2  32.1  101.00  157   93.2  38.0  4.00  4.8598   87  151\n",
      "1     48    1  21.6   87.00  183  103.2  70.0  3.00  3.8918   69   75\n",
      "2     72    2  30.5   93.00  156   93.6  41.0  4.00  4.6728   85  141\n",
      "3     24    1  25.3   84.00  198  131.4  40.0  5.00  4.8903   89  206\n",
      "4     50    1  23.0  101.00  192  125.4  52.0  4.00  4.2905   80  135\n",
      "..   ...  ...   ...     ...  ...    ...   ...   ...     ...  ...  ...\n",
      "437   60    2  28.2  112.00  185  113.8  42.0  4.00  4.9836   93  178\n",
      "438   47    2  24.9   75.00  225  166.0  42.0  5.00  4.4427  102  104\n",
      "439   60    2  24.9   99.67  162  106.6  43.0  3.77  4.1271   95  132\n",
      "440   36    1  30.0   95.00  201  125.2  42.0  4.79  5.1299   85  220\n",
      "441   36    1  19.6   71.00  250  133.2  97.0  3.00  4.5951   92   57\n",
      "\n",
      "[442 rows x 11 columns]\n"
     ]
    }
   ],
   "source": [
    "# Import the diabetes dataset CSV file from the URL into a pandas daraframe, \"df\".\n",
    "# Pandas sep=\"\\t\" can be used when reading the CSV file to df since data is separated by tabs instead of another character.\n",
    "df = pd.read_csv('https://www4.stat.ncsu.edu/~boos/var.select/diabetes.tab.txt', sep = '\\t')\n",
    "print (df)"
   ]
  },
  {
   "cell_type": "markdown",
   "id": "217d49a0-f504-4ad4-96a5-6c301f7f52f5",
   "metadata": {},
   "source": [
    "### The pandas info command is used to explore the Basic Field Information. "
   ]
  },
  {
   "cell_type": "code",
   "execution_count": 13,
   "id": "e4f60c65-2e03-4ac8-81a5-44fa3aa4d020",
   "metadata": {},
   "outputs": [
    {
     "name": "stdout",
     "output_type": "stream",
     "text": [
      "<class 'pandas.core.frame.DataFrame'>\n",
      "RangeIndex: 442 entries, 0 to 441\n",
      "Data columns (total 11 columns):\n",
      " #   Column  Non-Null Count  Dtype  \n",
      "---  ------  --------------  -----  \n",
      " 0   AGE     442 non-null    int64  \n",
      " 1   SEX     442 non-null    int64  \n",
      " 2   BMI     442 non-null    float64\n",
      " 3   BP      442 non-null    float64\n",
      " 4   S1      442 non-null    int64  \n",
      " 5   S2      442 non-null    float64\n",
      " 6   S3      442 non-null    float64\n",
      " 7   S4      442 non-null    float64\n",
      " 8   S5      442 non-null    float64\n",
      " 9   S6      442 non-null    int64  \n",
      " 10  Y       442 non-null    int64  \n",
      "dtypes: float64(6), int64(5)\n",
      "memory usage: 38.1 KB\n"
     ]
    }
   ],
   "source": [
    "# Pandas basic info on the dataframe \n",
    "df.info()"
   ]
  },
  {
   "cell_type": "markdown",
   "id": "2dff412b-26af-4328-9685-470ce346f35a",
   "metadata": {},
   "source": [
    "### The 'SEX' category is configured as a int64 Dtype, however we need to change this to a categorical Dtype."
   ]
  },
  {
   "cell_type": "code",
   "execution_count": 14,
   "id": "efd1c81d-d7d5-4424-944c-b250fa3443e8",
   "metadata": {},
   "outputs": [],
   "source": [
    "# Convert the 'SEX' of the person to a categorical variable\n",
    "categorical_var = ['SEX']\n",
    "df[categorical_var] = df[categorical_var].astype('category')"
   ]
  },
  {
   "cell_type": "markdown",
   "id": "93d8bcad-c2de-45e5-b159-590786c98905",
   "metadata": {},
   "source": [
    "### Now let's check the dataframe information again to confirm the Dtype is now category."
   ]
  },
  {
   "cell_type": "code",
   "execution_count": 15,
   "id": "c8a06de8-4df1-4f1c-89ba-ea1f7578f8e7",
   "metadata": {},
   "outputs": [
    {
     "name": "stdout",
     "output_type": "stream",
     "text": [
      "<class 'pandas.core.frame.DataFrame'>\n",
      "RangeIndex: 442 entries, 0 to 441\n",
      "Data columns (total 11 columns):\n",
      " #   Column  Non-Null Count  Dtype   \n",
      "---  ------  --------------  -----   \n",
      " 0   AGE     442 non-null    int64   \n",
      " 1   SEX     442 non-null    category\n",
      " 2   BMI     442 non-null    float64 \n",
      " 3   BP      442 non-null    float64 \n",
      " 4   S1      442 non-null    int64   \n",
      " 5   S2      442 non-null    float64 \n",
      " 6   S3      442 non-null    float64 \n",
      " 7   S4      442 non-null    float64 \n",
      " 8   S5      442 non-null    float64 \n",
      " 9   S6      442 non-null    int64   \n",
      " 10  Y       442 non-null    int64   \n",
      "dtypes: category(1), float64(6), int64(4)\n",
      "memory usage: 35.2 KB\n"
     ]
    }
   ],
   "source": [
    "# Pandas basic info on the dataframe \n",
    "df.info()"
   ]
  },
  {
   "cell_type": "markdown",
   "id": "3dd2553e-dac7-4e5d-be5c-df6c1ca4bc0a",
   "metadata": {},
   "source": [
    "### Examine the dataframe to get a better understanding of the data"
   ]
  },
  {
   "cell_type": "code",
   "execution_count": 16,
   "id": "6ebf1539-b28d-4d6b-8fbe-0b1129b001d5",
   "metadata": {},
   "outputs": [
    {
     "name": "stdout",
     "output_type": "stream",
     "text": [
      "               AGE    SEX         BMI          BP          S1          S2  \\\n",
      "count   442.000000  442.0  442.000000  442.000000  442.000000  442.000000   \n",
      "unique         NaN    2.0         NaN         NaN         NaN         NaN   \n",
      "top            NaN    1.0         NaN         NaN         NaN         NaN   \n",
      "freq           NaN  235.0         NaN         NaN         NaN         NaN   \n",
      "mean     48.518100    NaN   26.375792   94.647014  189.140271  115.439140   \n",
      "std      13.109028    NaN    4.418122   13.831283   34.608052   30.413081   \n",
      "min      19.000000    NaN   18.000000   62.000000   97.000000   41.600000   \n",
      "25%      38.250000    NaN   23.200000   84.000000  164.250000   96.050000   \n",
      "50%      50.000000    NaN   25.700000   93.000000  186.000000  113.000000   \n",
      "75%      59.000000    NaN   29.275000  105.000000  209.750000  134.500000   \n",
      "max      79.000000    NaN   42.200000  133.000000  301.000000  242.400000   \n",
      "\n",
      "                S3          S4          S5          S6           Y  \n",
      "count   442.000000  442.000000  442.000000  442.000000  442.000000  \n",
      "unique         NaN         NaN         NaN         NaN         NaN  \n",
      "top            NaN         NaN         NaN         NaN         NaN  \n",
      "freq           NaN         NaN         NaN         NaN         NaN  \n",
      "mean     49.788462    4.070249    4.641411   91.260181  152.133484  \n",
      "std      12.934202    1.290450    0.522391   11.496335   77.093005  \n",
      "min      22.000000    2.000000    3.258100   58.000000   25.000000  \n",
      "25%      40.250000    3.000000    4.276700   83.250000   87.000000  \n",
      "50%      48.000000    4.000000    4.620050   91.000000  140.500000  \n",
      "75%      57.750000    5.000000    4.997200   98.000000  211.500000  \n",
      "max      99.000000    9.090000    6.107000  124.000000  346.000000  \n"
     ]
    }
   ],
   "source": [
    "# Panda's describe function is used to see how the dataframe looks.\n",
    "# dfDescription is set equal to include = \"all\" parameters for the columns where the statistics are inappropriate for the datatype.\n",
    "dfDescription = df.describe(include=\"all\")\n",
    "print (dfDescription)"
   ]
  },
  {
   "cell_type": "markdown",
   "id": "406132f7-da96-4d9b-886e-d84cf2d82eae",
   "metadata": {},
   "source": [
    "### Next to train and test an OLS model, we will split the full dataset into 70% training and 30% test sub datasets. "
   ]
  },
  {
   "cell_type": "code",
   "execution_count": 17,
   "id": "44a220ea-b9b6-4f6a-888c-fd72b39ea4a6",
   "metadata": {},
   "outputs": [],
   "source": [
    "# sklearn.model_selection train_test_split() function is used to split the dataset.\n",
    "# The train dataset is 70% and the test dataset (test_size) is 30% (0.3)\n",
    "# The random_state is set to 42 in order to produce repeatable results with the same random_state\n",
    "# The train and tests sets are called \"df_train\" and \"df_test\".\n",
    "df_train, df_test = train_test_split(df, test_size=0.3, random_state=42)"
   ]
  },
  {
   "cell_type": "markdown",
   "id": "aef91eef-5efa-41d7-83b6-473438197f38",
   "metadata": {},
   "source": [
    "### Fit the Multilinear OLS Regression Model using the Training Dataset and Print the Summary. "
   ]
  },
  {
   "cell_type": "code",
   "execution_count": 18,
   "id": "452b45e3-919b-4983-8a7a-9be4df452f40",
   "metadata": {},
   "outputs": [
    {
     "name": "stdout",
     "output_type": "stream",
     "text": [
      "                            OLS Regression Results                            \n",
      "==============================================================================\n",
      "Dep. Variable:                      Y   R-squared:                       0.485\n",
      "Model:                            OLS   Adj. R-squared:                  0.469\n",
      "Method:                 Least Squares   F-statistic:                     31.23\n",
      "Date:                Wed, 21 Aug 2024   Prob (F-statistic):           2.82e-38\n",
      "Time:                        00:20:50   Log-Likelihood:                -1683.9\n",
      "No. Observations:                 309   AIC:                             3388.\n",
      "Df Residuals:                     299   BIC:                             3425.\n",
      "Df Model:                           9                                         \n",
      "Covariance Type:            nonrobust                                         \n",
      "==============================================================================\n",
      "                 coef    std err          t      P>|t|      [0.025      0.975]\n",
      "------------------------------------------------------------------------------\n",
      "Intercept   -295.5125     81.152     -3.641      0.000    -455.214    -135.811\n",
      "SEX[T.2]     -19.2424      7.165     -2.686      0.008     -33.342      -5.143\n",
      "AGE            0.3292      0.277      1.190      0.235      -0.215       0.874\n",
      "BMI            7.0236      0.880      7.982      0.000       5.292       8.755\n",
      "S1            -1.0185      0.684     -1.490      0.137      -2.364       0.327\n",
      "S2             0.6502      0.627      1.037      0.301      -0.584       1.884\n",
      "S3             0.2161      0.939      0.230      0.818      -1.631       2.063\n",
      "S4             6.2244      7.485      0.832      0.406      -8.505      20.954\n",
      "S5            62.8168     19.689      3.190      0.002      24.070     101.564\n",
      "S6             0.4825      0.337      1.430      0.154      -0.181       1.146\n",
      "==============================================================================\n",
      "Omnibus:                        3.115   Durbin-Watson:                   1.814\n",
      "Prob(Omnibus):                  0.211   Jarque-Bera (JB):                2.547\n",
      "Skew:                           0.105   Prob(JB):                        0.280\n",
      "Kurtosis:                       2.608   Cond. No.                     6.51e+03\n",
      "==============================================================================\n",
      "\n",
      "Notes:\n",
      "[1] Standard Errors assume that the covariance matrix of the errors is correctly specified.\n",
      "[2] The condition number is large, 6.51e+03. This might indicate that there are\n",
      "strong multicollinearity or other numerical problems.\n"
     ]
    }
   ],
   "source": [
    "# The multilinear OLS regression model is fit to the training dataset (df_train) and the results are printed in the table below.\n",
    "est_train = ols(formula=\"Y ~ AGE + SEX + BMI + S1 + S2 + S3 + S4 + S5 + S6\", data=df_train).fit()\n",
    "print(est_train.summary())"
   ]
  },
  {
   "cell_type": "markdown",
   "id": "3a3dac53-6c6a-4557-8d44-17e377921a01",
   "metadata": {},
   "source": [
    "### Inspection of the OLS Regression Results show there are non-significant variables where, P>|t| values are greater than 0.05.\n",
    "### The non-significant variables are extracted and the model is rerun.  "
   ]
  },
  {
   "cell_type": "code",
   "execution_count": 19,
   "id": "0eb7aa8a-c7e8-49a1-923e-bea8018f38f3",
   "metadata": {},
   "outputs": [
    {
     "name": "stdout",
     "output_type": "stream",
     "text": [
      "Intercept   -176.648928\n",
      "SEX[T.2]     -17.185273\n",
      "BMI            7.377660\n",
      "S3            -1.065873\n",
      "S5            41.824183\n",
      "dtype: float64\n",
      "                            OLS Regression Results                            \n",
      "==============================================================================\n",
      "Dep. Variable:                      Y   R-squared:                       0.470\n",
      "Model:                            OLS   Adj. R-squared:                  0.463\n",
      "Method:                 Least Squares   F-statistic:                     67.34\n",
      "Date:                Wed, 21 Aug 2024   Prob (F-statistic):           9.47e-41\n",
      "Time:                        00:20:50   Log-Likelihood:                -1688.3\n",
      "No. Observations:                 309   AIC:                             3387.\n",
      "Df Residuals:                     304   BIC:                             3405.\n",
      "Df Model:                           4                                         \n",
      "Covariance Type:            nonrobust                                         \n",
      "==============================================================================\n",
      "                 coef    std err          t      P>|t|      [0.025      0.975]\n",
      "------------------------------------------------------------------------------\n",
      "Intercept   -176.6489     42.698     -4.137      0.000    -260.669     -92.629\n",
      "SEX[T.2]     -17.1853      7.019     -2.448      0.015     -30.998      -3.372\n",
      "BMI            7.3777      0.852      8.659      0.000       5.701       9.054\n",
      "S3            -1.0659      0.302     -3.526      0.000      -1.661      -0.471\n",
      "S5            41.8242      7.239      5.778      0.000      27.580      56.069\n",
      "==============================================================================\n",
      "Omnibus:                        2.800   Durbin-Watson:                   1.837\n",
      "Prob(Omnibus):                  0.247   Jarque-Bera (JB):                2.385\n",
      "Skew:                           0.109   Prob(JB):                        0.303\n",
      "Kurtosis:                       2.629   Cond. No.                         756.\n",
      "==============================================================================\n",
      "\n",
      "Notes:\n",
      "[1] Standard Errors assume that the covariance matrix of the errors is correctly specified.\n"
     ]
    }
   ],
   "source": [
    "# Extract the non-significant variables and train the model again on the training dataset (df_train)\n",
    "# A new model is trained using the training dataset (df_train) with the SEX, BMI, S3, and S5 variables to determine Y\n",
    "est_train = ols(formula=\"Y ~ SEX + BMI + S3 + S5\", data=df_train).fit()\n",
    "print(est_train.params)\n",
    "print(est_train.summary())"
   ]
  },
  {
   "cell_type": "markdown",
   "id": "18921f03-f5af-4667-a2f0-434272151988",
   "metadata": {},
   "source": [
    "### The Out Of Sample (OOS) R-Squared value will help us determine how the model did on the test dataset.\n",
    "### The trained model is used on the test dataset and then the OOS R^2 value is calculated."
   ]
  },
  {
   "cell_type": "code",
   "execution_count": 20,
   "id": "aaff6d61-3ccf-4e8e-9e25-02935fe8260f",
   "metadata": {},
   "outputs": [
    {
     "name": "stdout",
     "output_type": "stream",
     "text": [
      "OOS R-squared: 0.4851185328484515\n"
     ]
    }
   ],
   "source": [
    "# r2 is set to the results of the out of sample r^2 for the linear regression model.\n",
    "test_prediction = est_train.predict(df_test)\n",
    "r2 = r2_score(df_test['Y'], test_prediction)\n",
    "\n",
    "print('OOS R-squared: '+ str(r2))"
   ]
  }
 ],
 "metadata": {
  "kernelspec": {
   "display_name": "Python 3 (ipykernel)",
   "language": "python",
   "name": "python3"
  },
  "language_info": {
   "codemirror_mode": {
    "name": "ipython",
    "version": 3
   },
   "file_extension": ".py",
   "mimetype": "text/x-python",
   "name": "python",
   "nbconvert_exporter": "python",
   "pygments_lexer": "ipython3",
   "version": "3.12.4"
  }
 },
 "nbformat": 4,
 "nbformat_minor": 5
}
