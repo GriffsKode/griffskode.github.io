{
 "cells": [
  {
   "cell_type": "markdown",
   "id": "f3603852-68cb-4dd1-ac52-2224a78b631c",
   "metadata": {},
   "source": [
    "# Identifying Abnormal Rhythms on Electrocardiograms with Keras Tensorflow\n",
    "### This example will train an autoencoder to identify abnormal rhythms on ECG5000 electrocardiograms dataset with Keras Tensorflow.\n",
    "#### The full dataset contains 5,000 Electrocardiograms with 140 points each and was published in: Goldberger, A. L., Amaral, L. A. N., Glass, L., Hausdorff, J. M., Ivanov, P. Ch., Mark, R. G., Mietus, J. E., Moody, G. B., Peng, C.-K., & Stanley, H. E. (2000). PhysioBank, PhysioToolkit, and PhysioNet: Components of a new research resource for complex physiologic signals. Circulation, 101(23), e215-e220. The full dataset may also be found here: https://www.timeseriesclassification.com/description.php?Dataset=ECG5000\n",
    "#### The simplified version of the dataset is used for this example. The simplified version has been labeled either 1 (corresponding to a normal rhythm) or 0 (corresponding to an abnormal rhythm). The simplied dataset may be found here: http://storage.googleapis.com/download.tensorflow.org/data/ecg.csv\n",
    "#### This example focuses on identifying abnormal rhythms."
   ]
  },
  {
   "cell_type": "code",
   "execution_count": 249,
   "id": "451d8de5-40bb-4d59-9ad7-a8f2769dd69f",
   "metadata": {},
   "outputs": [],
   "source": [
    "# Import the required libraries\n",
    "import tensorflow as tf\n",
    "from tensorflow import keras\n",
    "import numpy as np\n",
    "import pandas as pd\n",
    "import matplotlib.pyplot as plt\n",
    "from sklearn.model_selection import train_test_split\n",
    "import pydot\n",
    "import graphviz\n",
    "from keras.utils import plot_model\n",
    "from PIL import Image\n",
    "\n",
    "# initialize the seeds of different random number generators, so the results will be the same. \n",
    "tf.random.set_seed(42)\n",
    "\n",
    "# Pandas will suppress chained_assignment warnings. A chained assignment occurs when you try to assign a value to a DataFrame slice.\n",
    "pd.options.mode.chained_assignment = None"
   ]
  },
  {
   "cell_type": "markdown",
   "id": "d95db1d0-a8d0-4359-b5eb-8ce0fa614686",
   "metadata": {},
   "source": [
    "### Next, we will import the dataset, available in CSV form to a Pandas dataframe, df. \n",
    "#### Each Column of the data represents a data point, so we will name the columns by the sequence of data points (i.e. 1,2,...,140)"
   ]
  },
  {
   "cell_type": "code",
   "execution_count": 250,
   "id": "522e863d-8a6c-440a-a3ba-a157e4ef7780",
   "metadata": {},
   "outputs": [
    {
     "name": "stdout",
     "output_type": "stream",
     "text": [
      "[0, 1, 2, 3, 4, 5, 6, 7, 8, 9, 10, 11, 12, 13, 14, 15, 16, 17, 18, 19, 20, 21, 22, 23, 24, 25, 26, 27, 28, 29, 30, 31, 32, 33, 34, 35, 36, 37, 38, 39, 40, 41, 42, 43, 44, 45, 46, 47, 48, 49, 50, 51, 52, 53, 54, 55, 56, 57, 58, 59, 60, 61, 62, 63, 64, 65, 66, 67, 68, 69, 70, 71, 72, 73, 74, 75, 76, 77, 78, 79, 80, 81, 82, 83, 84, 85, 86, 87, 88, 89, 90, 91, 92, 93, 94, 95, 96, 97, 98, 99, 100, 101, 102, 103, 104, 105, 106, 107, 108, 109, 110, 111, 112, 113, 114, 115, 116, 117, 118, 119, 120, 121, 122, 123, 124, 125, 126, 127, 128, 129, 130, 131, 132, 133, 134, 135, 136, 137, 138, 139, 'Target']\n"
     ]
    }
   ],
   "source": [
    "# creates empty list, \"names\"\n",
    "names = []\n",
    "\n",
    "# for loop that iterates 140 times, with i taking values from 0 to 139.\n",
    "# Appends the current value of i to the names list in each iteration. After this loop, names will contain numbers from 0 to 139.\n",
    "for i in range(140):\n",
    "    names.append(i)\n",
    "# The last column will be the target or dependent variable. Appends the string 'Target' to the end of the names list.\n",
    "names.append('Target')\n",
    "print(names)"
   ]
  },
  {
   "cell_type": "code",
   "execution_count": 251,
   "id": "d4345967-213c-49f9-b438-4fb7f13261e4",
   "metadata": {},
   "outputs": [
    {
     "name": "stdout",
     "output_type": "stream",
     "text": [
      "The shape of the dataframe is (rows, columns): (4998, 141)\n",
      "The dataset has 4998 rows and 141 columns (140 independent variables + 1 dependent variable)\n",
      "\n",
      "Here are the first 10 rows:\n",
      "\n"
     ]
    },
    {
     "data": {
      "text/html": [
       "<div>\n",
       "<style scoped>\n",
       "    .dataframe tbody tr th:only-of-type {\n",
       "        vertical-align: middle;\n",
       "    }\n",
       "\n",
       "    .dataframe tbody tr th {\n",
       "        vertical-align: top;\n",
       "    }\n",
       "\n",
       "    .dataframe thead th {\n",
       "        text-align: right;\n",
       "    }\n",
       "</style>\n",
       "<table border=\"1\" class=\"dataframe\">\n",
       "  <thead>\n",
       "    <tr style=\"text-align: right;\">\n",
       "      <th></th>\n",
       "      <th>0</th>\n",
       "      <th>1</th>\n",
       "      <th>2</th>\n",
       "      <th>3</th>\n",
       "      <th>4</th>\n",
       "      <th>5</th>\n",
       "      <th>6</th>\n",
       "      <th>7</th>\n",
       "      <th>8</th>\n",
       "      <th>9</th>\n",
       "      <th>...</th>\n",
       "      <th>131</th>\n",
       "      <th>132</th>\n",
       "      <th>133</th>\n",
       "      <th>134</th>\n",
       "      <th>135</th>\n",
       "      <th>136</th>\n",
       "      <th>137</th>\n",
       "      <th>138</th>\n",
       "      <th>139</th>\n",
       "      <th>Target</th>\n",
       "    </tr>\n",
       "  </thead>\n",
       "  <tbody>\n",
       "    <tr>\n",
       "      <th>0</th>\n",
       "      <td>-0.112522</td>\n",
       "      <td>-2.827204</td>\n",
       "      <td>-3.773897</td>\n",
       "      <td>-4.349751</td>\n",
       "      <td>-4.376041</td>\n",
       "      <td>-3.474986</td>\n",
       "      <td>-2.181408</td>\n",
       "      <td>-1.818286</td>\n",
       "      <td>-1.250522</td>\n",
       "      <td>-0.477492</td>\n",
       "      <td>...</td>\n",
       "      <td>0.792168</td>\n",
       "      <td>0.933541</td>\n",
       "      <td>0.796958</td>\n",
       "      <td>0.578621</td>\n",
       "      <td>0.257740</td>\n",
       "      <td>0.228077</td>\n",
       "      <td>0.123431</td>\n",
       "      <td>0.925286</td>\n",
       "      <td>0.193137</td>\n",
       "      <td>1.0</td>\n",
       "    </tr>\n",
       "    <tr>\n",
       "      <th>1</th>\n",
       "      <td>-1.100878</td>\n",
       "      <td>-3.996840</td>\n",
       "      <td>-4.285843</td>\n",
       "      <td>-4.506579</td>\n",
       "      <td>-4.022377</td>\n",
       "      <td>-3.234368</td>\n",
       "      <td>-1.566126</td>\n",
       "      <td>-0.992258</td>\n",
       "      <td>-0.754680</td>\n",
       "      <td>0.042321</td>\n",
       "      <td>...</td>\n",
       "      <td>0.538356</td>\n",
       "      <td>0.656881</td>\n",
       "      <td>0.787490</td>\n",
       "      <td>0.724046</td>\n",
       "      <td>0.555784</td>\n",
       "      <td>0.476333</td>\n",
       "      <td>0.773820</td>\n",
       "      <td>1.119621</td>\n",
       "      <td>-1.436250</td>\n",
       "      <td>1.0</td>\n",
       "    </tr>\n",
       "    <tr>\n",
       "      <th>2</th>\n",
       "      <td>-0.567088</td>\n",
       "      <td>-2.593450</td>\n",
       "      <td>-3.874230</td>\n",
       "      <td>-4.584095</td>\n",
       "      <td>-4.187449</td>\n",
       "      <td>-3.151462</td>\n",
       "      <td>-1.742940</td>\n",
       "      <td>-1.490659</td>\n",
       "      <td>-1.183580</td>\n",
       "      <td>-0.394229</td>\n",
       "      <td>...</td>\n",
       "      <td>0.886073</td>\n",
       "      <td>0.531452</td>\n",
       "      <td>0.311377</td>\n",
       "      <td>-0.021919</td>\n",
       "      <td>-0.713683</td>\n",
       "      <td>-0.532197</td>\n",
       "      <td>0.321097</td>\n",
       "      <td>0.904227</td>\n",
       "      <td>-0.421797</td>\n",
       "      <td>1.0</td>\n",
       "    </tr>\n",
       "    <tr>\n",
       "      <th>3</th>\n",
       "      <td>0.490473</td>\n",
       "      <td>-1.914407</td>\n",
       "      <td>-3.616364</td>\n",
       "      <td>-4.318823</td>\n",
       "      <td>-4.268016</td>\n",
       "      <td>-3.881110</td>\n",
       "      <td>-2.993280</td>\n",
       "      <td>-1.671131</td>\n",
       "      <td>-1.333884</td>\n",
       "      <td>-0.965629</td>\n",
       "      <td>...</td>\n",
       "      <td>0.350816</td>\n",
       "      <td>0.499111</td>\n",
       "      <td>0.600345</td>\n",
       "      <td>0.842069</td>\n",
       "      <td>0.952074</td>\n",
       "      <td>0.990133</td>\n",
       "      <td>1.086798</td>\n",
       "      <td>1.403011</td>\n",
       "      <td>-0.383564</td>\n",
       "      <td>1.0</td>\n",
       "    </tr>\n",
       "    <tr>\n",
       "      <th>4</th>\n",
       "      <td>0.800232</td>\n",
       "      <td>-0.874252</td>\n",
       "      <td>-2.384761</td>\n",
       "      <td>-3.973292</td>\n",
       "      <td>-4.338224</td>\n",
       "      <td>-3.802422</td>\n",
       "      <td>-2.534510</td>\n",
       "      <td>-1.783423</td>\n",
       "      <td>-1.594450</td>\n",
       "      <td>-0.753199</td>\n",
       "      <td>...</td>\n",
       "      <td>1.148884</td>\n",
       "      <td>0.958434</td>\n",
       "      <td>1.059025</td>\n",
       "      <td>1.371682</td>\n",
       "      <td>1.277392</td>\n",
       "      <td>0.960304</td>\n",
       "      <td>0.971020</td>\n",
       "      <td>1.614392</td>\n",
       "      <td>1.421456</td>\n",
       "      <td>1.0</td>\n",
       "    </tr>\n",
       "    <tr>\n",
       "      <th>5</th>\n",
       "      <td>-1.507674</td>\n",
       "      <td>-3.574550</td>\n",
       "      <td>-4.478011</td>\n",
       "      <td>-4.408275</td>\n",
       "      <td>-3.321242</td>\n",
       "      <td>-2.105171</td>\n",
       "      <td>-1.481048</td>\n",
       "      <td>-1.301362</td>\n",
       "      <td>-0.498240</td>\n",
       "      <td>-0.286928</td>\n",
       "      <td>...</td>\n",
       "      <td>1.089068</td>\n",
       "      <td>0.983369</td>\n",
       "      <td>1.014124</td>\n",
       "      <td>0.952629</td>\n",
       "      <td>0.749326</td>\n",
       "      <td>1.007076</td>\n",
       "      <td>1.634990</td>\n",
       "      <td>1.493365</td>\n",
       "      <td>-0.783134</td>\n",
       "      <td>1.0</td>\n",
       "    </tr>\n",
       "    <tr>\n",
       "      <th>6</th>\n",
       "      <td>-0.297161</td>\n",
       "      <td>-2.766635</td>\n",
       "      <td>-4.102185</td>\n",
       "      <td>-4.589669</td>\n",
       "      <td>-4.219357</td>\n",
       "      <td>-3.650443</td>\n",
       "      <td>-2.300518</td>\n",
       "      <td>-1.293917</td>\n",
       "      <td>-1.065658</td>\n",
       "      <td>-0.490520</td>\n",
       "      <td>...</td>\n",
       "      <td>0.581779</td>\n",
       "      <td>0.684406</td>\n",
       "      <td>0.911651</td>\n",
       "      <td>0.979483</td>\n",
       "      <td>1.053458</td>\n",
       "      <td>0.974787</td>\n",
       "      <td>1.110407</td>\n",
       "      <td>1.288165</td>\n",
       "      <td>-0.823386</td>\n",
       "      <td>1.0</td>\n",
       "    </tr>\n",
       "    <tr>\n",
       "      <th>7</th>\n",
       "      <td>0.446769</td>\n",
       "      <td>-1.507397</td>\n",
       "      <td>-3.187468</td>\n",
       "      <td>-4.507462</td>\n",
       "      <td>-4.604201</td>\n",
       "      <td>-3.636115</td>\n",
       "      <td>-2.311604</td>\n",
       "      <td>-1.597727</td>\n",
       "      <td>-1.362450</td>\n",
       "      <td>-0.669216</td>\n",
       "      <td>...</td>\n",
       "      <td>1.001306</td>\n",
       "      <td>1.292059</td>\n",
       "      <td>1.378667</td>\n",
       "      <td>1.014765</td>\n",
       "      <td>0.820793</td>\n",
       "      <td>1.034388</td>\n",
       "      <td>1.258433</td>\n",
       "      <td>0.961215</td>\n",
       "      <td>-0.999476</td>\n",
       "      <td>1.0</td>\n",
       "    </tr>\n",
       "    <tr>\n",
       "      <th>8</th>\n",
       "      <td>0.087631</td>\n",
       "      <td>-1.753490</td>\n",
       "      <td>-3.304473</td>\n",
       "      <td>-4.704657</td>\n",
       "      <td>-4.686415</td>\n",
       "      <td>-3.611817</td>\n",
       "      <td>-2.267268</td>\n",
       "      <td>-1.570893</td>\n",
       "      <td>-1.417790</td>\n",
       "      <td>-0.500788</td>\n",
       "      <td>...</td>\n",
       "      <td>1.709046</td>\n",
       "      <td>2.142926</td>\n",
       "      <td>2.393528</td>\n",
       "      <td>1.925550</td>\n",
       "      <td>1.027624</td>\n",
       "      <td>0.573453</td>\n",
       "      <td>0.192971</td>\n",
       "      <td>-0.648683</td>\n",
       "      <td>-2.441068</td>\n",
       "      <td>1.0</td>\n",
       "    </tr>\n",
       "    <tr>\n",
       "      <th>9</th>\n",
       "      <td>-0.832281</td>\n",
       "      <td>-1.700368</td>\n",
       "      <td>-2.257301</td>\n",
       "      <td>-2.853671</td>\n",
       "      <td>-2.853301</td>\n",
       "      <td>-2.701487</td>\n",
       "      <td>-2.285726</td>\n",
       "      <td>-1.555512</td>\n",
       "      <td>-1.266622</td>\n",
       "      <td>-1.085957</td>\n",
       "      <td>...</td>\n",
       "      <td>2.110504</td>\n",
       "      <td>2.203668</td>\n",
       "      <td>2.227544</td>\n",
       "      <td>2.171733</td>\n",
       "      <td>2.045938</td>\n",
       "      <td>2.126372</td>\n",
       "      <td>2.126852</td>\n",
       "      <td>1.679299</td>\n",
       "      <td>0.965814</td>\n",
       "      <td>1.0</td>\n",
       "    </tr>\n",
       "  </tbody>\n",
       "</table>\n",
       "<p>10 rows × 141 columns</p>\n",
       "</div>"
      ],
      "text/plain": [
       "          0         1         2         3         4         5         6  \\\n",
       "0 -0.112522 -2.827204 -3.773897 -4.349751 -4.376041 -3.474986 -2.181408   \n",
       "1 -1.100878 -3.996840 -4.285843 -4.506579 -4.022377 -3.234368 -1.566126   \n",
       "2 -0.567088 -2.593450 -3.874230 -4.584095 -4.187449 -3.151462 -1.742940   \n",
       "3  0.490473 -1.914407 -3.616364 -4.318823 -4.268016 -3.881110 -2.993280   \n",
       "4  0.800232 -0.874252 -2.384761 -3.973292 -4.338224 -3.802422 -2.534510   \n",
       "5 -1.507674 -3.574550 -4.478011 -4.408275 -3.321242 -2.105171 -1.481048   \n",
       "6 -0.297161 -2.766635 -4.102185 -4.589669 -4.219357 -3.650443 -2.300518   \n",
       "7  0.446769 -1.507397 -3.187468 -4.507462 -4.604201 -3.636115 -2.311604   \n",
       "8  0.087631 -1.753490 -3.304473 -4.704657 -4.686415 -3.611817 -2.267268   \n",
       "9 -0.832281 -1.700368 -2.257301 -2.853671 -2.853301 -2.701487 -2.285726   \n",
       "\n",
       "          7         8         9  ...       131       132       133       134  \\\n",
       "0 -1.818286 -1.250522 -0.477492  ...  0.792168  0.933541  0.796958  0.578621   \n",
       "1 -0.992258 -0.754680  0.042321  ...  0.538356  0.656881  0.787490  0.724046   \n",
       "2 -1.490659 -1.183580 -0.394229  ...  0.886073  0.531452  0.311377 -0.021919   \n",
       "3 -1.671131 -1.333884 -0.965629  ...  0.350816  0.499111  0.600345  0.842069   \n",
       "4 -1.783423 -1.594450 -0.753199  ...  1.148884  0.958434  1.059025  1.371682   \n",
       "5 -1.301362 -0.498240 -0.286928  ...  1.089068  0.983369  1.014124  0.952629   \n",
       "6 -1.293917 -1.065658 -0.490520  ...  0.581779  0.684406  0.911651  0.979483   \n",
       "7 -1.597727 -1.362450 -0.669216  ...  1.001306  1.292059  1.378667  1.014765   \n",
       "8 -1.570893 -1.417790 -0.500788  ...  1.709046  2.142926  2.393528  1.925550   \n",
       "9 -1.555512 -1.266622 -1.085957  ...  2.110504  2.203668  2.227544  2.171733   \n",
       "\n",
       "        135       136       137       138       139  Target  \n",
       "0  0.257740  0.228077  0.123431  0.925286  0.193137     1.0  \n",
       "1  0.555784  0.476333  0.773820  1.119621 -1.436250     1.0  \n",
       "2 -0.713683 -0.532197  0.321097  0.904227 -0.421797     1.0  \n",
       "3  0.952074  0.990133  1.086798  1.403011 -0.383564     1.0  \n",
       "4  1.277392  0.960304  0.971020  1.614392  1.421456     1.0  \n",
       "5  0.749326  1.007076  1.634990  1.493365 -0.783134     1.0  \n",
       "6  1.053458  0.974787  1.110407  1.288165 -0.823386     1.0  \n",
       "7  0.820793  1.034388  1.258433  0.961215 -0.999476     1.0  \n",
       "8  1.027624  0.573453  0.192971 -0.648683 -2.441068     1.0  \n",
       "9  2.045938  2.126372  2.126852  1.679299  0.965814     1.0  \n",
       "\n",
       "[10 rows x 141 columns]"
      ]
     },
     "execution_count": 251,
     "metadata": {},
     "output_type": "execute_result"
    }
   ],
   "source": [
    "# Import simplified ECG dataset from tensorflow\n",
    "# names = names will set the column names from the \"names\" list created above.\n",
    "df = pd.read_csv(\"http://storage.googleapis.com/download.tensorflow.org/data/ecg.csv\", names = names)\n",
    "print(('The shape of the dataframe is (rows, columns):'), df.shape)\n",
    "print('The dataset has 4998 rows and 141 columns (140 independent variables + 1 dependent variable)')\n",
    "print('\\nHere are the first 10 rows:\\n')\n",
    "df.head(10)"
   ]
  },
  {
   "cell_type": "markdown",
   "id": "bb4749a4-8317-4100-a73c-dcbad4350aac",
   "metadata": {},
   "source": [
    "### Preprocessing the dataframe\n",
    "#### The dependent variables, 'Target' will be extracted since the rest of the dataset only has numeric variables. "
   ]
  },
  {
   "cell_type": "code",
   "execution_count": 252,
   "id": "759bcdc2-ed9f-42c4-87a0-06a8514dabdb",
   "metadata": {},
   "outputs": [],
   "source": [
    "numerics = names\n",
    "\n",
    "# Remove the dependent variable\n",
    "numerics.remove('Target')"
   ]
  },
  {
   "cell_type": "markdown",
   "id": "ae6a1cd4-ffc7-4ffd-9a36-8220084dd9cb",
   "metadata": {},
   "source": [
    "### What Percentage of the data is Abnormal?"
   ]
  },
  {
   "cell_type": "code",
   "execution_count": 253,
   "id": "387e86d0-477e-4508-bda5-995fb0880cd0",
   "metadata": {},
   "outputs": [
    {
     "name": "stdout",
     "output_type": "stream",
     "text": [
      "Target\n",
      "1.0    0.584034\n",
      "0.0    0.415966\n",
      "Name: proportion, dtype: float64\n"
     ]
    }
   ],
   "source": [
    "# Set \"target_metrics\" output to the percentage of abnormal data found in the 'Target' column\n",
    "target_metrics = df.Target.value_counts(normalize=True)\n",
    "print(target_metrics)"
   ]
  },
  {
   "cell_type": "markdown",
   "id": "ce6ce889-ad5c-49df-adea-6667a7f7883b",
   "metadata": {},
   "source": [
    "### The dependent variables contained in the 'Target' will be extracted and set to 'y'"
   ]
  },
  {
   "cell_type": "code",
   "execution_count": 254,
   "id": "05746d01-c8f8-4d1c-bc3e-5b4a4b9f6786",
   "metadata": {},
   "outputs": [
    {
     "name": "stdout",
     "output_type": "stream",
     "text": [
      "0       1.0\n",
      "1       1.0\n",
      "2       1.0\n",
      "3       1.0\n",
      "4       1.0\n",
      "       ... \n",
      "4993    0.0\n",
      "4994    0.0\n",
      "4995    0.0\n",
      "4996    0.0\n",
      "4997    0.0\n",
      "Name: Target, Length: 4998, dtype: float64\n"
     ]
    }
   ],
   "source": [
    "# Set dependent variables in 'Target' to 'y'\n",
    "y = df.pop('Target')\n",
    "print(y)"
   ]
  },
  {
   "cell_type": "markdown",
   "id": "7fe9a51e-cf4b-4c39-8807-1368495d617d",
   "metadata": {},
   "source": [
    "### The total dataset df is split into 80% training and 20% test dataframes\n",
    "#### The dataset is split before being normalized to ensure the training and test dataframes have equal distributions."
   ]
  },
  {
   "cell_type": "code",
   "execution_count": 255,
   "id": "c5fa06e9-915b-417c-9fa2-6176432fda17",
   "metadata": {},
   "outputs": [],
   "source": [
    "# The total dataset is split into 80% training and 20% test dataframes:\n",
    "# X_train, X_test, y_train and y_test\n",
    "# stratify=y ensures equal proportions of the classes in the target variable (y or 'Target') in both the training and testing dataframes.\n",
    "X_train, X_test, y_train, y_test = train_test_split(df, y, test_size=0.2, stratify=y)"
   ]
  },
  {
   "cell_type": "markdown",
   "id": "8db0c82d-e555-4047-a41e-2cbb810a8af1",
   "metadata": {},
   "source": [
    "### The mean and standard deviation of the numeric variables are calculated for the training dataframe. "
   ]
  },
  {
   "cell_type": "code",
   "execution_count": 256,
   "id": "188dbb65-5db9-48ff-9bf2-a05bf6655f66",
   "metadata": {},
   "outputs": [
    {
     "name": "stdout",
     "output_type": "stream",
     "text": [
      "0     -0.245187\n",
      "1     -1.634429\n",
      "2     -2.487521\n",
      "3     -3.120247\n",
      "4     -3.170600\n",
      "         ...   \n",
      "135   -0.763427\n",
      "136   -0.838367\n",
      "137   -0.645243\n",
      "138   -0.489386\n",
      "139   -0.707244\n",
      "Length: 140, dtype: float64\n",
      "0      1.146355\n",
      "1      1.442980\n",
      "2      1.385480\n",
      "3      1.301434\n",
      "4      1.098855\n",
      "         ...   \n",
      "135    2.095068\n",
      "136    2.068225\n",
      "137    1.869869\n",
      "138    1.842711\n",
      "139    1.413009\n",
      "Length: 140, dtype: float64\n"
     ]
    }
   ],
   "source": [
    "# Means are assigned to \"means\" and standard deviations to \"sd\"\n",
    "means = X_train[numerics].mean()\n",
    "sd = X_train[numerics].std()\n",
    "print(means)\n",
    "print(sd)"
   ]
  },
  {
   "cell_type": "markdown",
   "id": "b8e814f9-083e-41c6-a2f4-b99e8f984ee6",
   "metadata": {},
   "source": [
    "### The training and test dataframes are normalized with the calculated means and standard deviations."
   ]
  },
  {
   "cell_type": "code",
   "execution_count": 257,
   "id": "00949ce6-602c-47e4-9b23-5fc434aa4ea7",
   "metadata": {},
   "outputs": [],
   "source": [
    "# Normalize X_train\n",
    "X_train[numerics]= (X_train[numerics] - means)/sd"
   ]
  },
  {
   "cell_type": "code",
   "execution_count": 258,
   "id": "62086f3e-73af-4aaf-b98c-1d0364f167c7",
   "metadata": {},
   "outputs": [],
   "source": [
    "# Normalize X_test\n",
    "X_test[numerics]= (X_test[numerics] - means)/sd"
   ]
  },
  {
   "cell_type": "code",
   "execution_count": 259,
   "id": "c0654fac-69b8-4589-ac87-fd785b4f6860",
   "metadata": {
    "scrolled": true
   },
   "outputs": [
    {
     "data": {
      "text/html": [
       "<div>\n",
       "<style scoped>\n",
       "    .dataframe tbody tr th:only-of-type {\n",
       "        vertical-align: middle;\n",
       "    }\n",
       "\n",
       "    .dataframe tbody tr th {\n",
       "        vertical-align: top;\n",
       "    }\n",
       "\n",
       "    .dataframe thead th {\n",
       "        text-align: right;\n",
       "    }\n",
       "</style>\n",
       "<table border=\"1\" class=\"dataframe\">\n",
       "  <thead>\n",
       "    <tr style=\"text-align: right;\">\n",
       "      <th></th>\n",
       "      <th>0</th>\n",
       "      <th>1</th>\n",
       "      <th>2</th>\n",
       "      <th>3</th>\n",
       "      <th>4</th>\n",
       "      <th>5</th>\n",
       "      <th>6</th>\n",
       "      <th>7</th>\n",
       "      <th>8</th>\n",
       "      <th>9</th>\n",
       "      <th>...</th>\n",
       "      <th>130</th>\n",
       "      <th>131</th>\n",
       "      <th>132</th>\n",
       "      <th>133</th>\n",
       "      <th>134</th>\n",
       "      <th>135</th>\n",
       "      <th>136</th>\n",
       "      <th>137</th>\n",
       "      <th>138</th>\n",
       "      <th>139</th>\n",
       "    </tr>\n",
       "  </thead>\n",
       "  <tbody>\n",
       "    <tr>\n",
       "      <th>896</th>\n",
       "      <td>-0.508212</td>\n",
       "      <td>-0.919281</td>\n",
       "      <td>-1.136236</td>\n",
       "      <td>-1.044346</td>\n",
       "      <td>-0.853793</td>\n",
       "      <td>-1.010818</td>\n",
       "      <td>-1.026389</td>\n",
       "      <td>-0.094263</td>\n",
       "      <td>-0.015314</td>\n",
       "      <td>-0.188562</td>\n",
       "      <td>...</td>\n",
       "      <td>1.079447</td>\n",
       "      <td>1.007275</td>\n",
       "      <td>0.808125</td>\n",
       "      <td>0.560205</td>\n",
       "      <td>0.331620</td>\n",
       "      <td>0.220799</td>\n",
       "      <td>0.161089</td>\n",
       "      <td>0.160351</td>\n",
       "      <td>0.416954</td>\n",
       "      <td>-0.075610</td>\n",
       "    </tr>\n",
       "    <tr>\n",
       "      <th>4361</th>\n",
       "      <td>0.537834</td>\n",
       "      <td>0.726917</td>\n",
       "      <td>0.700853</td>\n",
       "      <td>0.513680</td>\n",
       "      <td>0.198430</td>\n",
       "      <td>-0.330104</td>\n",
       "      <td>-0.864763</td>\n",
       "      <td>-1.084917</td>\n",
       "      <td>-0.801786</td>\n",
       "      <td>-0.716334</td>\n",
       "      <td>...</td>\n",
       "      <td>-0.202634</td>\n",
       "      <td>-0.580360</td>\n",
       "      <td>-0.768210</td>\n",
       "      <td>-0.802403</td>\n",
       "      <td>-1.011131</td>\n",
       "      <td>-1.240318</td>\n",
       "      <td>-1.505131</td>\n",
       "      <td>-1.405706</td>\n",
       "      <td>-1.234469</td>\n",
       "      <td>-0.376807</td>\n",
       "    </tr>\n",
       "    <tr>\n",
       "      <th>685</th>\n",
       "      <td>-0.954338</td>\n",
       "      <td>-0.770364</td>\n",
       "      <td>-0.583871</td>\n",
       "      <td>-0.601836</td>\n",
       "      <td>-0.723018</td>\n",
       "      <td>-0.924113</td>\n",
       "      <td>-0.844950</td>\n",
       "      <td>-0.279568</td>\n",
       "      <td>-0.328291</td>\n",
       "      <td>-0.385658</td>\n",
       "      <td>...</td>\n",
       "      <td>1.103150</td>\n",
       "      <td>0.791091</td>\n",
       "      <td>0.443843</td>\n",
       "      <td>0.056212</td>\n",
       "      <td>-0.175175</td>\n",
       "      <td>-0.306639</td>\n",
       "      <td>-0.219090</td>\n",
       "      <td>-0.054353</td>\n",
       "      <td>0.108443</td>\n",
       "      <td>-0.269782</td>\n",
       "    </tr>\n",
       "    <tr>\n",
       "      <th>3708</th>\n",
       "      <td>-0.262425</td>\n",
       "      <td>0.141568</td>\n",
       "      <td>0.419447</td>\n",
       "      <td>0.409678</td>\n",
       "      <td>0.290459</td>\n",
       "      <td>-0.031135</td>\n",
       "      <td>-0.716100</td>\n",
       "      <td>-1.054123</td>\n",
       "      <td>-1.123846</td>\n",
       "      <td>-1.168345</td>\n",
       "      <td>...</td>\n",
       "      <td>-1.617779</td>\n",
       "      <td>-1.596278</td>\n",
       "      <td>-1.521564</td>\n",
       "      <td>-1.433140</td>\n",
       "      <td>-1.309503</td>\n",
       "      <td>-1.170723</td>\n",
       "      <td>-0.904514</td>\n",
       "      <td>-0.615791</td>\n",
       "      <td>-0.277519</td>\n",
       "      <td>0.702371</td>\n",
       "    </tr>\n",
       "    <tr>\n",
       "      <th>4332</th>\n",
       "      <td>1.099708</td>\n",
       "      <td>1.156003</td>\n",
       "      <td>1.271639</td>\n",
       "      <td>1.048086</td>\n",
       "      <td>0.538462</td>\n",
       "      <td>-0.246293</td>\n",
       "      <td>-1.229382</td>\n",
       "      <td>-1.900846</td>\n",
       "      <td>-1.875601</td>\n",
       "      <td>-1.769496</td>\n",
       "      <td>...</td>\n",
       "      <td>-0.442854</td>\n",
       "      <td>-0.671823</td>\n",
       "      <td>-0.830334</td>\n",
       "      <td>-0.914170</td>\n",
       "      <td>-0.908517</td>\n",
       "      <td>-1.166394</td>\n",
       "      <td>-1.382905</td>\n",
       "      <td>-1.363754</td>\n",
       "      <td>-1.424777</td>\n",
       "      <td>-0.144841</td>\n",
       "    </tr>\n",
       "  </tbody>\n",
       "</table>\n",
       "<p>5 rows × 140 columns</p>\n",
       "</div>"
      ],
      "text/plain": [
       "           0         1         2         3         4         5         6    \\\n",
       "896  -0.508212 -0.919281 -1.136236 -1.044346 -0.853793 -1.010818 -1.026389   \n",
       "4361  0.537834  0.726917  0.700853  0.513680  0.198430 -0.330104 -0.864763   \n",
       "685  -0.954338 -0.770364 -0.583871 -0.601836 -0.723018 -0.924113 -0.844950   \n",
       "3708 -0.262425  0.141568  0.419447  0.409678  0.290459 -0.031135 -0.716100   \n",
       "4332  1.099708  1.156003  1.271639  1.048086  0.538462 -0.246293 -1.229382   \n",
       "\n",
       "           7         8         9    ...       130       131       132  \\\n",
       "896  -0.094263 -0.015314 -0.188562  ...  1.079447  1.007275  0.808125   \n",
       "4361 -1.084917 -0.801786 -0.716334  ... -0.202634 -0.580360 -0.768210   \n",
       "685  -0.279568 -0.328291 -0.385658  ...  1.103150  0.791091  0.443843   \n",
       "3708 -1.054123 -1.123846 -1.168345  ... -1.617779 -1.596278 -1.521564   \n",
       "4332 -1.900846 -1.875601 -1.769496  ... -0.442854 -0.671823 -0.830334   \n",
       "\n",
       "           133       134       135       136       137       138       139  \n",
       "896   0.560205  0.331620  0.220799  0.161089  0.160351  0.416954 -0.075610  \n",
       "4361 -0.802403 -1.011131 -1.240318 -1.505131 -1.405706 -1.234469 -0.376807  \n",
       "685   0.056212 -0.175175 -0.306639 -0.219090 -0.054353  0.108443 -0.269782  \n",
       "3708 -1.433140 -1.309503 -1.170723 -0.904514 -0.615791 -0.277519  0.702371  \n",
       "4332 -0.914170 -0.908517 -1.166394 -1.382905 -1.363754 -1.424777 -0.144841  \n",
       "\n",
       "[5 rows x 140 columns]"
      ]
     },
     "execution_count": 259,
     "metadata": {},
     "output_type": "execute_result"
    }
   ],
   "source": [
    "X_train.head()"
   ]
  },
  {
   "cell_type": "markdown",
   "id": "c0941dbf-b8ba-4c3f-9b96-a2c5fe1e311b",
   "metadata": {},
   "source": [
    "### We convert X_train and X_test dataframes to Numpy arrays because this is an easy way to input Keras/Tensorflow data."
   ]
  },
  {
   "cell_type": "code",
   "execution_count": 260,
   "id": "8b76c71b-e3ae-4872-9230-3fb7c827da76",
   "metadata": {},
   "outputs": [],
   "source": [
    "# Convert X_train and X_test to Numpy arrays\n",
    "X_train = X_train.to_numpy()\n",
    "X_test = X_test.to_numpy()"
   ]
  },
  {
   "cell_type": "code",
   "execution_count": 261,
   "id": "d896ec60-57c2-42b3-9c05-f18dcb2652e2",
   "metadata": {},
   "outputs": [
    {
     "data": {
      "text/plain": [
       "((3998, 140), (3998,))"
      ]
     },
     "execution_count": 261,
     "metadata": {},
     "output_type": "execute_result"
    }
   ],
   "source": [
    "# Check the shapes of the training dataframes (X_train and y_train)\n",
    "X_train.shape, y_train.shape"
   ]
  },
  {
   "cell_type": "code",
   "execution_count": 262,
   "id": "0a1a18b0-29e3-46c4-bf6e-f97b19c7c5eb",
   "metadata": {},
   "outputs": [
    {
     "data": {
      "text/plain": [
       "((1000, 140), (1000,))"
      ]
     },
     "execution_count": 262,
     "metadata": {},
     "output_type": "execute_result"
    }
   ],
   "source": [
    "# Check the shapes of the testing dataframes (X_test and y_test)\n",
    "X_test.shape, y_test.shape"
   ]
  },
  {
   "cell_type": "markdown",
   "id": "fc71e08d-bcb5-4c8e-9987-7c506a5c81b5",
   "metadata": {},
   "source": [
    "## Build a Neural Network Model in Keras Tensorflow\n",
    "#### The neural network will contain one hidden layer.\n",
    "#### A sigmoid activation function will be used in the output layer since this is a binary classification problem."
   ]
  },
  {
   "attachments": {
    "ab09eee6-af74-4577-b594-8b1180b450bd.jpg": {
     "image/jpeg": "[encoded data removed]"
    }
   },
   "cell_type": "markdown",
   "id": "6153247d-b36f-4397-b3dc-cb7ba50cdaad",
   "metadata": {},
   "source": [
    "![130a.jpg](attachment:ab09eee6-af74-4577-b594-8b1180b450bd.jpg)"
   ]
  },
  {
   "cell_type": "code",
   "execution_count": 263,
   "id": "8542bc19-5151-4027-ae25-e311b7e2a4c5",
   "metadata": {},
   "outputs": [],
   "source": [
    "# Number of columns\n",
    "num_columns = X_train.shape[1]\n",
    "\n",
    "# Input layer (\"input\") is defined\n",
    "#input = keras.Input(shape=num_columns)\n",
    "# Input layer (\"input\") is defined\n",
    "input = keras.Input(shape=(num_columns,))  # Pass num_columns as a tuple\n",
    "\n",
    "# The input vector is fed into the hidden layer (\"h\").\n",
    "h = keras.layers.Dense(16, activation=\"relu\", name=\"Hidden\")(input)\n",
    "\n",
    "# The output of the hidden layer is run through a sigmoid activation function. \n",
    "output = keras.layers.Dense(1, activation=\"sigmoid\", name=\"Output\")(h)\n",
    "\n",
    "# The Keras model (input,output) pair for your model. \n",
    "model = keras.Model(input,output)"
   ]
  },
  {
   "cell_type": "code",
   "execution_count": null,
   "id": "75e3996c-4349-4809-9793-bce17ee70ac9",
   "metadata": {},
   "outputs": [],
   "source": []
  },
  {
   "cell_type": "code",
   "execution_count": 264,
   "id": "793c3f14-e50c-4b36-b984-c16f995b662f",
   "metadata": {},
   "outputs": [
    {
     "data": {
      "text/html": [
       "<pre style=\"white-space:pre;overflow-x:auto;line-height:normal;font-family:Menlo,'DejaVu Sans Mono',consolas,'Courier New',monospace\"><span style=\"font-weight: bold\">Model: \"functional_11\"</span>\n",
       "</pre>\n"
      ],
      "text/plain": [
       "\u001b[1mModel: \"functional_11\"\u001b[0m\n"
      ]
     },
     "metadata": {},
     "output_type": "display_data"
    },
    {
     "data": {
      "text/html": [
       "<pre style=\"white-space:pre;overflow-x:auto;line-height:normal;font-family:Menlo,'DejaVu Sans Mono',consolas,'Courier New',monospace\">┏━━━━━━━━━━━━━━━━━━━━━━━━━━━━━━━━━┳━━━━━━━━━━━━━━━━━━━━━━━━┳━━━━━━━━━━━━━━━┓\n",
       "┃<span style=\"font-weight: bold\"> Layer (type)                    </span>┃<span style=\"font-weight: bold\"> Output Shape           </span>┃<span style=\"font-weight: bold\">       Param # </span>┃\n",
       "┡━━━━━━━━━━━━━━━━━━━━━━━━━━━━━━━━━╇━━━━━━━━━━━━━━━━━━━━━━━━╇━━━━━━━━━━━━━━━┩\n",
       "│ input_layer_11 (<span style=\"color: #0087ff; text-decoration-color: #0087ff\">InputLayer</span>)     │ (<span style=\"color: #00d7ff; text-decoration-color: #00d7ff\">None</span>, <span style=\"color: #00af00; text-decoration-color: #00af00\">140</span>)            │             <span style=\"color: #00af00; text-decoration-color: #00af00\">0</span> │\n",
       "├─────────────────────────────────┼────────────────────────┼───────────────┤\n",
       "│ Hidden (<span style=\"color: #0087ff; text-decoration-color: #0087ff\">Dense</span>)                  │ (<span style=\"color: #00d7ff; text-decoration-color: #00d7ff\">None</span>, <span style=\"color: #00af00; text-decoration-color: #00af00\">16</span>)             │         <span style=\"color: #00af00; text-decoration-color: #00af00\">2,256</span> │\n",
       "├─────────────────────────────────┼────────────────────────┼───────────────┤\n",
       "│ Output (<span style=\"color: #0087ff; text-decoration-color: #0087ff\">Dense</span>)                  │ (<span style=\"color: #00d7ff; text-decoration-color: #00d7ff\">None</span>, <span style=\"color: #00af00; text-decoration-color: #00af00\">1</span>)              │            <span style=\"color: #00af00; text-decoration-color: #00af00\">17</span> │\n",
       "└─────────────────────────────────┴────────────────────────┴───────────────┘\n",
       "</pre>\n"
      ],
      "text/plain": [
       "┏━━━━━━━━━━━━━━━━━━━━━━━━━━━━━━━━━┳━━━━━━━━━━━━━━━━━━━━━━━━┳━━━━━━━━━━━━━━━┓\n",
       "┃\u001b[1m \u001b[0m\u001b[1mLayer (type)                   \u001b[0m\u001b[1m \u001b[0m┃\u001b[1m \u001b[0m\u001b[1mOutput Shape          \u001b[0m\u001b[1m \u001b[0m┃\u001b[1m \u001b[0m\u001b[1m      Param #\u001b[0m\u001b[1m \u001b[0m┃\n",
       "┡━━━━━━━━━━━━━━━━━━━━━━━━━━━━━━━━━╇━━━━━━━━━━━━━━━━━━━━━━━━╇━━━━━━━━━━━━━━━┩\n",
       "│ input_layer_11 (\u001b[38;5;33mInputLayer\u001b[0m)     │ (\u001b[38;5;45mNone\u001b[0m, \u001b[38;5;34m140\u001b[0m)            │             \u001b[38;5;34m0\u001b[0m │\n",
       "├─────────────────────────────────┼────────────────────────┼───────────────┤\n",
       "│ Hidden (\u001b[38;5;33mDense\u001b[0m)                  │ (\u001b[38;5;45mNone\u001b[0m, \u001b[38;5;34m16\u001b[0m)             │         \u001b[38;5;34m2,256\u001b[0m │\n",
       "├─────────────────────────────────┼────────────────────────┼───────────────┤\n",
       "│ Output (\u001b[38;5;33mDense\u001b[0m)                  │ (\u001b[38;5;45mNone\u001b[0m, \u001b[38;5;34m1\u001b[0m)              │            \u001b[38;5;34m17\u001b[0m │\n",
       "└─────────────────────────────────┴────────────────────────┴───────────────┘\n"
      ]
     },
     "metadata": {},
     "output_type": "display_data"
    },
    {
     "data": {
      "text/html": [
       "<pre style=\"white-space:pre;overflow-x:auto;line-height:normal;font-family:Menlo,'DejaVu Sans Mono',consolas,'Courier New',monospace\"><span style=\"font-weight: bold\"> Total params: </span><span style=\"color: #00af00; text-decoration-color: #00af00\">2,273</span> (8.88 KB)\n",
       "</pre>\n"
      ],
      "text/plain": [
       "\u001b[1m Total params: \u001b[0m\u001b[38;5;34m2,273\u001b[0m (8.88 KB)\n"
      ]
     },
     "metadata": {},
     "output_type": "display_data"
    },
    {
     "data": {
      "text/html": [
       "<pre style=\"white-space:pre;overflow-x:auto;line-height:normal;font-family:Menlo,'DejaVu Sans Mono',consolas,'Courier New',monospace\"><span style=\"font-weight: bold\"> Trainable params: </span><span style=\"color: #00af00; text-decoration-color: #00af00\">2,273</span> (8.88 KB)\n",
       "</pre>\n"
      ],
      "text/plain": [
       "\u001b[1m Trainable params: \u001b[0m\u001b[38;5;34m2,273\u001b[0m (8.88 KB)\n"
      ]
     },
     "metadata": {},
     "output_type": "display_data"
    },
    {
     "data": {
      "text/html": [
       "<pre style=\"white-space:pre;overflow-x:auto;line-height:normal;font-family:Menlo,'DejaVu Sans Mono',consolas,'Courier New',monospace\"><span style=\"font-weight: bold\"> Non-trainable params: </span><span style=\"color: #00af00; text-decoration-color: #00af00\">0</span> (0.00 B)\n",
       "</pre>\n"
      ],
      "text/plain": [
       "\u001b[1m Non-trainable params: \u001b[0m\u001b[38;5;34m0\u001b[0m (0.00 B)\n"
      ]
     },
     "metadata": {},
     "output_type": "display_data"
    }
   ],
   "source": [
    "model.summary()"
   ]
  },
  {
   "cell_type": "code",
   "execution_count": 265,
   "id": "0a59afc3-132c-463e-8b0b-6fb50dfac66b",
   "metadata": {},
   "outputs": [
    {
     "data": {
      "image/png": "[encoded data removed]",
      "text/plain": [
       "<IPython.core.display.Image object>"
      ]
     },
     "execution_count": 265,
     "metadata": {},
     "output_type": "execute_result"
    }
   ],
   "source": [
    "keras.utils.plot_model(model, show_shapes=True, dpi=128)"
   ]
  },
  {
   "cell_type": "markdown",
   "id": "78ab93b0-f8ee-4a71-a998-4b16d1ee7320",
   "metadata": {},
   "source": [
    "### Set Neural Network Optimization Parameters\n",
    "#### The model was defined in the previous step but we still need to provide Keras:\n",
    "##### Optimizer - Adam is selected as a default which is an SGD flavor\n",
    "##### Loss Function - The model's output is binary, so binary_crossentropy is selected.\n",
    "##### Metrics - This is a classifcation problem, so Accuracy is selected."
   ]
  },
  {
   "cell_type": "code",
   "execution_count": 266,
   "id": "128d2b21-f0ca-4960-b344-50b9fcf72eb9",
   "metadata": {},
   "outputs": [],
   "source": [
    "# Compile the model with the adam optimizer, binary crossentropy loss function, and accuracy metrics.\n",
    "model.compile(optimizer=\"adam\",\n",
    "             loss=\"binary_crossentropy\",\n",
    "             metrics=[\"accuracy\"])"
   ]
  },
  {
   "cell_type": "markdown",
   "id": "9fa2b6b2-7e7e-444a-b8bd-bba8e7cd42f4",
   "metadata": {},
   "source": [
    "### Train the Model on the Training Dataset\n",
    "#### Training the model on the training dataset requires these items set:\n",
    "##### The batch size - 32 is a good default\n",
    "##### Number of epochs i.e. how many passes through the training data. The default starting setting for this exercise is 100 but can be optimized.\n",
    "##### 20% of the data will be used as a validation dataset. Validation data can be useful for overfitting detection and regularization by early stopping. Early stopping can be completed by identifying the number of epochs where accuracy levels off. "
   ]
  },
  {
   "cell_type": "code",
   "execution_count": 267,
   "id": "aa3ed00b-4288-4655-919d-2efd041313cc",
   "metadata": {},
   "outputs": [
    {
     "name": "stdout",
     "output_type": "stream",
     "text": [
      "Epoch 1/100\n",
      "\u001b[1m100/100\u001b[0m \u001b[32m━━━━━━━━━━━━━━━━━━━━\u001b[0m\u001b[37m\u001b[0m \u001b[1m1s\u001b[0m 2ms/step - accuracy: 0.9447 - loss: 0.1724 - val_accuracy: 0.9862 - val_loss: 0.0429\n",
      "Epoch 2/100\n",
      "\u001b[1m100/100\u001b[0m \u001b[32m━━━━━━━━━━━━━━━━━━━━\u001b[0m\u001b[37m\u001b[0m \u001b[1m0s\u001b[0m 1ms/step - accuracy: 0.9912 - loss: 0.0346 - val_accuracy: 0.9912 - val_loss: 0.0322\n",
      "Epoch 3/100\n",
      "\u001b[1m100/100\u001b[0m \u001b[32m━━━━━━━━━━━━━━━━━━━━\u001b[0m\u001b[37m\u001b[0m \u001b[1m0s\u001b[0m 1ms/step - accuracy: 0.9948 - loss: 0.0251 - val_accuracy: 0.9912 - val_loss: 0.0295\n",
      "Epoch 4/100\n",
      "\u001b[1m100/100\u001b[0m \u001b[32m━━━━━━━━━━━━━━━━━━━━\u001b[0m\u001b[37m\u001b[0m \u001b[1m0s\u001b[0m 971us/step - accuracy: 0.9945 - loss: 0.0221 - val_accuracy: 0.9937 - val_loss: 0.0275\n",
      "Epoch 5/100\n",
      "\u001b[1m100/100\u001b[0m \u001b[32m━━━━━━━━━━━━━━━━━━━━\u001b[0m\u001b[37m\u001b[0m \u001b[1m0s\u001b[0m 1ms/step - accuracy: 0.9952 - loss: 0.0202 - val_accuracy: 0.9950 - val_loss: 0.0266\n",
      "Epoch 6/100\n",
      "\u001b[1m100/100\u001b[0m \u001b[32m━━━━━━━━━━━━━━━━━━━━\u001b[0m\u001b[37m\u001b[0m \u001b[1m0s\u001b[0m 1ms/step - accuracy: 0.9952 - loss: 0.0188 - val_accuracy: 0.9950 - val_loss: 0.0259\n",
      "Epoch 7/100\n",
      "\u001b[1m100/100\u001b[0m \u001b[32m━━━━━━━━━━━━━━━━━━━━\u001b[0m\u001b[37m\u001b[0m \u001b[1m0s\u001b[0m 964us/step - accuracy: 0.9955 - loss: 0.0175 - val_accuracy: 0.9937 - val_loss: 0.0257\n",
      "Epoch 8/100\n",
      "\u001b[1m100/100\u001b[0m \u001b[32m━━━━━━━━━━━━━━━━━━━━\u001b[0m\u001b[37m\u001b[0m \u001b[1m0s\u001b[0m 1ms/step - accuracy: 0.9956 - loss: 0.0161 - val_accuracy: 0.9937 - val_loss: 0.0255\n",
      "Epoch 9/100\n",
      "\u001b[1m100/100\u001b[0m \u001b[32m━━━━━━━━━━━━━━━━━━━━\u001b[0m\u001b[37m\u001b[0m \u001b[1m0s\u001b[0m 1ms/step - accuracy: 0.9959 - loss: 0.0148 - val_accuracy: 0.9937 - val_loss: 0.0259\n",
      "Epoch 10/100\n",
      "\u001b[1m100/100\u001b[0m \u001b[32m━━━━━━━━━━━━━━━━━━━━\u001b[0m\u001b[37m\u001b[0m \u001b[1m0s\u001b[0m 1ms/step - accuracy: 0.9959 - loss: 0.0138 - val_accuracy: 0.9937 - val_loss: 0.0261\n",
      "Epoch 11/100\n",
      "\u001b[1m100/100\u001b[0m \u001b[32m━━━━━━━━━━━━━━━━━━━━\u001b[0m\u001b[37m\u001b[0m \u001b[1m0s\u001b[0m 1ms/step - accuracy: 0.9959 - loss: 0.0129 - val_accuracy: 0.9937 - val_loss: 0.0258\n",
      "Epoch 12/100\n",
      "\u001b[1m100/100\u001b[0m \u001b[32m━━━━━━━━━━━━━━━━━━━━\u001b[0m\u001b[37m\u001b[0m \u001b[1m0s\u001b[0m 986us/step - accuracy: 0.9970 - loss: 0.0121 - val_accuracy: 0.9937 - val_loss: 0.0260\n",
      "Epoch 13/100\n",
      "\u001b[1m100/100\u001b[0m \u001b[32m━━━━━━━━━━━━━━━━━━━━\u001b[0m\u001b[37m\u001b[0m \u001b[1m0s\u001b[0m 1ms/step - accuracy: 0.9971 - loss: 0.0115 - val_accuracy: 0.9937 - val_loss: 0.0259\n",
      "Epoch 14/100\n",
      "\u001b[1m100/100\u001b[0m \u001b[32m━━━━━━━━━━━━━━━━━━━━\u001b[0m\u001b[37m\u001b[0m \u001b[1m0s\u001b[0m 978us/step - accuracy: 0.9976 - loss: 0.0108 - val_accuracy: 0.9937 - val_loss: 0.0258\n",
      "Epoch 15/100\n",
      "\u001b[1m100/100\u001b[0m \u001b[32m━━━━━━━━━━━━━━━━━━━━\u001b[0m\u001b[37m\u001b[0m \u001b[1m0s\u001b[0m 1ms/step - accuracy: 0.9976 - loss: 0.0102 - val_accuracy: 0.9937 - val_loss: 0.0256\n",
      "Epoch 16/100\n",
      "\u001b[1m100/100\u001b[0m \u001b[32m━━━━━━━━━━━━━━━━━━━━\u001b[0m\u001b[37m\u001b[0m \u001b[1m0s\u001b[0m 1ms/step - accuracy: 0.9976 - loss: 0.0097 - val_accuracy: 0.9937 - val_loss: 0.0254\n",
      "Epoch 17/100\n",
      "\u001b[1m100/100\u001b[0m \u001b[32m━━━━━━━━━━━━━━━━━━━━\u001b[0m\u001b[37m\u001b[0m \u001b[1m0s\u001b[0m 1ms/step - accuracy: 0.9976 - loss: 0.0091 - val_accuracy: 0.9937 - val_loss: 0.0256\n",
      "Epoch 18/100\n",
      "\u001b[1m100/100\u001b[0m \u001b[32m━━━━━━━━━━━━━━━━━━━━\u001b[0m\u001b[37m\u001b[0m \u001b[1m0s\u001b[0m 1ms/step - accuracy: 0.9976 - loss: 0.0085 - val_accuracy: 0.9937 - val_loss: 0.0255\n",
      "Epoch 19/100\n",
      "\u001b[1m100/100\u001b[0m \u001b[32m━━━━━━━━━━━━━━━━━━━━\u001b[0m\u001b[37m\u001b[0m \u001b[1m0s\u001b[0m 1ms/step - accuracy: 0.9976 - loss: 0.0081 - val_accuracy: 0.9950 - val_loss: 0.0254\n",
      "Epoch 20/100\n",
      "\u001b[1m100/100\u001b[0m \u001b[32m━━━━━━━━━━━━━━━━━━━━\u001b[0m\u001b[37m\u001b[0m \u001b[1m0s\u001b[0m 1ms/step - accuracy: 0.9979 - loss: 0.0075 - val_accuracy: 0.9950 - val_loss: 0.0256\n",
      "Epoch 21/100\n",
      "\u001b[1m100/100\u001b[0m \u001b[32m━━━━━━━━━━━━━━━━━━━━\u001b[0m\u001b[37m\u001b[0m \u001b[1m0s\u001b[0m 1ms/step - accuracy: 0.9979 - loss: 0.0071 - val_accuracy: 0.9950 - val_loss: 0.0255\n",
      "Epoch 22/100\n",
      "\u001b[1m100/100\u001b[0m \u001b[32m━━━━━━━━━━━━━━━━━━━━\u001b[0m\u001b[37m\u001b[0m \u001b[1m0s\u001b[0m 1ms/step - accuracy: 0.9979 - loss: 0.0068 - val_accuracy: 0.9950 - val_loss: 0.0258\n",
      "Epoch 23/100\n",
      "\u001b[1m100/100\u001b[0m \u001b[32m━━━━━━━━━━━━━━━━━━━━\u001b[0m\u001b[37m\u001b[0m \u001b[1m0s\u001b[0m 1ms/step - accuracy: 0.9979 - loss: 0.0065 - val_accuracy: 0.9950 - val_loss: 0.0255\n",
      "Epoch 24/100\n",
      "\u001b[1m100/100\u001b[0m \u001b[32m━━━━━━━━━━━━━━━━━━━━\u001b[0m\u001b[37m\u001b[0m \u001b[1m0s\u001b[0m 1ms/step - accuracy: 0.9979 - loss: 0.0060 - val_accuracy: 0.9950 - val_loss: 0.0259\n",
      "Epoch 25/100\n",
      "\u001b[1m100/100\u001b[0m \u001b[32m━━━━━━━━━━━━━━━━━━━━\u001b[0m\u001b[37m\u001b[0m \u001b[1m0s\u001b[0m 1ms/step - accuracy: 0.9979 - loss: 0.0059 - val_accuracy: 0.9950 - val_loss: 0.0262\n",
      "Epoch 26/100\n",
      "\u001b[1m100/100\u001b[0m \u001b[32m━━━━━━━━━━━━━━━━━━━━\u001b[0m\u001b[37m\u001b[0m \u001b[1m0s\u001b[0m 1ms/step - accuracy: 0.9981 - loss: 0.0055 - val_accuracy: 0.9950 - val_loss: 0.0261\n",
      "Epoch 27/100\n",
      "\u001b[1m100/100\u001b[0m \u001b[32m━━━━━━━━━━━━━━━━━━━━\u001b[0m\u001b[37m\u001b[0m \u001b[1m0s\u001b[0m 1ms/step - accuracy: 0.9981 - loss: 0.0052 - val_accuracy: 0.9950 - val_loss: 0.0264\n",
      "Epoch 28/100\n",
      "\u001b[1m100/100\u001b[0m \u001b[32m━━━━━━━━━━━━━━━━━━━━\u001b[0m\u001b[37m\u001b[0m \u001b[1m0s\u001b[0m 1ms/step - accuracy: 0.9987 - loss: 0.0050 - val_accuracy: 0.9950 - val_loss: 0.0266\n",
      "Epoch 29/100\n",
      "\u001b[1m100/100\u001b[0m \u001b[32m━━━━━━━━━━━━━━━━━━━━\u001b[0m\u001b[37m\u001b[0m \u001b[1m0s\u001b[0m 1ms/step - accuracy: 0.9981 - loss: 0.0047 - val_accuracy: 0.9950 - val_loss: 0.0266\n",
      "Epoch 30/100\n",
      "\u001b[1m100/100\u001b[0m \u001b[32m━━━━━━━━━━━━━━━━━━━━\u001b[0m\u001b[37m\u001b[0m \u001b[1m0s\u001b[0m 1ms/step - accuracy: 0.9987 - loss: 0.0043 - val_accuracy: 0.9950 - val_loss: 0.0268\n",
      "Epoch 31/100\n",
      "\u001b[1m100/100\u001b[0m \u001b[32m━━━━━━━━━━━━━━━━━━━━\u001b[0m\u001b[37m\u001b[0m \u001b[1m0s\u001b[0m 1ms/step - accuracy: 0.9987 - loss: 0.0042 - val_accuracy: 0.9950 - val_loss: 0.0272\n",
      "Epoch 32/100\n",
      "\u001b[1m100/100\u001b[0m \u001b[32m━━━━━━━━━━━━━━━━━━━━\u001b[0m\u001b[37m\u001b[0m \u001b[1m0s\u001b[0m 1ms/step - accuracy: 0.9987 - loss: 0.0039 - val_accuracy: 0.9950 - val_loss: 0.0270\n",
      "Epoch 33/100\n",
      "\u001b[1m100/100\u001b[0m \u001b[32m━━━━━━━━━━━━━━━━━━━━\u001b[0m\u001b[37m\u001b[0m \u001b[1m0s\u001b[0m 1ms/step - accuracy: 0.9987 - loss: 0.0037 - val_accuracy: 0.9950 - val_loss: 0.0276\n",
      "Epoch 34/100\n",
      "\u001b[1m100/100\u001b[0m \u001b[32m━━━━━━━━━━━━━━━━━━━━\u001b[0m\u001b[37m\u001b[0m \u001b[1m0s\u001b[0m 1ms/step - accuracy: 0.9990 - loss: 0.0035 - val_accuracy: 0.9950 - val_loss: 0.0280\n",
      "Epoch 35/100\n",
      "\u001b[1m100/100\u001b[0m \u001b[32m━━━━━━━━━━━━━━━━━━━━\u001b[0m\u001b[37m\u001b[0m \u001b[1m0s\u001b[0m 1ms/step - accuracy: 0.9990 - loss: 0.0034 - val_accuracy: 0.9950 - val_loss: 0.0273\n",
      "Epoch 36/100\n",
      "\u001b[1m100/100\u001b[0m \u001b[32m━━━━━━━━━━━━━━━━━━━━\u001b[0m\u001b[37m\u001b[0m \u001b[1m0s\u001b[0m 1ms/step - accuracy: 0.9990 - loss: 0.0033 - val_accuracy: 0.9950 - val_loss: 0.0279\n",
      "Epoch 37/100\n",
      "\u001b[1m100/100\u001b[0m \u001b[32m━━━━━━━━━━━━━━━━━━━━\u001b[0m\u001b[37m\u001b[0m \u001b[1m0s\u001b[0m 1ms/step - accuracy: 0.9990 - loss: 0.0033 - val_accuracy: 0.9950 - val_loss: 0.0282\n",
      "Epoch 38/100\n",
      "\u001b[1m100/100\u001b[0m \u001b[32m━━━━━━━━━━━━━━━━━━━━\u001b[0m\u001b[37m\u001b[0m \u001b[1m0s\u001b[0m 1ms/step - accuracy: 0.9990 - loss: 0.0030 - val_accuracy: 0.9950 - val_loss: 0.0284\n",
      "Epoch 39/100\n",
      "\u001b[1m100/100\u001b[0m \u001b[32m━━━━━━━━━━━━━━━━━━━━\u001b[0m\u001b[37m\u001b[0m \u001b[1m0s\u001b[0m 1ms/step - accuracy: 0.9990 - loss: 0.0028 - val_accuracy: 0.9950 - val_loss: 0.0284\n",
      "Epoch 40/100\n",
      "\u001b[1m100/100\u001b[0m \u001b[32m━━━━━━━━━━━━━━━━━━━━\u001b[0m\u001b[37m\u001b[0m \u001b[1m0s\u001b[0m 1ms/step - accuracy: 0.9990 - loss: 0.0029 - val_accuracy: 0.9950 - val_loss: 0.0290\n",
      "Epoch 41/100\n",
      "\u001b[1m100/100\u001b[0m \u001b[32m━━━━━━━━━━━━━━━━━━━━\u001b[0m\u001b[37m\u001b[0m \u001b[1m0s\u001b[0m 1ms/step - accuracy: 0.9990 - loss: 0.0028 - val_accuracy: 0.9950 - val_loss: 0.0282\n",
      "Epoch 42/100\n",
      "\u001b[1m100/100\u001b[0m \u001b[32m━━━━━━━━━━━━━━━━━━━━\u001b[0m\u001b[37m\u001b[0m \u001b[1m0s\u001b[0m 1ms/step - accuracy: 0.9990 - loss: 0.0026 - val_accuracy: 0.9950 - val_loss: 0.0289\n",
      "Epoch 43/100\n",
      "\u001b[1m100/100\u001b[0m \u001b[32m━━━━━━━━━━━━━━━━━━━━\u001b[0m\u001b[37m\u001b[0m \u001b[1m0s\u001b[0m 1ms/step - accuracy: 0.9990 - loss: 0.0024 - val_accuracy: 0.9950 - val_loss: 0.0288\n",
      "Epoch 44/100\n",
      "\u001b[1m100/100\u001b[0m \u001b[32m━━━━━━━━━━━━━━━━━━━━\u001b[0m\u001b[37m\u001b[0m \u001b[1m0s\u001b[0m 1ms/step - accuracy: 0.9990 - loss: 0.0024 - val_accuracy: 0.9950 - val_loss: 0.0295\n",
      "Epoch 45/100\n",
      "\u001b[1m100/100\u001b[0m \u001b[32m━━━━━━━━━━━━━━━━━━━━\u001b[0m\u001b[37m\u001b[0m \u001b[1m0s\u001b[0m 1ms/step - accuracy: 0.9990 - loss: 0.0023 - val_accuracy: 0.9950 - val_loss: 0.0300\n",
      "Epoch 46/100\n",
      "\u001b[1m100/100\u001b[0m \u001b[32m━━━━━━━━━━━━━━━━━━━━\u001b[0m\u001b[37m\u001b[0m \u001b[1m0s\u001b[0m 1ms/step - accuracy: 0.9990 - loss: 0.0021 - val_accuracy: 0.9950 - val_loss: 0.0297\n",
      "Epoch 47/100\n",
      "\u001b[1m100/100\u001b[0m \u001b[32m━━━━━━━━━━━━━━━━━━━━\u001b[0m\u001b[37m\u001b[0m \u001b[1m0s\u001b[0m 1ms/step - accuracy: 0.9990 - loss: 0.0020 - val_accuracy: 0.9950 - val_loss: 0.0297\n",
      "Epoch 48/100\n",
      "\u001b[1m100/100\u001b[0m \u001b[32m━━━━━━━━━━━━━━━━━━━━\u001b[0m\u001b[37m\u001b[0m \u001b[1m0s\u001b[0m 1ms/step - accuracy: 0.9990 - loss: 0.0020 - val_accuracy: 0.9950 - val_loss: 0.0298\n",
      "Epoch 49/100\n",
      "\u001b[1m100/100\u001b[0m \u001b[32m━━━━━━━━━━━━━━━━━━━━\u001b[0m\u001b[37m\u001b[0m \u001b[1m0s\u001b[0m 1ms/step - accuracy: 0.9990 - loss: 0.0018 - val_accuracy: 0.9950 - val_loss: 0.0300\n",
      "Epoch 50/100\n",
      "\u001b[1m100/100\u001b[0m \u001b[32m━━━━━━━━━━━━━━━━━━━━\u001b[0m\u001b[37m\u001b[0m \u001b[1m0s\u001b[0m 1ms/step - accuracy: 0.9990 - loss: 0.0018 - val_accuracy: 0.9950 - val_loss: 0.0306\n",
      "Epoch 51/100\n",
      "\u001b[1m100/100\u001b[0m \u001b[32m━━━━━━━━━━━━━━━━━━━━\u001b[0m\u001b[37m\u001b[0m \u001b[1m0s\u001b[0m 1ms/step - accuracy: 0.9990 - loss: 0.0016 - val_accuracy: 0.9950 - val_loss: 0.0300\n",
      "Epoch 52/100\n",
      "\u001b[1m100/100\u001b[0m \u001b[32m━━━━━━━━━━━━━━━━━━━━\u001b[0m\u001b[37m\u001b[0m \u001b[1m0s\u001b[0m 1ms/step - accuracy: 0.9990 - loss: 0.0016 - val_accuracy: 0.9950 - val_loss: 0.0299\n",
      "Epoch 53/100\n",
      "\u001b[1m100/100\u001b[0m \u001b[32m━━━━━━━━━━━━━━━━━━━━\u001b[0m\u001b[37m\u001b[0m \u001b[1m0s\u001b[0m 1ms/step - accuracy: 0.9990 - loss: 0.0016 - val_accuracy: 0.9950 - val_loss: 0.0301\n",
      "Epoch 54/100\n",
      "\u001b[1m100/100\u001b[0m \u001b[32m━━━━━━━━━━━━━━━━━━━━\u001b[0m\u001b[37m\u001b[0m \u001b[1m0s\u001b[0m 1ms/step - accuracy: 0.9990 - loss: 0.0014 - val_accuracy: 0.9950 - val_loss: 0.0301\n",
      "Epoch 55/100\n",
      "\u001b[1m100/100\u001b[0m \u001b[32m━━━━━━━━━━━━━━━━━━━━\u001b[0m\u001b[37m\u001b[0m \u001b[1m0s\u001b[0m 1ms/step - accuracy: 0.9990 - loss: 0.0013 - val_accuracy: 0.9950 - val_loss: 0.0302\n",
      "Epoch 56/100\n",
      "\u001b[1m100/100\u001b[0m \u001b[32m━━━━━━━━━━━━━━━━━━━━\u001b[0m\u001b[37m\u001b[0m \u001b[1m0s\u001b[0m 1ms/step - accuracy: 0.9990 - loss: 0.0013 - val_accuracy: 0.9950 - val_loss: 0.0308\n",
      "Epoch 57/100\n",
      "\u001b[1m100/100\u001b[0m \u001b[32m━━━━━━━━━━━━━━━━━━━━\u001b[0m\u001b[37m\u001b[0m \u001b[1m0s\u001b[0m 1ms/step - accuracy: 0.9990 - loss: 0.0013 - val_accuracy: 0.9950 - val_loss: 0.0306\n",
      "Epoch 58/100\n",
      "\u001b[1m100/100\u001b[0m \u001b[32m━━━━━━━━━━━━━━━━━━━━\u001b[0m\u001b[37m\u001b[0m \u001b[1m0s\u001b[0m 1ms/step - accuracy: 0.9990 - loss: 0.0012 - val_accuracy: 0.9950 - val_loss: 0.0303\n",
      "Epoch 59/100\n",
      "\u001b[1m100/100\u001b[0m \u001b[32m━━━━━━━━━━━━━━━━━━━━\u001b[0m\u001b[37m\u001b[0m \u001b[1m0s\u001b[0m 1ms/step - accuracy: 0.9990 - loss: 0.0013 - val_accuracy: 0.9950 - val_loss: 0.0308\n",
      "Epoch 60/100\n",
      "\u001b[1m100/100\u001b[0m \u001b[32m━━━━━━━━━━━━━━━━━━━━\u001b[0m\u001b[37m\u001b[0m \u001b[1m0s\u001b[0m 1ms/step - accuracy: 0.9990 - loss: 0.0012 - val_accuracy: 0.9950 - val_loss: 0.0315\n",
      "Epoch 61/100\n",
      "\u001b[1m100/100\u001b[0m \u001b[32m━━━━━━━━━━━━━━━━━━━━\u001b[0m\u001b[37m\u001b[0m \u001b[1m0s\u001b[0m 1ms/step - accuracy: 0.9990 - loss: 0.0012 - val_accuracy: 0.9950 - val_loss: 0.0316\n",
      "Epoch 62/100\n",
      "\u001b[1m100/100\u001b[0m \u001b[32m━━━━━━━━━━━━━━━━━━━━\u001b[0m\u001b[37m\u001b[0m \u001b[1m0s\u001b[0m 1ms/step - accuracy: 0.9990 - loss: 0.0011 - val_accuracy: 0.9950 - val_loss: 0.0320\n",
      "Epoch 63/100\n",
      "\u001b[1m100/100\u001b[0m \u001b[32m━━━━━━━━━━━━━━━━━━━━\u001b[0m\u001b[37m\u001b[0m \u001b[1m0s\u001b[0m 1ms/step - accuracy: 0.9990 - loss: 0.0012 - val_accuracy: 0.9950 - val_loss: 0.0318\n",
      "Epoch 64/100\n",
      "\u001b[1m100/100\u001b[0m \u001b[32m━━━━━━━━━━━━━━━━━━━━\u001b[0m\u001b[37m\u001b[0m \u001b[1m0s\u001b[0m 1ms/step - accuracy: 0.9990 - loss: 0.0011 - val_accuracy: 0.9950 - val_loss: 0.0321\n",
      "Epoch 65/100\n",
      "\u001b[1m100/100\u001b[0m \u001b[32m━━━━━━━━━━━━━━━━━━━━\u001b[0m\u001b[37m\u001b[0m \u001b[1m0s\u001b[0m 1ms/step - accuracy: 0.9990 - loss: 0.0011 - val_accuracy: 0.9950 - val_loss: 0.0321\n",
      "Epoch 66/100\n",
      "\u001b[1m100/100\u001b[0m \u001b[32m━━━━━━━━━━━━━━━━━━━━\u001b[0m\u001b[37m\u001b[0m \u001b[1m0s\u001b[0m 1ms/step - accuracy: 0.9990 - loss: 0.0011 - val_accuracy: 0.9950 - val_loss: 0.0322\n",
      "Epoch 67/100\n",
      "\u001b[1m100/100\u001b[0m \u001b[32m━━━━━━━━━━━━━━━━━━━━\u001b[0m\u001b[37m\u001b[0m \u001b[1m0s\u001b[0m 1ms/step - accuracy: 0.9990 - loss: 9.9692e-04 - val_accuracy: 0.9950 - val_loss: 0.0328\n",
      "Epoch 68/100\n",
      "\u001b[1m100/100\u001b[0m \u001b[32m━━━━━━━━━━━━━━━━━━━━\u001b[0m\u001b[37m\u001b[0m \u001b[1m0s\u001b[0m 1ms/step - accuracy: 0.9990 - loss: 0.0011 - val_accuracy: 0.9950 - val_loss: 0.0339\n",
      "Epoch 69/100\n",
      "\u001b[1m100/100\u001b[0m \u001b[32m━━━━━━━━━━━━━━━━━━━━\u001b[0m\u001b[37m\u001b[0m \u001b[1m0s\u001b[0m 1ms/step - accuracy: 0.9990 - loss: 9.5976e-04 - val_accuracy: 0.9950 - val_loss: 0.0338\n",
      "Epoch 70/100\n",
      "\u001b[1m100/100\u001b[0m \u001b[32m━━━━━━━━━━━━━━━━━━━━\u001b[0m\u001b[37m\u001b[0m \u001b[1m0s\u001b[0m 1ms/step - accuracy: 0.9990 - loss: 0.0010 - val_accuracy: 0.9950 - val_loss: 0.0341\n",
      "Epoch 71/100\n",
      "\u001b[1m100/100\u001b[0m \u001b[32m━━━━━━━━━━━━━━━━━━━━\u001b[0m\u001b[37m\u001b[0m \u001b[1m0s\u001b[0m 1ms/step - accuracy: 0.9990 - loss: 9.9556e-04 - val_accuracy: 0.9950 - val_loss: 0.0337\n",
      "Epoch 72/100\n",
      "\u001b[1m100/100\u001b[0m \u001b[32m━━━━━━━━━━━━━━━━━━━━\u001b[0m\u001b[37m\u001b[0m \u001b[1m0s\u001b[0m 1ms/step - accuracy: 0.9990 - loss: 9.5543e-04 - val_accuracy: 0.9950 - val_loss: 0.0341\n",
      "Epoch 73/100\n",
      "\u001b[1m100/100\u001b[0m \u001b[32m━━━━━━━━━━━━━━━━━━━━\u001b[0m\u001b[37m\u001b[0m \u001b[1m0s\u001b[0m 1ms/step - accuracy: 0.9990 - loss: 9.5875e-04 - val_accuracy: 0.9950 - val_loss: 0.0343\n",
      "Epoch 74/100\n",
      "\u001b[1m100/100\u001b[0m \u001b[32m━━━━━━━━━━━━━━━━━━━━\u001b[0m\u001b[37m\u001b[0m \u001b[1m0s\u001b[0m 1ms/step - accuracy: 0.9990 - loss: 9.3696e-04 - val_accuracy: 0.9950 - val_loss: 0.0346\n",
      "Epoch 75/100\n",
      "\u001b[1m100/100\u001b[0m \u001b[32m━━━━━━━━━━━━━━━━━━━━\u001b[0m\u001b[37m\u001b[0m \u001b[1m0s\u001b[0m 1ms/step - accuracy: 0.9990 - loss: 9.0195e-04 - val_accuracy: 0.9950 - val_loss: 0.0344\n",
      "Epoch 76/100\n",
      "\u001b[1m100/100\u001b[0m \u001b[32m━━━━━━━━━━━━━━━━━━━━\u001b[0m\u001b[37m\u001b[0m \u001b[1m0s\u001b[0m 1ms/step - accuracy: 0.9990 - loss: 8.9082e-04 - val_accuracy: 0.9950 - val_loss: 0.0347\n",
      "Epoch 77/100\n",
      "\u001b[1m100/100\u001b[0m \u001b[32m━━━━━━━━━━━━━━━━━━━━\u001b[0m\u001b[37m\u001b[0m \u001b[1m0s\u001b[0m 1ms/step - accuracy: 0.9990 - loss: 9.1051e-04 - val_accuracy: 0.9950 - val_loss: 0.0364\n",
      "Epoch 78/100\n",
      "\u001b[1m100/100\u001b[0m \u001b[32m━━━━━━━━━━━━━━━━━━━━\u001b[0m\u001b[37m\u001b[0m \u001b[1m0s\u001b[0m 1ms/step - accuracy: 0.9990 - loss: 8.4983e-04 - val_accuracy: 0.9950 - val_loss: 0.0360\n",
      "Epoch 79/100\n",
      "\u001b[1m100/100\u001b[0m \u001b[32m━━━━━━━━━━━━━━━━━━━━\u001b[0m\u001b[37m\u001b[0m \u001b[1m0s\u001b[0m 1ms/step - accuracy: 0.9990 - loss: 8.3241e-04 - val_accuracy: 0.9950 - val_loss: 0.0363\n",
      "Epoch 80/100\n",
      "\u001b[1m100/100\u001b[0m \u001b[32m━━━━━━━━━━━━━━━━━━━━\u001b[0m\u001b[37m\u001b[0m \u001b[1m0s\u001b[0m 1ms/step - accuracy: 0.9990 - loss: 8.7578e-04 - val_accuracy: 0.9950 - val_loss: 0.0370\n",
      "Epoch 81/100\n",
      "\u001b[1m100/100\u001b[0m \u001b[32m━━━━━━━━━━━━━━━━━━━━\u001b[0m\u001b[37m\u001b[0m \u001b[1m0s\u001b[0m 1ms/step - accuracy: 0.9990 - loss: 0.0011 - val_accuracy: 0.9950 - val_loss: 0.0372\n",
      "Epoch 82/100\n",
      "\u001b[1m100/100\u001b[0m \u001b[32m━━━━━━━━━━━━━━━━━━━━\u001b[0m\u001b[37m\u001b[0m \u001b[1m0s\u001b[0m 1ms/step - accuracy: 1.0000 - loss: 9.2784e-04 - val_accuracy: 0.9950 - val_loss: 0.0367\n",
      "Epoch 83/100\n",
      "\u001b[1m100/100\u001b[0m \u001b[32m━━━━━━━━━━━━━━━━━━━━\u001b[0m\u001b[37m\u001b[0m \u001b[1m0s\u001b[0m 1ms/step - accuracy: 1.0000 - loss: 8.1351e-04 - val_accuracy: 0.9950 - val_loss: 0.0365\n",
      "Epoch 84/100\n",
      "\u001b[1m100/100\u001b[0m \u001b[32m━━━━━━━━━━━━━━━━━━━━\u001b[0m\u001b[37m\u001b[0m \u001b[1m0s\u001b[0m 1ms/step - accuracy: 1.0000 - loss: 7.9836e-04 - val_accuracy: 0.9950 - val_loss: 0.0373\n",
      "Epoch 85/100\n",
      "\u001b[1m100/100\u001b[0m \u001b[32m━━━━━━━━━━━━━━━━━━━━\u001b[0m\u001b[37m\u001b[0m \u001b[1m0s\u001b[0m 1ms/step - accuracy: 0.9990 - loss: 8.2892e-04 - val_accuracy: 0.9950 - val_loss: 0.0368\n",
      "Epoch 86/100\n",
      "\u001b[1m100/100\u001b[0m \u001b[32m━━━━━━━━━━━━━━━━━━━━\u001b[0m\u001b[37m\u001b[0m \u001b[1m0s\u001b[0m 1ms/step - accuracy: 0.9990 - loss: 8.3301e-04 - val_accuracy: 0.9950 - val_loss: 0.0376\n",
      "Epoch 87/100\n",
      "\u001b[1m100/100\u001b[0m \u001b[32m━━━━━━━━━━━━━━━━━━━━\u001b[0m\u001b[37m\u001b[0m \u001b[1m0s\u001b[0m 1ms/step - accuracy: 1.0000 - loss: 8.1213e-04 - val_accuracy: 0.9950 - val_loss: 0.0377\n",
      "Epoch 88/100\n",
      "\u001b[1m100/100\u001b[0m \u001b[32m━━━━━━━━━━━━━━━━━━━━\u001b[0m\u001b[37m\u001b[0m \u001b[1m0s\u001b[0m 1ms/step - accuracy: 0.9990 - loss: 8.4592e-04 - val_accuracy: 0.9950 - val_loss: 0.0396\n",
      "Epoch 89/100\n",
      "\u001b[1m100/100\u001b[0m \u001b[32m━━━━━━━━━━━━━━━━━━━━\u001b[0m\u001b[37m\u001b[0m \u001b[1m0s\u001b[0m 1ms/step - accuracy: 1.0000 - loss: 7.6459e-04 - val_accuracy: 0.9950 - val_loss: 0.0395\n",
      "Epoch 90/100\n",
      "\u001b[1m100/100\u001b[0m \u001b[32m━━━━━━━━━━━━━━━━━━━━\u001b[0m\u001b[37m\u001b[0m \u001b[1m0s\u001b[0m 1ms/step - accuracy: 0.9990 - loss: 8.3548e-04 - val_accuracy: 0.9950 - val_loss: 0.0395\n",
      "Epoch 91/100\n",
      "\u001b[1m100/100\u001b[0m \u001b[32m━━━━━━━━━━━━━━━━━━━━\u001b[0m\u001b[37m\u001b[0m \u001b[1m0s\u001b[0m 1ms/step - accuracy: 1.0000 - loss: 7.5318e-04 - val_accuracy: 0.9950 - val_loss: 0.0391\n",
      "Epoch 92/100\n",
      "\u001b[1m100/100\u001b[0m \u001b[32m━━━━━━━━━━━━━━━━━━━━\u001b[0m\u001b[37m\u001b[0m \u001b[1m0s\u001b[0m 1ms/step - accuracy: 1.0000 - loss: 7.4324e-04 - val_accuracy: 0.9950 - val_loss: 0.0397\n",
      "Epoch 93/100\n",
      "\u001b[1m100/100\u001b[0m \u001b[32m━━━━━━━━━━━━━━━━━━━━\u001b[0m\u001b[37m\u001b[0m \u001b[1m0s\u001b[0m 1ms/step - accuracy: 1.0000 - loss: 7.3183e-04 - val_accuracy: 0.9950 - val_loss: 0.0396\n",
      "Epoch 94/100\n",
      "\u001b[1m100/100\u001b[0m \u001b[32m━━━━━━━━━━━━━━━━━━━━\u001b[0m\u001b[37m\u001b[0m \u001b[1m0s\u001b[0m 1ms/step - accuracy: 1.0000 - loss: 7.4275e-04 - val_accuracy: 0.9950 - val_loss: 0.0404\n",
      "Epoch 95/100\n",
      "\u001b[1m100/100\u001b[0m \u001b[32m━━━━━━━━━━━━━━━━━━━━\u001b[0m\u001b[37m\u001b[0m \u001b[1m0s\u001b[0m 1ms/step - accuracy: 1.0000 - loss: 7.3561e-04 - val_accuracy: 0.9950 - val_loss: 0.0406\n",
      "Epoch 96/100\n",
      "\u001b[1m100/100\u001b[0m \u001b[32m━━━━━━━━━━━━━━━━━━━━\u001b[0m\u001b[37m\u001b[0m \u001b[1m0s\u001b[0m 1ms/step - accuracy: 0.9990 - loss: 8.1113e-04 - val_accuracy: 0.9950 - val_loss: 0.0409\n",
      "Epoch 97/100\n",
      "\u001b[1m100/100\u001b[0m \u001b[32m━━━━━━━━━━━━━━━━━━━━\u001b[0m\u001b[37m\u001b[0m \u001b[1m0s\u001b[0m 1ms/step - accuracy: 0.9990 - loss: 8.6150e-04 - val_accuracy: 0.9950 - val_loss: 0.0399\n",
      "Epoch 98/100\n",
      "\u001b[1m100/100\u001b[0m \u001b[32m━━━━━━━━━━━━━━━━━━━━\u001b[0m\u001b[37m\u001b[0m \u001b[1m0s\u001b[0m 1ms/step - accuracy: 1.0000 - loss: 7.2853e-04 - val_accuracy: 0.9950 - val_loss: 0.0402\n",
      "Epoch 99/100\n",
      "\u001b[1m100/100\u001b[0m \u001b[32m━━━━━━━━━━━━━━━━━━━━\u001b[0m\u001b[37m\u001b[0m \u001b[1m0s\u001b[0m 1ms/step - accuracy: 1.0000 - loss: 7.0610e-04 - val_accuracy: 0.9950 - val_loss: 0.0406\n",
      "Epoch 100/100\n",
      "\u001b[1m100/100\u001b[0m \u001b[32m━━━━━━━━━━━━━━━━━━━━\u001b[0m\u001b[37m\u001b[0m \u001b[1m0s\u001b[0m 1ms/step - accuracy: 1.0000 - loss: 6.9535e-04 - val_accuracy: 0.9950 - val_loss: 0.0404\n"
     ]
    }
   ],
   "source": [
    "# Fitting the model and setting it to history\n",
    "history = model.fit(X_train,\n",
    "                   y_train,\n",
    "                   epochs=100,\n",
    "                   batch_size=32,\n",
    "                   validation_split=0.2)"
   ]
  },
  {
   "cell_type": "markdown",
   "id": "2a90810a-544b-4ae7-9fcb-53cf85c9a446",
   "metadata": {},
   "source": [
    "### The training and loss curves are plotted to check for overfitting and if early stopping should be applied."
   ]
  },
  {
   "cell_type": "code",
   "execution_count": 268,
   "id": "f89b2ac0-84e3-4d93-9d3c-22f34301c1fe",
   "metadata": {},
   "outputs": [
    {
     "data": {
      "text/plain": [
       "dict_keys(['accuracy', 'loss', 'val_accuracy', 'val_loss'])"
      ]
     },
     "execution_count": 268,
     "metadata": {},
     "output_type": "execute_result"
    }
   ],
   "source": [
    "# Check to verify which keys were tracked while the neural network as solved\n",
    "history_dict = history.history\n",
    "history_dict.keys()"
   ]
  },
  {
   "cell_type": "code",
   "execution_count": 269,
   "id": "b07c4e99-1eb7-42ff-bafa-9cfd1e1a5f90",
   "metadata": {},
   "outputs": [
    {
     "data": {
      "image/png": "[encoded data removed]",
      "text/plain": [
       "<Figure size 640x480 with 1 Axes>"
      ]
     },
     "metadata": {},
     "output_type": "display_data"
    }
   ],
   "source": [
    "# loss values from the history_dict \n",
    "loss_values = history_dict[\"loss\"]\n",
    "val_loss_values = history_dict[\"val_loss\"]\n",
    "epochs = range(1, len(loss_values) + 1)\n",
    "# Plot epochs vs loss_values\n",
    "plt.plot(epochs, loss_values, \"bo\", label=\"Training Loss\")\n",
    "# Plot epochs vs val_loss_values\n",
    "plt.plot(epochs, val_loss_values, \"b\", label=\"Validation Loss\")\n",
    "# Set plot title, x and y labels, show legend, and plot\n",
    "plt.title(\"Training and Validation Loss\")\n",
    "plt.xlabel(\"Epochs\")\n",
    "plt.ylabel(\"Loss\")\n",
    "plt.legend()\n",
    "plt.show()"
   ]
  },
  {
   "cell_type": "markdown",
   "id": "ee0e9ed2-8012-4198-b786-cb8726891f2f",
   "metadata": {},
   "source": [
    "### Plotting the Accuracy Curve"
   ]
  },
  {
   "cell_type": "code",
   "execution_count": 270,
   "id": "3e1e7905-e157-42da-b242-4330fe7dbaaf",
   "metadata": {},
   "outputs": [
    {
     "data": {
      "image/png": "[encoded data removed]",
      "text/plain": [
       "<Figure size 640x480 with 1 Axes>"
      ]
     },
     "metadata": {},
     "output_type": "display_data"
    }
   ],
   "source": [
    "plt.clf()\n",
    "acc = history_dict[\"accuracy\"]\n",
    "val_acc = history_dict[\"val_accuracy\"]\n",
    "plt.plot(epochs, acc, \"bo\", label=\"Training Acc\")\n",
    "plt.plot(epochs, val_acc, \"b\", label=\"Validation Acc\")\n",
    "plt.title(\"Training and Validation Accuracy\")\n",
    "plt.xlabel(\"Epochs\")\n",
    "plt.ylabel(\"Accuracy\")\n",
    "plt.legend()\n",
    "plt.show()"
   ]
  },
  {
   "cell_type": "markdown",
   "id": "69f09122-b03e-43ef-a383-165b8a7b61f1",
   "metadata": {
    "jp-MarkdownHeadingCollapsed": true
   },
   "source": [
    "### The plots are inspected to see if there is overfitting.\n",
    "#### If we suspect there is overfitting at a specific epoch N, then the model can be reinitialize for that number, N epochs.\n",
    "#### Specifying the number of epochs before overfitting occurs is called early stopping. The test accuracy below can be compared to determine which model is better. "
   ]
  },
  {
   "cell_type": "markdown",
   "id": "38e7090e-872f-4986-83cb-1f43f2dbda07",
   "metadata": {},
   "source": [
    "### Evaluate the Model on the Test Dataset\n",
    "#### model.evaluate is a useful function to calculate the performance of the model on a dataset."
   ]
  },
  {
   "cell_type": "code",
   "execution_count": 271,
   "id": "0db8e151-a466-4564-809d-6fa028231daa",
   "metadata": {},
   "outputs": [
    {
     "name": "stdout",
     "output_type": "stream",
     "text": [
      "\u001b[1m32/32\u001b[0m \u001b[32m━━━━━━━━━━━━━━━━━━━━\u001b[0m\u001b[37m\u001b[0m \u001b[1m0s\u001b[0m 686us/step - accuracy: 0.9893 - loss: 0.0798   \n"
     ]
    }
   ],
   "source": [
    "# Get the results of the model:\n",
    "score, acc = model.evaluate(X_test, y_test)"
   ]
  },
  {
   "cell_type": "markdown",
   "id": "d28e53a9-77b6-49fc-bbb5-d6e992e07e65",
   "metadata": {},
   "source": [
    "### Compare the Accuracy to a Baseline Model (simple) to Assess Accuracy Value."
   ]
  },
  {
   "cell_type": "code",
   "execution_count": 272,
   "id": "86885b5a-24fa-40d4-83e3-cea580430159",
   "metadata": {},
   "outputs": [
    {
     "data": {
      "text/plain": [
       "Target\n",
       "1.0    0.584034\n",
       "0.0    0.415966\n",
       "Name: proportion, dtype: float64"
      ]
     },
     "execution_count": 272,
     "metadata": {},
     "output_type": "execute_result"
    }
   ],
   "source": [
    "# The percentages of each 1 and 0 in a simple baseline model of just always predicting 0. \n",
    "y.value_counts(normalize=True)"
   ]
  },
  {
   "cell_type": "markdown",
   "id": "e962d802-a4cb-46ab-bb4c-a9c9190103ca",
   "metadata": {},
   "source": [
    "### If 0 is predicted for every point, the baseline model accuracy is 41%.\n",
    "### The accuracy is 58% if we always predict 1 for a baseline model.\n",
    "### The neural network accuracy is 98.9% with 100 epochs."
   ]
  },
  {
   "cell_type": "code",
   "execution_count": null,
   "id": "d1902ee6-215f-4ca8-890b-4e6f57d6fe6b",
   "metadata": {},
   "outputs": [],
   "source": []
  }
 ],
 "metadata": {
  "kernelspec": {
   "display_name": "Python 3 (ipykernel)",
   "language": "python",
   "name": "python3"
  },
  "language_info": {
   "codemirror_mode": {
    "name": "ipython",
    "version": 3
   },
   "file_extension": ".py",
   "mimetype": "text/x-python",
   "name": "python",
   "nbconvert_exporter": "python",
   "pygments_lexer": "ipython3",
   "version": "3.12.4"
  }
 },
 "nbformat": 4,
 "nbformat_minor": 5
}
