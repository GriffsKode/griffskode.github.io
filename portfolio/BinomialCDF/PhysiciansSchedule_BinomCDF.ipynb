{
  "cells": [
    {
      "cell_type": "markdown",
      "metadata": {
        "id": "view-in-github",
        "colab_type": "text"
      },
      "source": [
        "<a href=\"https://colab.research.google.com/github/GriffsKode/griffskode.github.io/blob/main/portfolio/BinomialCDF/PhysiciansSchedule_BinomCDF.ipynb\" target=\"_parent\"><img src=\"https://colab.research.google.com/assets/colab-badge.svg\" alt=\"Open In Colab\"/></a>"
      ]
    },
    {
      "cell_type": "markdown",
      "metadata": {
        "deletable": false,
        "editable": false,
        "nbgrader": {
          "checksum": "3b981f5178f341eeef56632f4bf5e81d",
          "grade": false,
          "grade_id": "cell-ab01b87b3834108c",
          "locked": true,
          "schema_version": 1,
          "solution": false
        },
        "id": "UHspQjzI6JJn"
      },
      "source": [
        "###### This example considers a physician who's workload is 30 patients per day. It is estimated that 25% of patients fail to show up to their appointments leading to loss of revenue for the physician.\n",
        "###### This example calculates the ideal number of patient to schedule per day.\n",
        "The first cell imports libraries, and defines variables to simply calculate the number  of appointments that should be scheduled if only 75% of scheduled patients show up."
      ],
      "id": "UHspQjzI6JJn"
    },
    {
      "cell_type": "code",
      "execution_count": 12,
      "metadata": {
        "deletable": false,
        "nbgrader": {
          "checksum": "0ad0195e9f00ea1f0feba8eb791153a1",
          "grade": false,
          "grade_id": "cell-1848702d6b2be72b",
          "locked": false,
          "schema_version": 1,
          "solution": true
        },
        "colab": {
          "base_uri": "https://localhost:8080/"
        },
        "id": "8Xvy9eXQ6JJs",
        "outputId": "3219a566-3f13-435b-868b-c38ab8a73008"
      },
      "outputs": [
        {
          "output_type": "stream",
          "name": "stdout",
          "text": [
            "40.0 is the number of patients that should be scheduled (linear approach) assuming only 75% of patients will show up.\n"
          ]
        }
      ],
      "source": [
        "# import libraries scipy, stats, and binomial distribution\n",
        "import scipy\n",
        "from scipy.stats import binom\n",
        "import matplotlib.pyplot as plt\n",
        "\n",
        "# Set 'workload' to the maximum number of patients per day\n",
        "workload = 30\n",
        "\n",
        "# Set 'prob' as the percentage of patients that show up\n",
        "prob = 0.75\n",
        "\n",
        "# Set 'x' as the answer for max num of patients per day dividied by the probability\n",
        "x = workload / prob\n",
        "print(x, \"is the number of patients that should be scheduled (linear approach) assuming only 75% of patients will show up.\")"
      ],
      "id": "8Xvy9eXQ6JJs"
    },
    {
      "cell_type": "markdown",
      "metadata": {
        "deletable": false,
        "editable": false,
        "nbgrader": {
          "checksum": "4514baef0f968a216559b205aa61a1a1",
          "grade": false,
          "grade_id": "cell-f9ff7f87431d0673",
          "locked": true,
          "schema_version": 1,
          "solution": false
        },
        "id": "FYanvEyJ6JJu"
      },
      "source": [
        "###### A binomial distribution model uses historical data to assume 25% of patients do not show up for their appointments.\n",
        "\n",
        "###### We will calculate the probability density function (binom.pmf()) similiar to a Cumulative Density Function a normal distribution. The pmf function creates a vector of pmf values.\n",
        "\n",
        "###### We will plot the distribution of the calculated value we found for 'x' in the previous cell."
      ],
      "id": "FYanvEyJ6JJu"
    },
    {
      "cell_type": "markdown",
      "source": [],
      "metadata": {
        "id": "npOCtA-eKwTg"
      },
      "id": "npOCtA-eKwTg"
    },
    {
      "cell_type": "code",
      "execution_count": 13,
      "metadata": {
        "deletable": false,
        "nbgrader": {
          "checksum": "e403f32c166457605a80bd2cb46d4782",
          "grade": false,
          "grade_id": "cell-c7400fcce703e925",
          "locked": false,
          "schema_version": 1,
          "solution": true
        },
        "colab": {
          "base_uri": "https://localhost:8080/",
          "height": 472
        },
        "id": "7Ubw-vyP6JJv",
        "outputId": "28178dbe-e54d-4f1d-9430-f8d4fddf1960"
      },
      "outputs": [
        {
          "output_type": "display_data",
          "data": {
            "text/plain": [
              "<Figure size 640x480 with 1 Axes>"
            ],
            "image/png": "[encoded data removed]"
          },
          "metadata": {}
        }
      ],
      "source": [
        "# Set the values of x and prob from cells above\n",
        "x = 40\n",
        "prob = 0.75\n",
        "\n",
        "# Define a list of r values in the range of x+1\n",
        "r_values = list(range(x + 1))\n",
        "\n",
        "# Generate a binomial distribution (dist) using the generate the \"dist\" variable by calling the binom.pmf() function. This creates a list of pmf values\n",
        "dist = binom.pmf(r_values, x, prob)\n",
        "\n",
        "# Add title and axis names\n",
        "plt.title('R-Values vs Binomial distribution')\n",
        "plt.xlabel('r-values')\n",
        "plt.ylabel('binomial distribution')\n",
        "\n",
        "# Plot the binomial distribution with the r_values (x-axis) and dist (y-axis)\n",
        "plots = plt.bar(r_values, dist)\n",
        "xy = []\n",
        "for plot in plots:\n",
        "    xy.append(plot.get_xy())\n",
        "plt.show()"
      ],
      "id": "7Ubw-vyP6JJv"
    },
    {
      "cell_type": "code",
      "execution_count": 14,
      "metadata": {
        "deletable": false,
        "nbgrader": {
          "checksum": "e0e84a67c278a768118601018fe32894",
          "grade": false,
          "grade_id": "cell-9ffb9d53c5071194",
          "locked": false,
          "schema_version": 1,
          "solution": true
        },
        "colab": {
          "base_uri": "https://localhost:8080/"
        },
        "id": "UxbTUtC16JJx",
        "outputId": "9226f79b-b949-4ddf-c7e0-0c98c5fcea36"
      },
      "outputs": [
        {
          "output_type": "stream",
          "name": "stdout",
          "text": [
            "The cumulative distribution function calculates that 0.4395 % of the time the the physician will be overbooked given the inputs above.\n"
          ]
        }
      ],
      "source": [
        "# We will now set the linear prediction, workload, and probability to use the Cumulative distribution function to calculate the percentage of the time that\n",
        "# the physician will be overbooked.\n",
        "linearPrediction = 40\n",
        "workload = 30\n",
        "prob = 0.75\n",
        "\n",
        "# We can calculate the percent of the time that the physician is overbooked by calculating 1-(D cdf()).\n",
        "# Set the output to overworked variable\n",
        "overworked = round((1 - binom.cdf(k = workload, n = linearPrediction, p = prob)), 4)\n",
        "print('The cumulative distribution function calculates that',overworked,'% of the time the the physician will be overbooked given the inputs above.')"
      ],
      "id": "UxbTUtC16JJx"
    },
    {
      "cell_type": "markdown",
      "metadata": {
        "deletable": false,
        "editable": false,
        "nbgrader": {
          "checksum": "65e345b6920e46aa37f5ddcb247fbcfe",
          "grade": false,
          "grade_id": "cell-5f3773a408ebc547",
          "locked": true,
          "schema_version": 1,
          "solution": false
        },
        "id": "iyqaVJCc6JJx"
      },
      "source": [
        "###### The binomial ppf() function can be used to caclulate the number of appointments the physician should schedule if they want to limit the risk of having more than 30 appointments per day to 5%. Percent point function (ppf) is the inverse of cdf — percentiles"
      ],
      "id": "iyqaVJCc6JJx"
    },
    {
      "cell_type": "code",
      "execution_count": 15,
      "metadata": {
        "deletable": false,
        "nbgrader": {
          "checksum": "02a561e630d2c79d8a79cc6edbbe3b2d",
          "grade": false,
          "grade_id": "cell-a7e4987d4d4bb2ef",
          "locked": false,
          "schema_version": 1,
          "solution": true
        },
        "colab": {
          "base_uri": "https://localhost:8080/"
        },
        "id": "EC-0wEiM6JJy",
        "outputId": "a7222c8a-1686-46ef-9c87-e93142826a15"
      },
      "outputs": [
        {
          "output_type": "stream",
          "name": "stdout",
          "text": [
            "34.0 appointments can be scheduled to limit the risk of having more than 30 appointments per day.\n"
          ]
        }
      ],
      "source": [
        "# Set workload to 30 apppointments per day and estimated 25% of appointments may cancel\n",
        "workload =30\n",
        "prob = 0.75\n",
        "\n",
        "# Target number of overbooked patients\n",
        "target = 0.05\n",
        "\n",
        "# Set \"total\" = workload + ppf() -- hint: p = 1-prob\n",
        "p = 1-prob\n",
        "total = workload + binom.ppf(q = target ,n = workload ,p= 1 - prob,loc=0)\n",
        "print(total, \"appointments can be scheduled to limit the risk of having more than\", workload, \"appointments per day.\")"
      ],
      "id": "EC-0wEiM6JJy"
    }
  ],
  "metadata": {
    "kernelspec": {
      "display_name": "Python 3",
      "language": "python",
      "name": "python3"
    },
    "language_info": {
      "codemirror_mode": {
        "name": "ipython",
        "version": 3
      },
      "file_extension": ".py",
      "mimetype": "text/x-python",
      "name": "python",
      "nbconvert_exporter": "python",
      "pygments_lexer": "ipython3",
      "version": "3.6.9"
    },
    "colab": {
      "provenance": [],
      "include_colab_link": true
    }
  },
  "nbformat": 4,
  "nbformat_minor": 5
}