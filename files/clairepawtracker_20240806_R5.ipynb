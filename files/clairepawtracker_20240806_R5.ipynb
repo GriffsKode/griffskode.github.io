{
 "cells": [
  {
   "cell_type": "code",
   "execution_count": 43,
   "id": "90a1c6fe-e0f1-4e11-8033-3bef26a39c25",
   "metadata": {},
   "outputs": [],
   "source": [
    "#### Claire's PAW tracker is meant to be an education tool to provide an anlaysis of a dog's breathing rate per minute. \n",
    "# Monitoring breathing rate per minute is important for dogs with cardiac issues.\n",
    "# Seek advise from a qualified vet for advice.\n",
    "\n",
    "# Import libraries\n",
    "import pandas as pd\n",
    "import seaborn as sns\n",
    "import matplotlib.pyplot as plt\n",
    "import matplotlib.dates as mdates\n",
    "import statsmodels.api as sm\n",
    "from statsmodels.formula.api import ols"
   ]
  },
  {
   "cell_type": "code",
   "execution_count": 44,
   "id": "05a4318d-4aee-4d0e-930e-f84d6784e2f7",
   "metadata": {},
   "outputs": [
    {
     "data": {
      "text/html": [
       "<div>\n",
       "<style scoped>\n",
       "    .dataframe tbody tr th:only-of-type {\n",
       "        vertical-align: middle;\n",
       "    }\n",
       "\n",
       "    .dataframe tbody tr th {\n",
       "        vertical-align: top;\n",
       "    }\n",
       "\n",
       "    .dataframe thead th {\n",
       "        text-align: right;\n",
       "    }\n",
       "</style>\n",
       "<table border=\"1\" class=\"dataframe\">\n",
       "  <thead>\n",
       "    <tr style=\"text-align: right;\">\n",
       "      <th></th>\n",
       "      <th>date_time</th>\n",
       "      <th>date</th>\n",
       "      <th>time</th>\n",
       "      <th>breaths_per_minute</th>\n",
       "      <th>furosemide_dose</th>\n",
       "      <th>vetmedin_dose</th>\n",
       "      <th>enalapril_dose</th>\n",
       "    </tr>\n",
       "  </thead>\n",
       "  <tbody>\n",
       "    <tr>\n",
       "      <th>0</th>\n",
       "      <td>2/24/2024 15:50</td>\n",
       "      <td>2/24/2024</td>\n",
       "      <td>15:50</td>\n",
       "      <td>23.0</td>\n",
       "      <td>0.7</td>\n",
       "      <td>1.25</td>\n",
       "      <td>1.25</td>\n",
       "    </tr>\n",
       "    <tr>\n",
       "      <th>1</th>\n",
       "      <td>2/24/2024 15:52</td>\n",
       "      <td>2/24/2024</td>\n",
       "      <td>15:52</td>\n",
       "      <td>22.0</td>\n",
       "      <td>0.7</td>\n",
       "      <td>1.25</td>\n",
       "      <td>1.25</td>\n",
       "    </tr>\n",
       "    <tr>\n",
       "      <th>2</th>\n",
       "      <td>2/24/2024 21:34</td>\n",
       "      <td>2/24/2024</td>\n",
       "      <td>21:34</td>\n",
       "      <td>12.0</td>\n",
       "      <td>0.7</td>\n",
       "      <td>1.25</td>\n",
       "      <td>1.25</td>\n",
       "    </tr>\n",
       "    <tr>\n",
       "      <th>3</th>\n",
       "      <td>2/24/2024 21:36</td>\n",
       "      <td>2/24/2024</td>\n",
       "      <td>21:36</td>\n",
       "      <td>12.0</td>\n",
       "      <td>0.7</td>\n",
       "      <td>1.25</td>\n",
       "      <td>1.25</td>\n",
       "    </tr>\n",
       "    <tr>\n",
       "      <th>4</th>\n",
       "      <td>2/25/2024 13:13</td>\n",
       "      <td>2/25/2024</td>\n",
       "      <td>13:13</td>\n",
       "      <td>14.0</td>\n",
       "      <td>0.7</td>\n",
       "      <td>1.25</td>\n",
       "      <td>1.25</td>\n",
       "    </tr>\n",
       "  </tbody>\n",
       "</table>\n",
       "</div>"
      ],
      "text/plain": [
       "         date_time       date   time  breaths_per_minute  furosemide_dose  \\\n",
       "0  2/24/2024 15:50  2/24/2024  15:50                23.0              0.7   \n",
       "1  2/24/2024 15:52  2/24/2024  15:52                22.0              0.7   \n",
       "2  2/24/2024 21:34  2/24/2024  21:34                12.0              0.7   \n",
       "3  2/24/2024 21:36  2/24/2024  21:36                12.0              0.7   \n",
       "4  2/25/2024 13:13  2/25/2024  13:13                14.0              0.7   \n",
       "\n",
       "   vetmedin_dose  enalapril_dose  \n",
       "0           1.25            1.25  \n",
       "1           1.25            1.25  \n",
       "2           1.25            1.25  \n",
       "3           1.25            1.25  \n",
       "4           1.25            1.25  "
      ]
     },
     "execution_count": 44,
     "metadata": {},
     "output_type": "execute_result"
    }
   ],
   "source": [
    "# Import csv into pandas dataframe\n",
    "# df = pd.read_csv('breathingdata.csv', sep=',')\n",
    "# Import the dataset breathingdata.csv into pandas dataframe, \"df\"\n",
    "url = \"https://raw.githubusercontent.com/GriffsKode/griffskode.github.io/main/files/breathingdata.csv\"\n",
    "df = pd.read_csv(url, sep=\",\")\n",
    "\n",
    "#Print first five lines of the imported csv file to ensure data was imported correctly\n",
    "df.head(5)"
   ]
  },
  {
   "cell_type": "code",
   "execution_count": 45,
   "id": "4a6b5701-ed99-475f-8301-38f2c5f70428",
   "metadata": {},
   "outputs": [
    {
     "data": {
      "text/html": [
       "<div>\n",
       "<style scoped>\n",
       "    .dataframe tbody tr th:only-of-type {\n",
       "        vertical-align: middle;\n",
       "    }\n",
       "\n",
       "    .dataframe tbody tr th {\n",
       "        vertical-align: top;\n",
       "    }\n",
       "\n",
       "    .dataframe thead th {\n",
       "        text-align: right;\n",
       "    }\n",
       "</style>\n",
       "<table border=\"1\" class=\"dataframe\">\n",
       "  <thead>\n",
       "    <tr style=\"text-align: right;\">\n",
       "      <th></th>\n",
       "      <th>date_time</th>\n",
       "      <th>date</th>\n",
       "      <th>time</th>\n",
       "      <th>breaths_per_minute</th>\n",
       "      <th>furosemide_dose</th>\n",
       "      <th>vetmedin_dose</th>\n",
       "      <th>enalapril_dose</th>\n",
       "    </tr>\n",
       "  </thead>\n",
       "  <tbody>\n",
       "    <tr>\n",
       "      <th>159</th>\n",
       "      <td>8/3/2024 7:59</td>\n",
       "      <td>8/3/2024</td>\n",
       "      <td>7:59 AM</td>\n",
       "      <td>13.0</td>\n",
       "      <td>0.8</td>\n",
       "      <td>1.25</td>\n",
       "      <td>1.25</td>\n",
       "    </tr>\n",
       "    <tr>\n",
       "      <th>160</th>\n",
       "      <td>8/3/2024 8:01</td>\n",
       "      <td>8/3/2024</td>\n",
       "      <td>8:01 AM</td>\n",
       "      <td>13.0</td>\n",
       "      <td>0.8</td>\n",
       "      <td>1.25</td>\n",
       "      <td>1.25</td>\n",
       "    </tr>\n",
       "    <tr>\n",
       "      <th>161</th>\n",
       "      <td>8/5/2024 21:12</td>\n",
       "      <td>8/5/2024</td>\n",
       "      <td>9:12 PM</td>\n",
       "      <td>15.0</td>\n",
       "      <td>0.8</td>\n",
       "      <td>1.25</td>\n",
       "      <td>1.25</td>\n",
       "    </tr>\n",
       "    <tr>\n",
       "      <th>162</th>\n",
       "      <td>8/5/2024 21:14</td>\n",
       "      <td>8/5/2024</td>\n",
       "      <td>9:14 PM</td>\n",
       "      <td>15.0</td>\n",
       "      <td>0.8</td>\n",
       "      <td>1.25</td>\n",
       "      <td>1.25</td>\n",
       "    </tr>\n",
       "    <tr>\n",
       "      <th>163</th>\n",
       "      <td>8/6/2024 8:01</td>\n",
       "      <td>8/6/2024</td>\n",
       "      <td>8:01 AM</td>\n",
       "      <td>13.0</td>\n",
       "      <td>0.8</td>\n",
       "      <td>1.25</td>\n",
       "      <td>1.25</td>\n",
       "    </tr>\n",
       "  </tbody>\n",
       "</table>\n",
       "</div>"
      ],
      "text/plain": [
       "          date_time      date     time  breaths_per_minute  furosemide_dose  \\\n",
       "159   8/3/2024 7:59  8/3/2024  7:59 AM                13.0              0.8   \n",
       "160   8/3/2024 8:01  8/3/2024  8:01 AM                13.0              0.8   \n",
       "161  8/5/2024 21:12  8/5/2024  9:12 PM                15.0              0.8   \n",
       "162  8/5/2024 21:14  8/5/2024  9:14 PM                15.0              0.8   \n",
       "163   8/6/2024 8:01  8/6/2024  8:01 AM                13.0              0.8   \n",
       "\n",
       "     vetmedin_dose  enalapril_dose  \n",
       "159           1.25            1.25  \n",
       "160           1.25            1.25  \n",
       "161           1.25            1.25  \n",
       "162           1.25            1.25  \n",
       "163           1.25            1.25  "
      ]
     },
     "execution_count": 45,
     "metadata": {},
     "output_type": "execute_result"
    }
   ],
   "source": [
    "# Print last five lines of the imported csv file to ensure all data was imported\n",
    "df.tail(5)"
   ]
  },
  {
   "cell_type": "code",
   "execution_count": 46,
   "id": "7264cb01-a862-4345-bfb7-a822df607176",
   "metadata": {},
   "outputs": [
    {
     "name": "stdout",
     "output_type": "stream",
     "text": [
      "       breaths_per_minute  furosemide_dose  vetmedin_dose  enalapril_dose\n",
      "count              151.00           163.00         164.00          164.00\n",
      "mean                16.14             0.69           1.25            1.25\n",
      "std                  3.96             0.13           0.00            0.00\n",
      "min                  9.00             0.50           1.25            1.25\n",
      "25%                 13.00             0.56           1.25            1.25\n",
      "50%                 15.00             0.80           1.25            1.25\n",
      "75%                 19.00             0.80           1.25            1.25\n",
      "max                 31.00             0.80           1.25            1.25\n"
     ]
    }
   ],
   "source": [
    "# Pandas dataframe describe function to better understand the data. \n",
    "summary = df.describe()\n",
    "formatted_summary = summary.round(2)\n",
    "print(formatted_summary)"
   ]
  },
  {
   "cell_type": "code",
   "execution_count": 47,
   "id": "85793158-d2dd-48bb-967e-94a94533591d",
   "metadata": {},
   "outputs": [
    {
     "data": {
      "image/png": "[encoded data removed]",
      "text/plain": [
       "<Figure size 1000x400 with 1 Axes>"
      ]
     },
     "metadata": {},
     "output_type": "display_data"
    }
   ],
   "source": [
    "# Create an x date dataframe, y breaths per minute data frame. Combine both into the variable data. \n",
    "x = df['date']\n",
    "y = df['breaths_per_minute']\n",
    "data = pd.DataFrame({'Date': x, 'Breaths per Minute': y})\n",
    "\n",
    "# Create scatter plot\n",
    "plt.figure(figsize=(10, 4))\n",
    "sns.scatterplot(x='Date', y='Breaths per Minute', data=data)\n",
    "\n",
    "# Format x-axis labels\n",
    "plt.xticks(rotation=90, ha='right')\n",
    "# Set y-axis range\n",
    "plt.ylim(0, 40)\n",
    "\n",
    "# Add title and labels\n",
    "plt.title('Claires Breaths per Minute Observations')\n",
    "plt.xlabel('Date')\n",
    "plt.ylabel('Breaths per Minute')\n",
    "\n",
    "plt.tight_layout()\n",
    "plt.show()"
   ]
  },
  {
   "cell_type": "code",
   "execution_count": 48,
   "id": "2ee24576-8315-4422-b37c-4271d46808db",
   "metadata": {},
   "outputs": [
    {
     "data": {
      "text/plain": [
       "Text(0, 0.5, 'Number of Data Points')"
      ]
     },
     "execution_count": 48,
     "metadata": {},
     "output_type": "execute_result"
    },
    {
     "data": {
      "image/png": "[encoded data removed]",
      "text/plain": [
       "<Figure size 640x480 with 1 Axes>"
      ]
     },
     "metadata": {},
     "output_type": "display_data"
    }
   ],
   "source": [
    "plt.hist(df['breaths_per_minute'], bins = range(0,50,2))\n",
    "plt.title('Breathing Data')\n",
    "plt.xlabel('Breaths Per Minute')\n",
    "plt.ylabel('Number of Data Points')"
   ]
  },
  {
   "cell_type": "code",
   "execution_count": 49,
   "id": "da5c3c8d-4e37-42ee-a6c5-ccda1155b4e0",
   "metadata": {
    "scrolled": true
   },
   "outputs": [
    {
     "name": "stdout",
     "output_type": "stream",
     "text": [
      "                            OLS Regression Results                            \n",
      "==============================================================================\n",
      "Dep. Variable:     breaths_per_minute   R-squared:                       0.036\n",
      "Model:                            OLS   Adj. R-squared:                  0.029\n",
      "Method:                 Least Squares   F-statistic:                     5.468\n",
      "Date:                Tue, 06 Aug 2024   Prob (F-statistic):             0.0207\n",
      "Time:                        21:46:43   Log-Likelihood:                -416.42\n",
      "No. Observations:                 150   AIC:                             836.8\n",
      "Df Residuals:                     148   BIC:                             842.9\n",
      "Df Model:                           1                                         \n",
      "Covariance Type:            nonrobust                                         \n",
      "===================================================================================\n",
      "                      coef    std err          t      P>|t|      [0.025      0.975]\n",
      "-----------------------------------------------------------------------------------\n",
      "Intercept          20.3720      1.846     11.035      0.000      16.724      24.020\n",
      "furosemide_dose    -6.0306      2.579     -2.338      0.021     -11.127      -0.934\n",
      "==============================================================================\n",
      "Omnibus:                       24.629   Durbin-Watson:                   0.874\n",
      "Prob(Omnibus):                  0.000   Jarque-Bera (JB):               33.300\n",
      "Skew:                           0.928   Prob(JB):                     5.88e-08\n",
      "Kurtosis:                       4.372   Cond. No.                         12.1\n",
      "==============================================================================\n",
      "\n",
      "Notes:\n",
      "[1] Standard Errors assume that the covariance matrix of the errors is correctly specified.\n"
     ]
    }
   ],
   "source": [
    "# OLS Regression to determine if the furosemide_dose has a correlation with breaths per minute.\n",
    "# P>|t| value should be greater than 0.05 to be significant. \n",
    "est = ols(formula=\"breaths_per_minute ~ furosemide_dose\", data=df).fit()\n",
    "print(est.summary())"
   ]
  },
  {
   "cell_type": "code",
   "execution_count": 50,
   "id": "5f012905-f57d-4e89-9bb6-3e91bd9e8910",
   "metadata": {},
   "outputs": [
    {
     "name": "stdout",
     "output_type": "stream",
     "text": [
      "           date_time       date     time  breaths_per_minute  furosemide_dose  \\\n",
      "0    2/24/2024 15:50  2/24/2024    15:50                23.0              0.7   \n",
      "1    2/24/2024 15:52  2/24/2024    15:52                22.0              0.7   \n",
      "2    2/24/2024 21:34  2/24/2024    21:34                12.0              0.7   \n",
      "3    2/24/2024 21:36  2/24/2024    21:36                12.0              0.7   \n",
      "4    2/25/2024 13:13  2/25/2024    13:13                14.0              0.7   \n",
      "..               ...        ...      ...                 ...              ...   \n",
      "159    8/3/2024 7:59   8/3/2024  7:59 AM                13.0              0.8   \n",
      "160    8/3/2024 8:01   8/3/2024  8:01 AM                13.0              0.8   \n",
      "161   8/5/2024 21:12   8/5/2024  9:12 PM                15.0              0.8   \n",
      "162   8/5/2024 21:14   8/5/2024  9:14 PM                15.0              0.8   \n",
      "163    8/6/2024 8:01   8/6/2024  8:01 AM                13.0              0.8   \n",
      "\n",
      "     vetmedin_dose  enalapril_dose  \n",
      "0             1.25            1.25  \n",
      "1             1.25            1.25  \n",
      "2             1.25            1.25  \n",
      "3             1.25            1.25  \n",
      "4             1.25            1.25  \n",
      "..             ...             ...  \n",
      "159           1.25            1.25  \n",
      "160           1.25            1.25  \n",
      "161           1.25            1.25  \n",
      "162           1.25            1.25  \n",
      "163           1.25            1.25  \n",
      "\n",
      "[164 rows x 7 columns]\n"
     ]
    }
   ],
   "source": [
    "print(df)"
   ]
  },
  {
   "cell_type": "code",
   "execution_count": null,
   "id": "3255c204-7608-4109-9a0d-196b01bec433",
   "metadata": {},
   "outputs": [],
   "source": []
  }
 ],
 "metadata": {
  "kernelspec": {
   "display_name": "Python 3 (ipykernel)",
   "language": "python",
   "name": "python3"
  },
  "language_info": {
   "codemirror_mode": {
    "name": "ipython",
    "version": 3
   },
   "file_extension": ".py",
   "mimetype": "text/x-python",
   "name": "python",
   "nbconvert_exporter": "python",
   "pygments_lexer": "ipython3",
   "version": "3.12.4"
  }
 },
 "nbformat": 4,
 "nbformat_minor": 5
}
