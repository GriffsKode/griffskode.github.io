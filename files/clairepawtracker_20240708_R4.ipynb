{
 "cells": [
  {
   "cell_type": "code",
   "execution_count": 28,
   "id": "90a1c6fe-e0f1-4e11-8033-3bef26a39c25",
   "metadata": {},
   "outputs": [],
   "source": [
    "#Dog breathing rates per minute simple analysis. This tool is only used for educational uses. Seek advise from a qualified vet for advice.\n",
    "#import libraries\n",
    "import pandas as pd\n",
    "import seaborn as sns\n",
    "import matplotlib.pyplot as plt\n",
    "import matplotlib.dates as mdates\n",
    "import statsmodels.api as sm\n",
    "from statsmodels.formula.api import ols\n",
    "\n"
   ]
  },
  {
   "cell_type": "code",
   "execution_count": 29,
   "id": "05a4318d-4aee-4d0e-930e-f84d6784e2f7",
   "metadata": {},
   "outputs": [
    {
     "data": {
      "text/html": [
       "<div>\n",
       "<style scoped>\n",
       "    .dataframe tbody tr th:only-of-type {\n",
       "        vertical-align: middle;\n",
       "    }\n",
       "\n",
       "    .dataframe tbody tr th {\n",
       "        vertical-align: top;\n",
       "    }\n",
       "\n",
       "    .dataframe thead th {\n",
       "        text-align: right;\n",
       "    }\n",
       "</style>\n",
       "<table border=\"1\" class=\"dataframe\">\n",
       "  <thead>\n",
       "    <tr style=\"text-align: right;\">\n",
       "      <th></th>\n",
       "      <th>date_time</th>\n",
       "      <th>date</th>\n",
       "      <th>time</th>\n",
       "      <th>breaths_per_minute</th>\n",
       "      <th>furosemide_dose</th>\n",
       "      <th>vetmedin_dose</th>\n",
       "      <th>enalapril_dose</th>\n",
       "    </tr>\n",
       "  </thead>\n",
       "  <tbody>\n",
       "    <tr>\n",
       "      <th>0</th>\n",
       "      <td>2/24/2024 15:50</td>\n",
       "      <td>2/24/2024</td>\n",
       "      <td>15:50</td>\n",
       "      <td>23.0</td>\n",
       "      <td>0.7</td>\n",
       "      <td>1.25</td>\n",
       "      <td>1.25</td>\n",
       "    </tr>\n",
       "    <tr>\n",
       "      <th>1</th>\n",
       "      <td>2/24/2024 15:52</td>\n",
       "      <td>2/24/2024</td>\n",
       "      <td>15:52</td>\n",
       "      <td>22.0</td>\n",
       "      <td>0.7</td>\n",
       "      <td>1.25</td>\n",
       "      <td>1.25</td>\n",
       "    </tr>\n",
       "    <tr>\n",
       "      <th>2</th>\n",
       "      <td>2/24/2024 21:34</td>\n",
       "      <td>2/24/2024</td>\n",
       "      <td>21:34</td>\n",
       "      <td>12.0</td>\n",
       "      <td>0.7</td>\n",
       "      <td>1.25</td>\n",
       "      <td>1.25</td>\n",
       "    </tr>\n",
       "    <tr>\n",
       "      <th>3</th>\n",
       "      <td>2/24/2024 21:36</td>\n",
       "      <td>2/24/2024</td>\n",
       "      <td>21:36</td>\n",
       "      <td>12.0</td>\n",
       "      <td>0.7</td>\n",
       "      <td>1.25</td>\n",
       "      <td>1.25</td>\n",
       "    </tr>\n",
       "    <tr>\n",
       "      <th>4</th>\n",
       "      <td>2/25/2024 13:13</td>\n",
       "      <td>2/25/2024</td>\n",
       "      <td>13:13</td>\n",
       "      <td>14.0</td>\n",
       "      <td>0.7</td>\n",
       "      <td>1.25</td>\n",
       "      <td>1.25</td>\n",
       "    </tr>\n",
       "  </tbody>\n",
       "</table>\n",
       "</div>"
      ],
      "text/plain": [
       "         date_time       date   time  breaths_per_minute  furosemide_dose  \\\n",
       "0  2/24/2024 15:50  2/24/2024  15:50                23.0              0.7   \n",
       "1  2/24/2024 15:52  2/24/2024  15:52                22.0              0.7   \n",
       "2  2/24/2024 21:34  2/24/2024  21:34                12.0              0.7   \n",
       "3  2/24/2024 21:36  2/24/2024  21:36                12.0              0.7   \n",
       "4  2/25/2024 13:13  2/25/2024  13:13                14.0              0.7   \n",
       "\n",
       "   vetmedin_dose  enalapril_dose  \n",
       "0           1.25            1.25  \n",
       "1           1.25            1.25  \n",
       "2           1.25            1.25  \n",
       "3           1.25            1.25  \n",
       "4           1.25            1.25  "
      ]
     },
     "execution_count": 29,
     "metadata": {},
     "output_type": "execute_result"
    }
   ],
   "source": [
    "#Import csv into pandas dataframe\n",
    "df = pd.read_csv('breathingdata.csv', sep=',')\n",
    "#Print first five lines of the imported csv file to ensure data was imported correctly\n",
    "df.head(5)"
   ]
  },
  {
   "cell_type": "code",
   "execution_count": 30,
   "id": "4a6b5701-ed99-475f-8301-38f2c5f70428",
   "metadata": {},
   "outputs": [
    {
     "data": {
      "text/html": [
       "<div>\n",
       "<style scoped>\n",
       "    .dataframe tbody tr th:only-of-type {\n",
       "        vertical-align: middle;\n",
       "    }\n",
       "\n",
       "    .dataframe tbody tr th {\n",
       "        vertical-align: top;\n",
       "    }\n",
       "\n",
       "    .dataframe thead th {\n",
       "        text-align: right;\n",
       "    }\n",
       "</style>\n",
       "<table border=\"1\" class=\"dataframe\">\n",
       "  <thead>\n",
       "    <tr style=\"text-align: right;\">\n",
       "      <th></th>\n",
       "      <th>date_time</th>\n",
       "      <th>date</th>\n",
       "      <th>time</th>\n",
       "      <th>breaths_per_minute</th>\n",
       "      <th>furosemide_dose</th>\n",
       "      <th>vetmedin_dose</th>\n",
       "      <th>enalapril_dose</th>\n",
       "    </tr>\n",
       "  </thead>\n",
       "  <tbody>\n",
       "    <tr>\n",
       "      <th>126</th>\n",
       "      <td>7/4/2024 8:15</td>\n",
       "      <td>7/4/2024</td>\n",
       "      <td>8:15 AM</td>\n",
       "      <td>13.0</td>\n",
       "      <td>0.8</td>\n",
       "      <td>1.25</td>\n",
       "      <td>1.25</td>\n",
       "    </tr>\n",
       "    <tr>\n",
       "      <th>127</th>\n",
       "      <td>7/4/2024 11:18</td>\n",
       "      <td>7/4/2024</td>\n",
       "      <td>11:18 AM</td>\n",
       "      <td>13.0</td>\n",
       "      <td>0.8</td>\n",
       "      <td>1.25</td>\n",
       "      <td>1.25</td>\n",
       "    </tr>\n",
       "    <tr>\n",
       "      <th>128</th>\n",
       "      <td>7/5/2024 11:32</td>\n",
       "      <td>7/5/2024</td>\n",
       "      <td>11:32 AM</td>\n",
       "      <td>15.0</td>\n",
       "      <td>0.8</td>\n",
       "      <td>1.25</td>\n",
       "      <td>1.25</td>\n",
       "    </tr>\n",
       "    <tr>\n",
       "      <th>129</th>\n",
       "      <td>7/6/2024 8:12</td>\n",
       "      <td>7/6/2024</td>\n",
       "      <td>8:12 AM</td>\n",
       "      <td>13.0</td>\n",
       "      <td>0.8</td>\n",
       "      <td>1.25</td>\n",
       "      <td>1.25</td>\n",
       "    </tr>\n",
       "    <tr>\n",
       "      <th>130</th>\n",
       "      <td>7/7/2024 23:35</td>\n",
       "      <td>7/7/2024</td>\n",
       "      <td>11:35 PM</td>\n",
       "      <td>9.0</td>\n",
       "      <td>0.8</td>\n",
       "      <td>1.25</td>\n",
       "      <td>1.25</td>\n",
       "    </tr>\n",
       "  </tbody>\n",
       "</table>\n",
       "</div>"
      ],
      "text/plain": [
       "          date_time      date      time  breaths_per_minute  furosemide_dose  \\\n",
       "126   7/4/2024 8:15  7/4/2024   8:15 AM                13.0              0.8   \n",
       "127  7/4/2024 11:18  7/4/2024  11:18 AM                13.0              0.8   \n",
       "128  7/5/2024 11:32  7/5/2024  11:32 AM                15.0              0.8   \n",
       "129   7/6/2024 8:12  7/6/2024   8:12 AM                13.0              0.8   \n",
       "130  7/7/2024 23:35  7/7/2024  11:35 PM                 9.0              0.8   \n",
       "\n",
       "     vetmedin_dose  enalapril_dose  \n",
       "126           1.25            1.25  \n",
       "127           1.25            1.25  \n",
       "128           1.25            1.25  \n",
       "129           1.25            1.25  \n",
       "130           1.25            1.25  "
      ]
     },
     "execution_count": 30,
     "metadata": {},
     "output_type": "execute_result"
    }
   ],
   "source": [
    "#Print last five lines of the imported csv file to ensure all data was imported\n",
    "df.tail(5)"
   ]
  },
  {
   "cell_type": "code",
   "execution_count": 31,
   "id": "7264cb01-a862-4345-bfb7-a822df607176",
   "metadata": {},
   "outputs": [
    {
     "data": {
      "text/html": [
       "<pre style=\"white-space:pre;overflow-x:auto;line-height:normal;font-family:Menlo,'DejaVu Sans Mono',consolas,'Courier New',monospace\">╭──────────────────────────────────────────────── skimpy summary ─────────────────────────────────────────────────╮\n",
       "│ <span style=\"font-style: italic\">         Data Summary         </span> <span style=\"font-style: italic\">      Data Types       </span>                                                          │\n",
       "│ ┏━━━━━━━━━━━━━━━━━━━┳━━━━━━━━┓ ┏━━━━━━━━━━━━━┳━━━━━━━┓                                                          │\n",
       "│ ┃<span style=\"color: #008080; text-decoration-color: #008080; font-weight: bold\"> dataframe         </span>┃<span style=\"color: #008080; text-decoration-color: #008080; font-weight: bold\"> Values </span>┃ ┃<span style=\"color: #008080; text-decoration-color: #008080; font-weight: bold\"> Column Type </span>┃<span style=\"color: #008080; text-decoration-color: #008080; font-weight: bold\"> Count </span>┃                                                          │\n",
       "│ ┡━━━━━━━━━━━━━━━━━━━╇━━━━━━━━┩ ┡━━━━━━━━━━━━━╇━━━━━━━┩                                                          │\n",
       "│ │ Number of rows    │ 131    │ │ float64     │ 4     │                                                          │\n",
       "│ │ Number of columns │ 7      │ │ string      │ 3     │                                                          │\n",
       "│ └───────────────────┴────────┘ └─────────────┴───────┘                                                          │\n",
       "│ <span style=\"font-style: italic\">                                                    number                                                    </span>  │\n",
       "│ ┏━━━━━━━━━━━━━━━━━━━━━━━━━━┳━━━━━━┳━━━━━━━━┳━━━━━━━━┳━━━━━━━━┳━━━━━━┳━━━━━━━━┳━━━━━━┳━━━━━━┳━━━━━━━┳━━━━━━━━━┓  │\n",
       "│ ┃<span style=\"font-weight: bold\"> column_name              </span>┃<span style=\"font-weight: bold\"> NA   </span>┃<span style=\"font-weight: bold\"> NA %   </span>┃<span style=\"font-weight: bold\"> mean   </span>┃<span style=\"font-weight: bold\"> sd     </span>┃<span style=\"font-weight: bold\"> p0   </span>┃<span style=\"font-weight: bold\"> p25    </span>┃<span style=\"font-weight: bold\"> p50  </span>┃<span style=\"font-weight: bold\"> p75  </span>┃<span style=\"font-weight: bold\"> p100  </span>┃<span style=\"font-weight: bold\"> hist    </span>┃  │\n",
       "│ ┡━━━━━━━━━━━━━━━━━━━━━━━━━━╇━━━━━━╇━━━━━━━━╇━━━━━━━━╇━━━━━━━━╇━━━━━━╇━━━━━━━━╇━━━━━━╇━━━━━━╇━━━━━━━╇━━━━━━━━━┩  │\n",
       "│ │ <span style=\"color: #af87ff; text-decoration-color: #af87ff\">breaths_per_minute      </span> │ <span style=\"color: #008080; text-decoration-color: #008080\">  13</span> │ <span style=\"color: #008080; text-decoration-color: #008080\">  9.92</span> │ <span style=\"color: #008080; text-decoration-color: #008080\">    17</span> │ <span style=\"color: #008080; text-decoration-color: #008080\">   4.2</span> │ <span style=\"color: #008080; text-decoration-color: #008080\">   9</span> │ <span style=\"color: #008080; text-decoration-color: #008080\">    13</span> │ <span style=\"color: #008080; text-decoration-color: #008080\">  15</span> │ <span style=\"color: #008080; text-decoration-color: #008080\">  19</span> │ <span style=\"color: #008080; text-decoration-color: #008080\">   31</span> │ <span style=\"color: #008000; text-decoration-color: #008000\"> ▂▇▃▃  </span> │  │\n",
       "│ │ <span style=\"color: #af87ff; text-decoration-color: #af87ff\">furosemide_dose         </span> │ <span style=\"color: #008080; text-decoration-color: #008080\">   1</span> │ <span style=\"color: #008080; text-decoration-color: #008080\">  0.76</span> │ <span style=\"color: #008080; text-decoration-color: #008080\">  0.67</span> │ <span style=\"color: #008080; text-decoration-color: #008080\">  0.13</span> │ <span style=\"color: #008080; text-decoration-color: #008080\"> 0.5</span> │ <span style=\"color: #008080; text-decoration-color: #008080\">  0.54</span> │ <span style=\"color: #008080; text-decoration-color: #008080\"> 0.7</span> │ <span style=\"color: #008080; text-decoration-color: #008080\"> 0.8</span> │ <span style=\"color: #008080; text-decoration-color: #008080\">  0.8</span> │ <span style=\"color: #008000; text-decoration-color: #008000\">▅▂▂▂ ▇ </span> │  │\n",
       "│ │ <span style=\"color: #af87ff; text-decoration-color: #af87ff\">vetmedin_dose           </span> │ <span style=\"color: #008080; text-decoration-color: #008080\">   0</span> │ <span style=\"color: #008080; text-decoration-color: #008080\">     0</span> │ <span style=\"color: #008080; text-decoration-color: #008080\">   1.2</span> │ <span style=\"color: #008080; text-decoration-color: #008080\">     0</span> │ <span style=\"color: #008080; text-decoration-color: #008080\"> 1.2</span> │ <span style=\"color: #008080; text-decoration-color: #008080\">   1.2</span> │ <span style=\"color: #008080; text-decoration-color: #008080\"> 1.2</span> │ <span style=\"color: #008080; text-decoration-color: #008080\"> 1.2</span> │ <span style=\"color: #008080; text-decoration-color: #008080\">  1.2</span> │ <span style=\"color: #008000; text-decoration-color: #008000\">    ▇  </span> │  │\n",
       "│ │ <span style=\"color: #af87ff; text-decoration-color: #af87ff\">enalapril_dose          </span> │ <span style=\"color: #008080; text-decoration-color: #008080\">   0</span> │ <span style=\"color: #008080; text-decoration-color: #008080\">     0</span> │ <span style=\"color: #008080; text-decoration-color: #008080\">   1.2</span> │ <span style=\"color: #008080; text-decoration-color: #008080\">     0</span> │ <span style=\"color: #008080; text-decoration-color: #008080\"> 1.2</span> │ <span style=\"color: #008080; text-decoration-color: #008080\">   1.2</span> │ <span style=\"color: #008080; text-decoration-color: #008080\"> 1.2</span> │ <span style=\"color: #008080; text-decoration-color: #008080\"> 1.2</span> │ <span style=\"color: #008080; text-decoration-color: #008080\">  1.2</span> │ <span style=\"color: #008000; text-decoration-color: #008000\">    ▇  </span> │  │\n",
       "│ └──────────────────────────┴──────┴────────┴────────┴────────┴──────┴────────┴──────┴──────┴───────┴─────────┘  │\n",
       "│ <span style=\"font-style: italic\">                                                    string                                                    </span>  │\n",
       "│ ┏━━━━━━━━━━━━━━━━━━━━━━━━━━━┳━━━━━━━━━┳━━━━━━━━━━━━┳━━━━━━━━━━━━━━━━━━━━━━━━━━━━━━┳━━━━━━━━━━━━━━━━━━━━━━━━━━┓  │\n",
       "│ ┃<span style=\"font-weight: bold\"> column_name               </span>┃<span style=\"font-weight: bold\"> NA      </span>┃<span style=\"font-weight: bold\"> NA %       </span>┃<span style=\"font-weight: bold\"> words per row                </span>┃<span style=\"font-weight: bold\"> total words              </span>┃  │\n",
       "│ ┡━━━━━━━━━━━━━━━━━━━━━━━━━━━╇━━━━━━━━━╇━━━━━━━━━━━━╇━━━━━━━━━━━━━━━━━━━━━━━━━━━━━━╇━━━━━━━━━━━━━━━━━━━━━━━━━━┩  │\n",
       "│ │ <span style=\"color: #af87ff; text-decoration-color: #af87ff\">date_time                </span> │ <span style=\"color: #008080; text-decoration-color: #008080\">      0</span> │ <span style=\"color: #008080; text-decoration-color: #008080\">         0</span> │ <span style=\"color: #008080; text-decoration-color: #008080\">                           2</span> │ <span style=\"color: #008080; text-decoration-color: #008080\">                     262</span> │  │\n",
       "│ │ <span style=\"color: #af87ff; text-decoration-color: #af87ff\">date                     </span> │ <span style=\"color: #008080; text-decoration-color: #008080\">      0</span> │ <span style=\"color: #008080; text-decoration-color: #008080\">         0</span> │ <span style=\"color: #008080; text-decoration-color: #008080\">                           1</span> │ <span style=\"color: #008080; text-decoration-color: #008080\">                     131</span> │  │\n",
       "│ │ <span style=\"color: #af87ff; text-decoration-color: #af87ff\">time                     </span> │ <span style=\"color: #008080; text-decoration-color: #008080\">      0</span> │ <span style=\"color: #008080; text-decoration-color: #008080\">         0</span> │ <span style=\"color: #008080; text-decoration-color: #008080\">                         1.6</span> │ <span style=\"color: #008080; text-decoration-color: #008080\">                     205</span> │  │\n",
       "│ └───────────────────────────┴─────────┴────────────┴──────────────────────────────┴──────────────────────────┘  │\n",
       "╰────────────────────────────────────────────────────── End ──────────────────────────────────────────────────────╯\n",
       "</pre>\n"
      ],
      "text/plain": [
       "╭──────────────────────────────────────────────── skimpy summary ─────────────────────────────────────────────────╮\n",
       "│ \u001b[3m         Data Summary         \u001b[0m \u001b[3m      Data Types       \u001b[0m                                                          │\n",
       "│ ┏━━━━━━━━━━━━━━━━━━━┳━━━━━━━━┓ ┏━━━━━━━━━━━━━┳━━━━━━━┓                                                          │\n",
       "│ ┃\u001b[1;36m \u001b[0m\u001b[1;36mdataframe        \u001b[0m\u001b[1;36m \u001b[0m┃\u001b[1;36m \u001b[0m\u001b[1;36mValues\u001b[0m\u001b[1;36m \u001b[0m┃ ┃\u001b[1;36m \u001b[0m\u001b[1;36mColumn Type\u001b[0m\u001b[1;36m \u001b[0m┃\u001b[1;36m \u001b[0m\u001b[1;36mCount\u001b[0m\u001b[1;36m \u001b[0m┃                                                          │\n",
       "│ ┡━━━━━━━━━━━━━━━━━━━╇━━━━━━━━┩ ┡━━━━━━━━━━━━━╇━━━━━━━┩                                                          │\n",
       "│ │ Number of rows    │ 131    │ │ float64     │ 4     │                                                          │\n",
       "│ │ Number of columns │ 7      │ │ string      │ 3     │                                                          │\n",
       "│ └───────────────────┴────────┘ └─────────────┴───────┘                                                          │\n",
       "│ \u001b[3m                                                    number                                                    \u001b[0m  │\n",
       "│ ┏━━━━━━━━━━━━━━━━━━━━━━━━━━┳━━━━━━┳━━━━━━━━┳━━━━━━━━┳━━━━━━━━┳━━━━━━┳━━━━━━━━┳━━━━━━┳━━━━━━┳━━━━━━━┳━━━━━━━━━┓  │\n",
       "│ ┃\u001b[1m \u001b[0m\u001b[1mcolumn_name             \u001b[0m\u001b[1m \u001b[0m┃\u001b[1m \u001b[0m\u001b[1mNA  \u001b[0m\u001b[1m \u001b[0m┃\u001b[1m \u001b[0m\u001b[1mNA %  \u001b[0m\u001b[1m \u001b[0m┃\u001b[1m \u001b[0m\u001b[1mmean  \u001b[0m\u001b[1m \u001b[0m┃\u001b[1m \u001b[0m\u001b[1msd    \u001b[0m\u001b[1m \u001b[0m┃\u001b[1m \u001b[0m\u001b[1mp0  \u001b[0m\u001b[1m \u001b[0m┃\u001b[1m \u001b[0m\u001b[1mp25   \u001b[0m\u001b[1m \u001b[0m┃\u001b[1m \u001b[0m\u001b[1mp50 \u001b[0m\u001b[1m \u001b[0m┃\u001b[1m \u001b[0m\u001b[1mp75 \u001b[0m\u001b[1m \u001b[0m┃\u001b[1m \u001b[0m\u001b[1mp100 \u001b[0m\u001b[1m \u001b[0m┃\u001b[1m \u001b[0m\u001b[1mhist   \u001b[0m\u001b[1m \u001b[0m┃  │\n",
       "│ ┡━━━━━━━━━━━━━━━━━━━━━━━━━━╇━━━━━━╇━━━━━━━━╇━━━━━━━━╇━━━━━━━━╇━━━━━━╇━━━━━━━━╇━━━━━━╇━━━━━━╇━━━━━━━╇━━━━━━━━━┩  │\n",
       "│ │ \u001b[38;5;141mbreaths_per_minute      \u001b[0m │ \u001b[36m  13\u001b[0m │ \u001b[36m  9.92\u001b[0m │ \u001b[36m    17\u001b[0m │ \u001b[36m   4.2\u001b[0m │ \u001b[36m   9\u001b[0m │ \u001b[36m    13\u001b[0m │ \u001b[36m  15\u001b[0m │ \u001b[36m  19\u001b[0m │ \u001b[36m   31\u001b[0m │ \u001b[32m ▂▇▃▃  \u001b[0m │  │\n",
       "│ │ \u001b[38;5;141mfurosemide_dose         \u001b[0m │ \u001b[36m   1\u001b[0m │ \u001b[36m  0.76\u001b[0m │ \u001b[36m  0.67\u001b[0m │ \u001b[36m  0.13\u001b[0m │ \u001b[36m 0.5\u001b[0m │ \u001b[36m  0.54\u001b[0m │ \u001b[36m 0.7\u001b[0m │ \u001b[36m 0.8\u001b[0m │ \u001b[36m  0.8\u001b[0m │ \u001b[32m▅▂▂▂ ▇ \u001b[0m │  │\n",
       "│ │ \u001b[38;5;141mvetmedin_dose           \u001b[0m │ \u001b[36m   0\u001b[0m │ \u001b[36m     0\u001b[0m │ \u001b[36m   1.2\u001b[0m │ \u001b[36m     0\u001b[0m │ \u001b[36m 1.2\u001b[0m │ \u001b[36m   1.2\u001b[0m │ \u001b[36m 1.2\u001b[0m │ \u001b[36m 1.2\u001b[0m │ \u001b[36m  1.2\u001b[0m │ \u001b[32m    ▇  \u001b[0m │  │\n",
       "│ │ \u001b[38;5;141menalapril_dose          \u001b[0m │ \u001b[36m   0\u001b[0m │ \u001b[36m     0\u001b[0m │ \u001b[36m   1.2\u001b[0m │ \u001b[36m     0\u001b[0m │ \u001b[36m 1.2\u001b[0m │ \u001b[36m   1.2\u001b[0m │ \u001b[36m 1.2\u001b[0m │ \u001b[36m 1.2\u001b[0m │ \u001b[36m  1.2\u001b[0m │ \u001b[32m    ▇  \u001b[0m │  │\n",
       "│ └──────────────────────────┴──────┴────────┴────────┴────────┴──────┴────────┴──────┴──────┴───────┴─────────┘  │\n",
       "│ \u001b[3m                                                    string                                                    \u001b[0m  │\n",
       "│ ┏━━━━━━━━━━━━━━━━━━━━━━━━━━━┳━━━━━━━━━┳━━━━━━━━━━━━┳━━━━━━━━━━━━━━━━━━━━━━━━━━━━━━┳━━━━━━━━━━━━━━━━━━━━━━━━━━┓  │\n",
       "│ ┃\u001b[1m \u001b[0m\u001b[1mcolumn_name              \u001b[0m\u001b[1m \u001b[0m┃\u001b[1m \u001b[0m\u001b[1mNA     \u001b[0m\u001b[1m \u001b[0m┃\u001b[1m \u001b[0m\u001b[1mNA %      \u001b[0m\u001b[1m \u001b[0m┃\u001b[1m \u001b[0m\u001b[1mwords per row               \u001b[0m\u001b[1m \u001b[0m┃\u001b[1m \u001b[0m\u001b[1mtotal words             \u001b[0m\u001b[1m \u001b[0m┃  │\n",
       "│ ┡━━━━━━━━━━━━━━━━━━━━━━━━━━━╇━━━━━━━━━╇━━━━━━━━━━━━╇━━━━━━━━━━━━━━━━━━━━━━━━━━━━━━╇━━━━━━━━━━━━━━━━━━━━━━━━━━┩  │\n",
       "│ │ \u001b[38;5;141mdate_time                \u001b[0m │ \u001b[36m      0\u001b[0m │ \u001b[36m         0\u001b[0m │ \u001b[36m                           2\u001b[0m │ \u001b[36m                     262\u001b[0m │  │\n",
       "│ │ \u001b[38;5;141mdate                     \u001b[0m │ \u001b[36m      0\u001b[0m │ \u001b[36m         0\u001b[0m │ \u001b[36m                           1\u001b[0m │ \u001b[36m                     131\u001b[0m │  │\n",
       "│ │ \u001b[38;5;141mtime                     \u001b[0m │ \u001b[36m      0\u001b[0m │ \u001b[36m         0\u001b[0m │ \u001b[36m                         1.6\u001b[0m │ \u001b[36m                     205\u001b[0m │  │\n",
       "│ └───────────────────────────┴─────────┴────────────┴──────────────────────────────┴──────────────────────────┘  │\n",
       "╰────────────────────────────────────────────────────── End ──────────────────────────────────────────────────────╯\n"
      ]
     },
     "metadata": {},
     "output_type": "display_data"
    }
   ],
   "source": [
    "#Skim in order to better understand the data\n",
    "skim(df)"
   ]
  },
  {
   "cell_type": "code",
   "execution_count": 32,
   "id": "85793158-d2dd-48bb-967e-94a94533591d",
   "metadata": {},
   "outputs": [
    {
     "data": {
      "image/png": "[encoded data removed]",
      "text/plain": [
       "<Figure size 1000x400 with 1 Axes>"
      ]
     },
     "metadata": {},
     "output_type": "display_data"
    }
   ],
   "source": [
    "#Create an x date dataframe, y breaths per minute data frame. Combine both into the variable data. \n",
    "x = df['date']\n",
    "y = df['breaths_per_minute']\n",
    "data = pd.DataFrame({'Date': x, 'Breaths per Minute': y})\n",
    "\n",
    "# Create scatter plot\n",
    "plt.figure(figsize=(10, 4))\n",
    "sns.scatterplot(x='Date', y='Breaths per Minute', data=data)\n",
    "\n",
    "# Format x-axis labels\n",
    "plt.xticks(rotation=90, ha='right')\n",
    "# Set y-axis range\n",
    "plt.ylim(0, 40)\n",
    "\n",
    "# Add title and labels\n",
    "plt.title('Claires Breaths per Minute Observations')\n",
    "plt.xlabel('Date')\n",
    "plt.ylabel('Breaths per Minute')\n",
    "\n",
    "plt.tight_layout()\n",
    "plt.show()"
   ]
  },
  {
   "cell_type": "code",
   "execution_count": 33,
   "id": "2ee24576-8315-4422-b37c-4271d46808db",
   "metadata": {},
   "outputs": [
    {
     "data": {
      "text/plain": [
       "Text(0, 0.5, 'Number of Data Points')"
      ]
     },
     "execution_count": 33,
     "metadata": {},
     "output_type": "execute_result"
    },
    {
     "data": {
      "image/png": "[encoded data removed]",
      "text/plain": [
       "<Figure size 640x480 with 1 Axes>"
      ]
     },
     "metadata": {},
     "output_type": "display_data"
    }
   ],
   "source": [
    "plt.hist(df['breaths_per_minute'], bins = range(0,50,2))\n",
    "plt.title('Breathing Data')\n",
    "plt.xlabel('Breaths Per Minute')\n",
    "plt.ylabel('Number of Data Points')"
   ]
  },
  {
   "cell_type": "code",
   "execution_count": 34,
   "id": "da5c3c8d-4e37-42ee-a6c5-ccda1155b4e0",
   "metadata": {
    "scrolled": true
   },
   "outputs": [
    {
     "name": "stdout",
     "output_type": "stream",
     "text": [
      "                            OLS Regression Results                            \n",
      "==============================================================================\n",
      "Dep. Variable:     breaths_per_minute   R-squared:                       0.018\n",
      "Model:                            OLS   Adj. R-squared:                  0.010\n",
      "Method:                 Least Squares   F-statistic:                     2.138\n",
      "Date:                Mon, 08 Jul 2024   Prob (F-statistic):              0.146\n",
      "Time:                        21:51:17   Log-Likelihood:                -333.11\n",
      "No. Observations:                 117   AIC:                             670.2\n",
      "Df Residuals:                     115   BIC:                             675.7\n",
      "Df Model:                           1                                         \n",
      "Covariance Type:            nonrobust                                         \n",
      "===================================================================================\n",
      "                      coef    std err          t      P>|t|      [0.025      0.975]\n",
      "-----------------------------------------------------------------------------------\n",
      "Intercept          19.5077      2.096      9.305      0.000      15.355      23.660\n",
      "furosemide_dose    -4.4406      3.037     -1.462      0.146     -10.456       1.575\n",
      "==============================================================================\n",
      "Omnibus:                       16.492   Durbin-Watson:                   0.890\n",
      "Prob(Omnibus):                  0.000   Jarque-Bera (JB):               18.991\n",
      "Skew:                           0.859   Prob(JB):                     7.52e-05\n",
      "Kurtosis:                       3.970   Cond. No.                         11.4\n",
      "==============================================================================\n",
      "\n",
      "Notes:\n",
      "[1] Standard Errors assume that the covariance matrix of the errors is correctly specified.\n"
     ]
    }
   ],
   "source": [
    "#OLS Regression to determine if the furosemide_dose has a correlation with breaths per minute.\n",
    "#P>|t| value should be greater than 0.05 to be significant. \n",
    "est = ols(formula=\"breaths_per_minute ~ furosemide_dose\", data=df).fit()\n",
    "print(est.summary())"
   ]
  },
  {
   "cell_type": "code",
   "execution_count": 35,
   "id": "5f012905-f57d-4e89-9bb6-3e91bd9e8910",
   "metadata": {},
   "outputs": [
    {
     "name": "stdout",
     "output_type": "stream",
     "text": [
      "           date_time       date      time  breaths_per_minute  \\\n",
      "0    2/24/2024 15:50  2/24/2024     15:50                23.0   \n",
      "1    2/24/2024 15:52  2/24/2024     15:52                22.0   \n",
      "2    2/24/2024 21:34  2/24/2024     21:34                12.0   \n",
      "3    2/24/2024 21:36  2/24/2024     21:36                12.0   \n",
      "4    2/25/2024 13:13  2/25/2024     13:13                14.0   \n",
      "..               ...        ...       ...                 ...   \n",
      "126    7/4/2024 8:15   7/4/2024   8:15 AM                13.0   \n",
      "127   7/4/2024 11:18   7/4/2024  11:18 AM                13.0   \n",
      "128   7/5/2024 11:32   7/5/2024  11:32 AM                15.0   \n",
      "129    7/6/2024 8:12   7/6/2024   8:12 AM                13.0   \n",
      "130   7/7/2024 23:35   7/7/2024  11:35 PM                 9.0   \n",
      "\n",
      "     furosemide_dose  vetmedin_dose  enalapril_dose  \n",
      "0                0.7           1.25            1.25  \n",
      "1                0.7           1.25            1.25  \n",
      "2                0.7           1.25            1.25  \n",
      "3                0.7           1.25            1.25  \n",
      "4                0.7           1.25            1.25  \n",
      "..               ...            ...             ...  \n",
      "126              0.8           1.25            1.25  \n",
      "127              0.8           1.25            1.25  \n",
      "128              0.8           1.25            1.25  \n",
      "129              0.8           1.25            1.25  \n",
      "130              0.8           1.25            1.25  \n",
      "\n",
      "[131 rows x 7 columns]\n"
     ]
    }
   ],
   "source": [
    "print(df)"
   ]
  },
  {
   "cell_type": "code",
   "execution_count": null,
   "id": "3255c204-7608-4109-9a0d-196b01bec433",
   "metadata": {},
   "outputs": [],
   "source": []
  }
 ],
 "metadata": {
  "kernelspec": {
   "display_name": "Python 3 (ipykernel)",
   "language": "python",
   "name": "python3"
  },
  "language_info": {
   "codemirror_mode": {
    "name": "ipython",
    "version": 3
   },
   "file_extension": ".py",
   "mimetype": "text/x-python",
   "name": "python",
   "nbconvert_exporter": "python",
   "pygments_lexer": "ipython3",
   "version": "3.12.1"
  }
 },
 "nbformat": 4,
 "nbformat_minor": 5
}
